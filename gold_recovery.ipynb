{
 "cells": [
  {
   "cell_type": "markdown",
   "metadata": {},
   "source": [
    "# Восстановление золота из руды"
   ]
  },
  {
   "cell_type": "markdown",
   "metadata": {},
   "source": [
    "Необходимо создать прототип модели машинного обучения для «Цифры». Компания разрабатывает решения для эффективной работы промышленных предприятий.\n",
    "\n",
    "Модель должна предсказать коэффициент восстановления золота из золотосодержащей руды. Предоставлены данные с параметрами добычи и очистки. \n",
    "\n",
    "Модель поможет оптимизировать производство, чтобы не запускать предприятие с убыточными характеристиками."
   ]
  },
  {
   "cell_type": "markdown",
   "metadata": {},
   "source": [
    "## Подготовка данных"
   ]
  },
  {
   "cell_type": "markdown",
   "metadata": {},
   "source": [
    "### Знакомство с данными."
   ]
  },
  {
   "cell_type": "code",
   "execution_count": 2,
   "metadata": {},
   "outputs": [],
   "source": [
    "import pandas as pd\n",
    "import matplotlib.pyplot as plt\n",
    "from sklearn.metrics import mean_absolute_error\n",
    "import seaborn as sns\n",
    "import numpy as np\n",
    "from sklearn.ensemble import RandomForestRegressor\n",
    "from tqdm import tqdm\n",
    "from sklearn.model_selection import cross_val_score\n",
    "from sklearn.metrics import make_scorer"
   ]
  },
  {
   "cell_type": "code",
   "execution_count": 3,
   "metadata": {},
   "outputs": [],
   "source": [
    "gold_recovery_train = pd.read_csv('/datasets/gold_recovery_train_new.csv')\n",
    "gold_recovery_test = pd.read_csv('/datasets/gold_recovery_test_new.csv')\n",
    "gold_recovery_full = pd.read_csv('/datasets/gold_recovery_full_new.csv')"
   ]
  },
  {
   "cell_type": "code",
   "execution_count": 4,
   "metadata": {
    "scrolled": true
   },
   "outputs": [
    {
     "name": "stdout",
     "output_type": "stream",
     "text": [
      "<class 'pandas.core.frame.DataFrame'>\n",
      "RangeIndex: 19439 entries, 0 to 19438\n",
      "Data columns (total 87 columns):\n",
      " #   Column                                              Non-Null Count  Dtype  \n",
      "---  ------                                              --------------  -----  \n",
      " 0   date                                                19439 non-null  object \n",
      " 1   final.output.concentrate_ag                         19438 non-null  float64\n",
      " 2   final.output.concentrate_pb                         19438 non-null  float64\n",
      " 3   final.output.concentrate_sol                        19228 non-null  float64\n",
      " 4   final.output.concentrate_au                         19439 non-null  float64\n",
      " 5   final.output.recovery                               19439 non-null  float64\n",
      " 6   final.output.tail_ag                                19438 non-null  float64\n",
      " 7   final.output.tail_pb                                19338 non-null  float64\n",
      " 8   final.output.tail_sol                               19433 non-null  float64\n",
      " 9   final.output.tail_au                                19439 non-null  float64\n",
      " 10  primary_cleaner.input.sulfate                       19415 non-null  float64\n",
      " 11  primary_cleaner.input.depressant                    19402 non-null  float64\n",
      " 12  primary_cleaner.input.feed_size                     19439 non-null  float64\n",
      " 13  primary_cleaner.input.xanthate                      19335 non-null  float64\n",
      " 14  primary_cleaner.output.concentrate_ag               19439 non-null  float64\n",
      " 15  primary_cleaner.output.concentrate_pb               19323 non-null  float64\n",
      " 16  primary_cleaner.output.concentrate_sol              19069 non-null  float64\n",
      " 17  primary_cleaner.output.concentrate_au               19439 non-null  float64\n",
      " 18  primary_cleaner.output.tail_ag                      19435 non-null  float64\n",
      " 19  primary_cleaner.output.tail_pb                      19418 non-null  float64\n",
      " 20  primary_cleaner.output.tail_sol                     19377 non-null  float64\n",
      " 21  primary_cleaner.output.tail_au                      19439 non-null  float64\n",
      " 22  primary_cleaner.state.floatbank8_a_air              19435 non-null  float64\n",
      " 23  primary_cleaner.state.floatbank8_a_level            19438 non-null  float64\n",
      " 24  primary_cleaner.state.floatbank8_b_air              19435 non-null  float64\n",
      " 25  primary_cleaner.state.floatbank8_b_level            19438 non-null  float64\n",
      " 26  primary_cleaner.state.floatbank8_c_air              19437 non-null  float64\n",
      " 27  primary_cleaner.state.floatbank8_c_level            19438 non-null  float64\n",
      " 28  primary_cleaner.state.floatbank8_d_air              19436 non-null  float64\n",
      " 29  primary_cleaner.state.floatbank8_d_level            19438 non-null  float64\n",
      " 30  rougher.calculation.sulfate_to_au_concentrate       19437 non-null  float64\n",
      " 31  rougher.calculation.floatbank10_sulfate_to_au_feed  19437 non-null  float64\n",
      " 32  rougher.calculation.floatbank11_sulfate_to_au_feed  19437 non-null  float64\n",
      " 33  rougher.calculation.au_pb_ratio                     19439 non-null  float64\n",
      " 34  rougher.input.feed_ag                               19439 non-null  float64\n",
      " 35  rougher.input.feed_pb                               19339 non-null  float64\n",
      " 36  rougher.input.feed_rate                             19428 non-null  float64\n",
      " 37  rougher.input.feed_size                             19294 non-null  float64\n",
      " 38  rougher.input.feed_sol                              19340 non-null  float64\n",
      " 39  rougher.input.feed_au                               19439 non-null  float64\n",
      " 40  rougher.input.floatbank10_sulfate                   19405 non-null  float64\n",
      " 41  rougher.input.floatbank10_xanthate                  19431 non-null  float64\n",
      " 42  rougher.input.floatbank11_sulfate                   19395 non-null  float64\n",
      " 43  rougher.input.floatbank11_xanthate                  18986 non-null  float64\n",
      " 44  rougher.output.concentrate_ag                       19439 non-null  float64\n",
      " 45  rougher.output.concentrate_pb                       19439 non-null  float64\n",
      " 46  rougher.output.concentrate_sol                      19416 non-null  float64\n",
      " 47  rougher.output.concentrate_au                       19439 non-null  float64\n",
      " 48  rougher.output.recovery                             19439 non-null  float64\n",
      " 49  rougher.output.tail_ag                              19438 non-null  float64\n",
      " 50  rougher.output.tail_pb                              19439 non-null  float64\n",
      " 51  rougher.output.tail_sol                             19439 non-null  float64\n",
      " 52  rougher.output.tail_au                              19439 non-null  float64\n",
      " 53  rougher.state.floatbank10_a_air                     19438 non-null  float64\n",
      " 54  rougher.state.floatbank10_a_level                   19438 non-null  float64\n",
      " 55  rougher.state.floatbank10_b_air                     19438 non-null  float64\n",
      " 56  rougher.state.floatbank10_b_level                   19438 non-null  float64\n",
      " 57  rougher.state.floatbank10_c_air                     19438 non-null  float64\n",
      " 58  rougher.state.floatbank10_c_level                   19438 non-null  float64\n",
      " 59  rougher.state.floatbank10_d_air                     19439 non-null  float64\n",
      " 60  rougher.state.floatbank10_d_level                   19439 non-null  float64\n",
      " 61  rougher.state.floatbank10_e_air                     19003 non-null  float64\n",
      " 62  rougher.state.floatbank10_e_level                   19439 non-null  float64\n",
      " 63  rougher.state.floatbank10_f_air                     19439 non-null  float64\n",
      " 64  rougher.state.floatbank10_f_level                   19439 non-null  float64\n",
      " 65  secondary_cleaner.output.tail_ag                    19437 non-null  float64\n",
      " 66  secondary_cleaner.output.tail_pb                    19427 non-null  float64\n",
      " 67  secondary_cleaner.output.tail_sol                   17691 non-null  float64\n",
      " 68  secondary_cleaner.output.tail_au                    19439 non-null  float64\n",
      " 69  secondary_cleaner.state.floatbank2_a_air            19219 non-null  float64\n",
      " 70  secondary_cleaner.state.floatbank2_a_level          19438 non-null  float64\n",
      " 71  secondary_cleaner.state.floatbank2_b_air            19416 non-null  float64\n",
      " 72  secondary_cleaner.state.floatbank2_b_level          19438 non-null  float64\n",
      " 73  secondary_cleaner.state.floatbank3_a_air            19426 non-null  float64\n",
      " 74  secondary_cleaner.state.floatbank3_a_level          19438 non-null  float64\n",
      " 75  secondary_cleaner.state.floatbank3_b_air            19438 non-null  float64\n",
      " 76  secondary_cleaner.state.floatbank3_b_level          19438 non-null  float64\n",
      " 77  secondary_cleaner.state.floatbank4_a_air            19433 non-null  float64\n",
      " 78  secondary_cleaner.state.floatbank4_a_level          19438 non-null  float64\n",
      " 79  secondary_cleaner.state.floatbank4_b_air            19438 non-null  float64\n",
      " 80  secondary_cleaner.state.floatbank4_b_level          19438 non-null  float64\n",
      " 81  secondary_cleaner.state.floatbank5_a_air            19438 non-null  float64\n",
      " 82  secondary_cleaner.state.floatbank5_a_level          19438 non-null  float64\n",
      " 83  secondary_cleaner.state.floatbank5_b_air            19438 non-null  float64\n",
      " 84  secondary_cleaner.state.floatbank5_b_level          19438 non-null  float64\n",
      " 85  secondary_cleaner.state.floatbank6_a_air            19437 non-null  float64\n",
      " 86  secondary_cleaner.state.floatbank6_a_level          19438 non-null  float64\n",
      "dtypes: float64(86), object(1)\n",
      "memory usage: 12.9+ MB\n"
     ]
    }
   ],
   "source": [
    "gold_recovery_full.info()"
   ]
  },
  {
   "cell_type": "code",
   "execution_count": 5,
   "metadata": {
    "scrolled": true
   },
   "outputs": [
    {
     "name": "stdout",
     "output_type": "stream",
     "text": [
      "<class 'pandas.core.frame.DataFrame'>\n",
      "RangeIndex: 14149 entries, 0 to 14148\n",
      "Data columns (total 87 columns):\n",
      " #   Column                                              Non-Null Count  Dtype  \n",
      "---  ------                                              --------------  -----  \n",
      " 0   date                                                14149 non-null  object \n",
      " 1   final.output.concentrate_ag                         14148 non-null  float64\n",
      " 2   final.output.concentrate_pb                         14148 non-null  float64\n",
      " 3   final.output.concentrate_sol                        13938 non-null  float64\n",
      " 4   final.output.concentrate_au                         14149 non-null  float64\n",
      " 5   final.output.recovery                               14149 non-null  float64\n",
      " 6   final.output.tail_ag                                14149 non-null  float64\n",
      " 7   final.output.tail_pb                                14049 non-null  float64\n",
      " 8   final.output.tail_sol                               14144 non-null  float64\n",
      " 9   final.output.tail_au                                14149 non-null  float64\n",
      " 10  primary_cleaner.input.sulfate                       14129 non-null  float64\n",
      " 11  primary_cleaner.input.depressant                    14117 non-null  float64\n",
      " 12  primary_cleaner.input.feed_size                     14149 non-null  float64\n",
      " 13  primary_cleaner.input.xanthate                      14049 non-null  float64\n",
      " 14  primary_cleaner.output.concentrate_ag               14149 non-null  float64\n",
      " 15  primary_cleaner.output.concentrate_pb               14063 non-null  float64\n",
      " 16  primary_cleaner.output.concentrate_sol              13863 non-null  float64\n",
      " 17  primary_cleaner.output.concentrate_au               14149 non-null  float64\n",
      " 18  primary_cleaner.output.tail_ag                      14148 non-null  float64\n",
      " 19  primary_cleaner.output.tail_pb                      14134 non-null  float64\n",
      " 20  primary_cleaner.output.tail_sol                     14103 non-null  float64\n",
      " 21  primary_cleaner.output.tail_au                      14149 non-null  float64\n",
      " 22  primary_cleaner.state.floatbank8_a_air              14145 non-null  float64\n",
      " 23  primary_cleaner.state.floatbank8_a_level            14148 non-null  float64\n",
      " 24  primary_cleaner.state.floatbank8_b_air              14145 non-null  float64\n",
      " 25  primary_cleaner.state.floatbank8_b_level            14148 non-null  float64\n",
      " 26  primary_cleaner.state.floatbank8_c_air              14147 non-null  float64\n",
      " 27  primary_cleaner.state.floatbank8_c_level            14148 non-null  float64\n",
      " 28  primary_cleaner.state.floatbank8_d_air              14146 non-null  float64\n",
      " 29  primary_cleaner.state.floatbank8_d_level            14148 non-null  float64\n",
      " 30  rougher.calculation.sulfate_to_au_concentrate       14148 non-null  float64\n",
      " 31  rougher.calculation.floatbank10_sulfate_to_au_feed  14148 non-null  float64\n",
      " 32  rougher.calculation.floatbank11_sulfate_to_au_feed  14148 non-null  float64\n",
      " 33  rougher.calculation.au_pb_ratio                     14149 non-null  float64\n",
      " 34  rougher.input.feed_ag                               14149 non-null  float64\n",
      " 35  rougher.input.feed_pb                               14049 non-null  float64\n",
      " 36  rougher.input.feed_rate                             14141 non-null  float64\n",
      " 37  rougher.input.feed_size                             14005 non-null  float64\n",
      " 38  rougher.input.feed_sol                              14071 non-null  float64\n",
      " 39  rougher.input.feed_au                               14149 non-null  float64\n",
      " 40  rougher.input.floatbank10_sulfate                   14120 non-null  float64\n",
      " 41  rougher.input.floatbank10_xanthate                  14141 non-null  float64\n",
      " 42  rougher.input.floatbank11_sulfate                   14113 non-null  float64\n",
      " 43  rougher.input.floatbank11_xanthate                  13721 non-null  float64\n",
      " 44  rougher.output.concentrate_ag                       14149 non-null  float64\n",
      " 45  rougher.output.concentrate_pb                       14149 non-null  float64\n",
      " 46  rougher.output.concentrate_sol                      14127 non-null  float64\n",
      " 47  rougher.output.concentrate_au                       14149 non-null  float64\n",
      " 48  rougher.output.recovery                             14149 non-null  float64\n",
      " 49  rougher.output.tail_ag                              14148 non-null  float64\n",
      " 50  rougher.output.tail_pb                              14149 non-null  float64\n",
      " 51  rougher.output.tail_sol                             14149 non-null  float64\n",
      " 52  rougher.output.tail_au                              14149 non-null  float64\n",
      " 53  rougher.state.floatbank10_a_air                     14148 non-null  float64\n",
      " 54  rougher.state.floatbank10_a_level                   14148 non-null  float64\n",
      " 55  rougher.state.floatbank10_b_air                     14148 non-null  float64\n",
      " 56  rougher.state.floatbank10_b_level                   14148 non-null  float64\n",
      " 57  rougher.state.floatbank10_c_air                     14148 non-null  float64\n",
      " 58  rougher.state.floatbank10_c_level                   14148 non-null  float64\n",
      " 59  rougher.state.floatbank10_d_air                     14149 non-null  float64\n",
      " 60  rougher.state.floatbank10_d_level                   14149 non-null  float64\n",
      " 61  rougher.state.floatbank10_e_air                     13713 non-null  float64\n",
      " 62  rougher.state.floatbank10_e_level                   14149 non-null  float64\n",
      " 63  rougher.state.floatbank10_f_air                     14149 non-null  float64\n",
      " 64  rougher.state.floatbank10_f_level                   14149 non-null  float64\n",
      " 65  secondary_cleaner.output.tail_ag                    14147 non-null  float64\n",
      " 66  secondary_cleaner.output.tail_pb                    14139 non-null  float64\n",
      " 67  secondary_cleaner.output.tail_sol                   12544 non-null  float64\n",
      " 68  secondary_cleaner.output.tail_au                    14149 non-null  float64\n",
      " 69  secondary_cleaner.state.floatbank2_a_air            13932 non-null  float64\n",
      " 70  secondary_cleaner.state.floatbank2_a_level          14148 non-null  float64\n",
      " 71  secondary_cleaner.state.floatbank2_b_air            14128 non-null  float64\n",
      " 72  secondary_cleaner.state.floatbank2_b_level          14148 non-null  float64\n",
      " 73  secondary_cleaner.state.floatbank3_a_air            14145 non-null  float64\n",
      " 74  secondary_cleaner.state.floatbank3_a_level          14148 non-null  float64\n",
      " 75  secondary_cleaner.state.floatbank3_b_air            14148 non-null  float64\n",
      " 76  secondary_cleaner.state.floatbank3_b_level          14148 non-null  float64\n",
      " 77  secondary_cleaner.state.floatbank4_a_air            14143 non-null  float64\n",
      " 78  secondary_cleaner.state.floatbank4_a_level          14148 non-null  float64\n",
      " 79  secondary_cleaner.state.floatbank4_b_air            14148 non-null  float64\n",
      " 80  secondary_cleaner.state.floatbank4_b_level          14148 non-null  float64\n",
      " 81  secondary_cleaner.state.floatbank5_a_air            14148 non-null  float64\n",
      " 82  secondary_cleaner.state.floatbank5_a_level          14148 non-null  float64\n",
      " 83  secondary_cleaner.state.floatbank5_b_air            14148 non-null  float64\n",
      " 84  secondary_cleaner.state.floatbank5_b_level          14148 non-null  float64\n",
      " 85  secondary_cleaner.state.floatbank6_a_air            14147 non-null  float64\n",
      " 86  secondary_cleaner.state.floatbank6_a_level          14148 non-null  float64\n",
      "dtypes: float64(86), object(1)\n",
      "memory usage: 9.4+ MB\n"
     ]
    }
   ],
   "source": [
    "gold_recovery_train.info()"
   ]
  },
  {
   "cell_type": "code",
   "execution_count": 6,
   "metadata": {
    "scrolled": true
   },
   "outputs": [
    {
     "name": "stdout",
     "output_type": "stream",
     "text": [
      "<class 'pandas.core.frame.DataFrame'>\n",
      "RangeIndex: 5290 entries, 0 to 5289\n",
      "Data columns (total 53 columns):\n",
      " #   Column                                      Non-Null Count  Dtype  \n",
      "---  ------                                      --------------  -----  \n",
      " 0   date                                        5290 non-null   object \n",
      " 1   primary_cleaner.input.sulfate               5286 non-null   float64\n",
      " 2   primary_cleaner.input.depressant            5285 non-null   float64\n",
      " 3   primary_cleaner.input.feed_size             5290 non-null   float64\n",
      " 4   primary_cleaner.input.xanthate              5286 non-null   float64\n",
      " 5   primary_cleaner.state.floatbank8_a_air      5290 non-null   float64\n",
      " 6   primary_cleaner.state.floatbank8_a_level    5290 non-null   float64\n",
      " 7   primary_cleaner.state.floatbank8_b_air      5290 non-null   float64\n",
      " 8   primary_cleaner.state.floatbank8_b_level    5290 non-null   float64\n",
      " 9   primary_cleaner.state.floatbank8_c_air      5290 non-null   float64\n",
      " 10  primary_cleaner.state.floatbank8_c_level    5290 non-null   float64\n",
      " 11  primary_cleaner.state.floatbank8_d_air      5290 non-null   float64\n",
      " 12  primary_cleaner.state.floatbank8_d_level    5290 non-null   float64\n",
      " 13  rougher.input.feed_ag                       5290 non-null   float64\n",
      " 14  rougher.input.feed_pb                       5290 non-null   float64\n",
      " 15  rougher.input.feed_rate                     5287 non-null   float64\n",
      " 16  rougher.input.feed_size                     5289 non-null   float64\n",
      " 17  rougher.input.feed_sol                      5269 non-null   float64\n",
      " 18  rougher.input.feed_au                       5290 non-null   float64\n",
      " 19  rougher.input.floatbank10_sulfate           5285 non-null   float64\n",
      " 20  rougher.input.floatbank10_xanthate          5290 non-null   float64\n",
      " 21  rougher.input.floatbank11_sulfate           5282 non-null   float64\n",
      " 22  rougher.input.floatbank11_xanthate          5265 non-null   float64\n",
      " 23  rougher.state.floatbank10_a_air             5290 non-null   float64\n",
      " 24  rougher.state.floatbank10_a_level           5290 non-null   float64\n",
      " 25  rougher.state.floatbank10_b_air             5290 non-null   float64\n",
      " 26  rougher.state.floatbank10_b_level           5290 non-null   float64\n",
      " 27  rougher.state.floatbank10_c_air             5290 non-null   float64\n",
      " 28  rougher.state.floatbank10_c_level           5290 non-null   float64\n",
      " 29  rougher.state.floatbank10_d_air             5290 non-null   float64\n",
      " 30  rougher.state.floatbank10_d_level           5290 non-null   float64\n",
      " 31  rougher.state.floatbank10_e_air             5290 non-null   float64\n",
      " 32  rougher.state.floatbank10_e_level           5290 non-null   float64\n",
      " 33  rougher.state.floatbank10_f_air             5290 non-null   float64\n",
      " 34  rougher.state.floatbank10_f_level           5290 non-null   float64\n",
      " 35  secondary_cleaner.state.floatbank2_a_air    5287 non-null   float64\n",
      " 36  secondary_cleaner.state.floatbank2_a_level  5290 non-null   float64\n",
      " 37  secondary_cleaner.state.floatbank2_b_air    5288 non-null   float64\n",
      " 38  secondary_cleaner.state.floatbank2_b_level  5290 non-null   float64\n",
      " 39  secondary_cleaner.state.floatbank3_a_air    5281 non-null   float64\n",
      " 40  secondary_cleaner.state.floatbank3_a_level  5290 non-null   float64\n",
      " 41  secondary_cleaner.state.floatbank3_b_air    5290 non-null   float64\n",
      " 42  secondary_cleaner.state.floatbank3_b_level  5290 non-null   float64\n",
      " 43  secondary_cleaner.state.floatbank4_a_air    5290 non-null   float64\n",
      " 44  secondary_cleaner.state.floatbank4_a_level  5290 non-null   float64\n",
      " 45  secondary_cleaner.state.floatbank4_b_air    5290 non-null   float64\n",
      " 46  secondary_cleaner.state.floatbank4_b_level  5290 non-null   float64\n",
      " 47  secondary_cleaner.state.floatbank5_a_air    5290 non-null   float64\n",
      " 48  secondary_cleaner.state.floatbank5_a_level  5290 non-null   float64\n",
      " 49  secondary_cleaner.state.floatbank5_b_air    5290 non-null   float64\n",
      " 50  secondary_cleaner.state.floatbank5_b_level  5290 non-null   float64\n",
      " 51  secondary_cleaner.state.floatbank6_a_air    5290 non-null   float64\n",
      " 52  secondary_cleaner.state.floatbank6_a_level  5290 non-null   float64\n",
      "dtypes: float64(52), object(1)\n",
      "memory usage: 2.1+ MB\n"
     ]
    }
   ],
   "source": [
    "gold_recovery_test.info()"
   ]
  },
  {
   "cell_type": "markdown",
   "metadata": {},
   "source": [
    "Нам предоставлены данные в трех файлах: `gold_recovery_full` содержит все имеющиеся данные, остальные два файла `gold_recovery_test` и `gold_recovery_train` содержат уже разбитый исходный датасет на тренировочную и тестовую выборки. Данные индексируются датой и временем получения информации. Некоторые параметры в тестовой выборке могут быть недоступны, потому что замеряются и/или рассчитываются значительно позже. Из-за этого в тестовой выборке отсутствуют некоторые признаки, которые могут быть в обучающей. Также в тестовом наборе нет целевых признаков.\n",
    "\n",
    "Данные относительных характеристик предоставлены в процентах."
   ]
  },
  {
   "cell_type": "code",
   "execution_count": 7,
   "metadata": {},
   "outputs": [
    {
     "data": {
      "text/html": [
       "<div>\n",
       "<style scoped>\n",
       "    .dataframe tbody tr th:only-of-type {\n",
       "        vertical-align: middle;\n",
       "    }\n",
       "\n",
       "    .dataframe tbody tr th {\n",
       "        vertical-align: top;\n",
       "    }\n",
       "\n",
       "    .dataframe thead th {\n",
       "        text-align: right;\n",
       "    }\n",
       "</style>\n",
       "<table border=\"1\" class=\"dataframe\">\n",
       "  <thead>\n",
       "    <tr style=\"text-align: right;\">\n",
       "      <th></th>\n",
       "      <th>date</th>\n",
       "      <th>primary_cleaner.input.sulfate</th>\n",
       "      <th>primary_cleaner.input.depressant</th>\n",
       "      <th>primary_cleaner.input.feed_size</th>\n",
       "      <th>primary_cleaner.input.xanthate</th>\n",
       "      <th>primary_cleaner.state.floatbank8_a_air</th>\n",
       "      <th>primary_cleaner.state.floatbank8_a_level</th>\n",
       "      <th>primary_cleaner.state.floatbank8_b_air</th>\n",
       "      <th>primary_cleaner.state.floatbank8_b_level</th>\n",
       "      <th>primary_cleaner.state.floatbank8_c_air</th>\n",
       "      <th>primary_cleaner.state.floatbank8_c_level</th>\n",
       "      <th>primary_cleaner.state.floatbank8_d_air</th>\n",
       "      <th>primary_cleaner.state.floatbank8_d_level</th>\n",
       "      <th>rougher.input.feed_ag</th>\n",
       "      <th>rougher.input.feed_pb</th>\n",
       "      <th>rougher.input.feed_rate</th>\n",
       "      <th>rougher.input.feed_size</th>\n",
       "      <th>rougher.input.feed_sol</th>\n",
       "      <th>rougher.input.feed_au</th>\n",
       "      <th>rougher.input.floatbank10_sulfate</th>\n",
       "      <th>rougher.input.floatbank10_xanthate</th>\n",
       "      <th>rougher.input.floatbank11_sulfate</th>\n",
       "      <th>rougher.input.floatbank11_xanthate</th>\n",
       "      <th>rougher.state.floatbank10_a_air</th>\n",
       "      <th>rougher.state.floatbank10_a_level</th>\n",
       "      <th>rougher.state.floatbank10_b_air</th>\n",
       "      <th>rougher.state.floatbank10_b_level</th>\n",
       "      <th>rougher.state.floatbank10_c_air</th>\n",
       "      <th>rougher.state.floatbank10_c_level</th>\n",
       "      <th>rougher.state.floatbank10_d_air</th>\n",
       "      <th>rougher.state.floatbank10_d_level</th>\n",
       "      <th>rougher.state.floatbank10_e_air</th>\n",
       "      <th>rougher.state.floatbank10_e_level</th>\n",
       "      <th>rougher.state.floatbank10_f_air</th>\n",
       "      <th>rougher.state.floatbank10_f_level</th>\n",
       "      <th>secondary_cleaner.state.floatbank2_a_air</th>\n",
       "      <th>secondary_cleaner.state.floatbank2_a_level</th>\n",
       "      <th>secondary_cleaner.state.floatbank2_b_air</th>\n",
       "      <th>secondary_cleaner.state.floatbank2_b_level</th>\n",
       "      <th>secondary_cleaner.state.floatbank3_a_air</th>\n",
       "      <th>secondary_cleaner.state.floatbank3_a_level</th>\n",
       "      <th>secondary_cleaner.state.floatbank3_b_air</th>\n",
       "      <th>secondary_cleaner.state.floatbank3_b_level</th>\n",
       "      <th>secondary_cleaner.state.floatbank4_a_air</th>\n",
       "      <th>secondary_cleaner.state.floatbank4_a_level</th>\n",
       "      <th>secondary_cleaner.state.floatbank4_b_air</th>\n",
       "      <th>secondary_cleaner.state.floatbank4_b_level</th>\n",
       "      <th>secondary_cleaner.state.floatbank5_a_air</th>\n",
       "      <th>secondary_cleaner.state.floatbank5_a_level</th>\n",
       "      <th>secondary_cleaner.state.floatbank5_b_air</th>\n",
       "      <th>secondary_cleaner.state.floatbank5_b_level</th>\n",
       "      <th>secondary_cleaner.state.floatbank6_a_air</th>\n",
       "      <th>secondary_cleaner.state.floatbank6_a_level</th>\n",
       "    </tr>\n",
       "  </thead>\n",
       "  <tbody>\n",
       "    <tr>\n",
       "      <th>0</th>\n",
       "      <td>2016-09-01 00:59:59</td>\n",
       "      <td>210.800909</td>\n",
       "      <td>14.993118</td>\n",
       "      <td>8.080000</td>\n",
       "      <td>1.005021</td>\n",
       "      <td>1398.981301</td>\n",
       "      <td>-500.225577</td>\n",
       "      <td>1399.144926</td>\n",
       "      <td>-499.919735</td>\n",
       "      <td>1400.102998</td>\n",
       "      <td>-500.704369</td>\n",
       "      <td>1399.001695</td>\n",
       "      <td>-499.485144</td>\n",
       "      <td>13.128569</td>\n",
       "      <td>5.636710</td>\n",
       "      <td>489.793655</td>\n",
       "      <td>62.710452</td>\n",
       "      <td>42.022440</td>\n",
       "      <td>12.084103</td>\n",
       "      <td>16.922877</td>\n",
       "      <td>6.153479</td>\n",
       "      <td>16.867518</td>\n",
       "      <td>6.150709</td>\n",
       "      <td>1001.849317</td>\n",
       "      <td>-350.301265</td>\n",
       "      <td>1249.738612</td>\n",
       "      <td>-399.107531</td>\n",
       "      <td>1249.750520</td>\n",
       "      <td>-399.396730</td>\n",
       "      <td>1198.287855</td>\n",
       "      <td>-399.488594</td>\n",
       "      <td>999.472250</td>\n",
       "      <td>-399.530962</td>\n",
       "      <td>949.566189</td>\n",
       "      <td>-398.180807</td>\n",
       "      <td>24.938200</td>\n",
       "      <td>-500.490963</td>\n",
       "      <td>14.947607</td>\n",
       "      <td>-500.013837</td>\n",
       "      <td>20.018166</td>\n",
       "      <td>-450.395995</td>\n",
       "      <td>13.987058</td>\n",
       "      <td>-449.831513</td>\n",
       "      <td>12.023554</td>\n",
       "      <td>-497.795834</td>\n",
       "      <td>8.016656</td>\n",
       "      <td>-501.289139</td>\n",
       "      <td>7.946562</td>\n",
       "      <td>-432.317850</td>\n",
       "      <td>4.872511</td>\n",
       "      <td>-500.037437</td>\n",
       "      <td>26.705889</td>\n",
       "      <td>-499.709414</td>\n",
       "    </tr>\n",
       "    <tr>\n",
       "      <th>1</th>\n",
       "      <td>2016-09-01 01:59:59</td>\n",
       "      <td>215.392455</td>\n",
       "      <td>14.987471</td>\n",
       "      <td>8.080000</td>\n",
       "      <td>0.990469</td>\n",
       "      <td>1398.777912</td>\n",
       "      <td>-500.057435</td>\n",
       "      <td>1398.055362</td>\n",
       "      <td>-499.778182</td>\n",
       "      <td>1396.151033</td>\n",
       "      <td>-499.240168</td>\n",
       "      <td>1399.508091</td>\n",
       "      <td>-500.416324</td>\n",
       "      <td>13.036280</td>\n",
       "      <td>5.526065</td>\n",
       "      <td>490.104534</td>\n",
       "      <td>61.961163</td>\n",
       "      <td>41.187903</td>\n",
       "      <td>11.918977</td>\n",
       "      <td>17.002532</td>\n",
       "      <td>5.999043</td>\n",
       "      <td>16.996063</td>\n",
       "      <td>6.002315</td>\n",
       "      <td>998.690785</td>\n",
       "      <td>-350.425704</td>\n",
       "      <td>1248.395457</td>\n",
       "      <td>-399.946025</td>\n",
       "      <td>1249.514451</td>\n",
       "      <td>-399.630810</td>\n",
       "      <td>1200.506459</td>\n",
       "      <td>-399.942434</td>\n",
       "      <td>1000.002114</td>\n",
       "      <td>-399.491528</td>\n",
       "      <td>950.200009</td>\n",
       "      <td>-405.787514</td>\n",
       "      <td>24.923466</td>\n",
       "      <td>-499.813963</td>\n",
       "      <td>14.930873</td>\n",
       "      <td>-500.764452</td>\n",
       "      <td>19.988503</td>\n",
       "      <td>-450.114024</td>\n",
       "      <td>14.092981</td>\n",
       "      <td>-450.059163</td>\n",
       "      <td>12.058140</td>\n",
       "      <td>-498.695773</td>\n",
       "      <td>8.130979</td>\n",
       "      <td>-499.634209</td>\n",
       "      <td>7.958270</td>\n",
       "      <td>-525.839648</td>\n",
       "      <td>4.878850</td>\n",
       "      <td>-500.162375</td>\n",
       "      <td>25.019940</td>\n",
       "      <td>-499.819438</td>\n",
       "    </tr>\n",
       "    <tr>\n",
       "      <th>2</th>\n",
       "      <td>2016-09-01 02:59:59</td>\n",
       "      <td>215.259946</td>\n",
       "      <td>12.884934</td>\n",
       "      <td>7.786667</td>\n",
       "      <td>0.996043</td>\n",
       "      <td>1398.493666</td>\n",
       "      <td>-500.868360</td>\n",
       "      <td>1398.860436</td>\n",
       "      <td>-499.764529</td>\n",
       "      <td>1398.075709</td>\n",
       "      <td>-502.151509</td>\n",
       "      <td>1399.497088</td>\n",
       "      <td>-499.715479</td>\n",
       "      <td>13.138412</td>\n",
       "      <td>5.426561</td>\n",
       "      <td>489.617969</td>\n",
       "      <td>66.903807</td>\n",
       "      <td>42.546294</td>\n",
       "      <td>12.091332</td>\n",
       "      <td>16.992520</td>\n",
       "      <td>5.850632</td>\n",
       "      <td>16.982096</td>\n",
       "      <td>5.853594</td>\n",
       "      <td>998.516720</td>\n",
       "      <td>-349.783538</td>\n",
       "      <td>1247.440748</td>\n",
       "      <td>-400.264330</td>\n",
       "      <td>1248.207204</td>\n",
       "      <td>-401.074405</td>\n",
       "      <td>1199.770026</td>\n",
       "      <td>-400.790582</td>\n",
       "      <td>999.925519</td>\n",
       "      <td>-399.236999</td>\n",
       "      <td>950.320481</td>\n",
       "      <td>-400.864340</td>\n",
       "      <td>24.908732</td>\n",
       "      <td>-500.304035</td>\n",
       "      <td>14.996511</td>\n",
       "      <td>-500.993821</td>\n",
       "      <td>20.039689</td>\n",
       "      <td>-450.263164</td>\n",
       "      <td>14.077881</td>\n",
       "      <td>-449.660997</td>\n",
       "      <td>11.962366</td>\n",
       "      <td>-498.767484</td>\n",
       "      <td>8.096893</td>\n",
       "      <td>-500.827423</td>\n",
       "      <td>8.071056</td>\n",
       "      <td>-500.801673</td>\n",
       "      <td>4.905125</td>\n",
       "      <td>-499.828510</td>\n",
       "      <td>24.994862</td>\n",
       "      <td>-500.622559</td>\n",
       "    </tr>\n",
       "    <tr>\n",
       "      <th>3</th>\n",
       "      <td>2016-09-01 03:59:59</td>\n",
       "      <td>215.336236</td>\n",
       "      <td>12.006805</td>\n",
       "      <td>7.640000</td>\n",
       "      <td>0.863514</td>\n",
       "      <td>1399.618111</td>\n",
       "      <td>-498.863574</td>\n",
       "      <td>1397.440120</td>\n",
       "      <td>-499.211024</td>\n",
       "      <td>1400.129303</td>\n",
       "      <td>-498.355873</td>\n",
       "      <td>1401.065165</td>\n",
       "      <td>-501.038738</td>\n",
       "      <td>12.400507</td>\n",
       "      <td>5.114758</td>\n",
       "      <td>476.618130</td>\n",
       "      <td>59.865919</td>\n",
       "      <td>41.060195</td>\n",
       "      <td>12.181597</td>\n",
       "      <td>16.532144</td>\n",
       "      <td>5.801935</td>\n",
       "      <td>16.515277</td>\n",
       "      <td>5.803657</td>\n",
       "      <td>1000.276604</td>\n",
       "      <td>-350.172597</td>\n",
       "      <td>1251.322675</td>\n",
       "      <td>-398.655289</td>\n",
       "      <td>1250.493702</td>\n",
       "      <td>-399.746728</td>\n",
       "      <td>1199.398691</td>\n",
       "      <td>-397.503052</td>\n",
       "      <td>1001.930679</td>\n",
       "      <td>-400.437573</td>\n",
       "      <td>950.735324</td>\n",
       "      <td>-399.802986</td>\n",
       "      <td>24.893998</td>\n",
       "      <td>-499.382374</td>\n",
       "      <td>14.916674</td>\n",
       "      <td>-499.862299</td>\n",
       "      <td>20.031100</td>\n",
       "      <td>-449.372570</td>\n",
       "      <td>14.013968</td>\n",
       "      <td>-449.526900</td>\n",
       "      <td>12.033091</td>\n",
       "      <td>-498.350935</td>\n",
       "      <td>8.074946</td>\n",
       "      <td>-499.474407</td>\n",
       "      <td>7.897085</td>\n",
       "      <td>-500.868509</td>\n",
       "      <td>4.931400</td>\n",
       "      <td>-499.963623</td>\n",
       "      <td>24.948919</td>\n",
       "      <td>-498.709987</td>\n",
       "    </tr>\n",
       "    <tr>\n",
       "      <th>4</th>\n",
       "      <td>2016-09-01 04:59:59</td>\n",
       "      <td>199.099327</td>\n",
       "      <td>10.682530</td>\n",
       "      <td>7.530000</td>\n",
       "      <td>0.805575</td>\n",
       "      <td>1401.268123</td>\n",
       "      <td>-500.808305</td>\n",
       "      <td>1398.128818</td>\n",
       "      <td>-499.504543</td>\n",
       "      <td>1402.172226</td>\n",
       "      <td>-500.810606</td>\n",
       "      <td>1399.480508</td>\n",
       "      <td>-499.374053</td>\n",
       "      <td>11.327427</td>\n",
       "      <td>4.767383</td>\n",
       "      <td>488.248117</td>\n",
       "      <td>63.315324</td>\n",
       "      <td>41.269161</td>\n",
       "      <td>11.290425</td>\n",
       "      <td>13.607257</td>\n",
       "      <td>5.738081</td>\n",
       "      <td>13.650053</td>\n",
       "      <td>5.739634</td>\n",
       "      <td>996.541302</td>\n",
       "      <td>-350.562517</td>\n",
       "      <td>1304.658848</td>\n",
       "      <td>-399.511519</td>\n",
       "      <td>1306.455515</td>\n",
       "      <td>-399.050685</td>\n",
       "      <td>1248.699349</td>\n",
       "      <td>-400.876894</td>\n",
       "      <td>1058.839106</td>\n",
       "      <td>-398.988239</td>\n",
       "      <td>949.645313</td>\n",
       "      <td>-399.277632</td>\n",
       "      <td>24.886905</td>\n",
       "      <td>-499.357375</td>\n",
       "      <td>14.979233</td>\n",
       "      <td>-500.186804</td>\n",
       "      <td>19.962364</td>\n",
       "      <td>-450.638828</td>\n",
       "      <td>14.009245</td>\n",
       "      <td>-450.022259</td>\n",
       "      <td>12.025367</td>\n",
       "      <td>-500.786497</td>\n",
       "      <td>8.054678</td>\n",
       "      <td>-500.397500</td>\n",
       "      <td>8.107890</td>\n",
       "      <td>-509.526725</td>\n",
       "      <td>4.957674</td>\n",
       "      <td>-500.360026</td>\n",
       "      <td>25.003331</td>\n",
       "      <td>-500.856333</td>\n",
       "    </tr>\n",
       "  </tbody>\n",
       "</table>\n",
       "</div>"
      ],
      "text/plain": [
       "                  date  primary_cleaner.input.sulfate  \\\n",
       "0  2016-09-01 00:59:59                     210.800909   \n",
       "1  2016-09-01 01:59:59                     215.392455   \n",
       "2  2016-09-01 02:59:59                     215.259946   \n",
       "3  2016-09-01 03:59:59                     215.336236   \n",
       "4  2016-09-01 04:59:59                     199.099327   \n",
       "\n",
       "   primary_cleaner.input.depressant  primary_cleaner.input.feed_size  \\\n",
       "0                         14.993118                         8.080000   \n",
       "1                         14.987471                         8.080000   \n",
       "2                         12.884934                         7.786667   \n",
       "3                         12.006805                         7.640000   \n",
       "4                         10.682530                         7.530000   \n",
       "\n",
       "   primary_cleaner.input.xanthate  primary_cleaner.state.floatbank8_a_air  \\\n",
       "0                        1.005021                             1398.981301   \n",
       "1                        0.990469                             1398.777912   \n",
       "2                        0.996043                             1398.493666   \n",
       "3                        0.863514                             1399.618111   \n",
       "4                        0.805575                             1401.268123   \n",
       "\n",
       "   primary_cleaner.state.floatbank8_a_level  \\\n",
       "0                               -500.225577   \n",
       "1                               -500.057435   \n",
       "2                               -500.868360   \n",
       "3                               -498.863574   \n",
       "4                               -500.808305   \n",
       "\n",
       "   primary_cleaner.state.floatbank8_b_air  \\\n",
       "0                             1399.144926   \n",
       "1                             1398.055362   \n",
       "2                             1398.860436   \n",
       "3                             1397.440120   \n",
       "4                             1398.128818   \n",
       "\n",
       "   primary_cleaner.state.floatbank8_b_level  \\\n",
       "0                               -499.919735   \n",
       "1                               -499.778182   \n",
       "2                               -499.764529   \n",
       "3                               -499.211024   \n",
       "4                               -499.504543   \n",
       "\n",
       "   primary_cleaner.state.floatbank8_c_air  \\\n",
       "0                             1400.102998   \n",
       "1                             1396.151033   \n",
       "2                             1398.075709   \n",
       "3                             1400.129303   \n",
       "4                             1402.172226   \n",
       "\n",
       "   primary_cleaner.state.floatbank8_c_level  \\\n",
       "0                               -500.704369   \n",
       "1                               -499.240168   \n",
       "2                               -502.151509   \n",
       "3                               -498.355873   \n",
       "4                               -500.810606   \n",
       "\n",
       "   primary_cleaner.state.floatbank8_d_air  \\\n",
       "0                             1399.001695   \n",
       "1                             1399.508091   \n",
       "2                             1399.497088   \n",
       "3                             1401.065165   \n",
       "4                             1399.480508   \n",
       "\n",
       "   primary_cleaner.state.floatbank8_d_level  rougher.input.feed_ag  \\\n",
       "0                               -499.485144              13.128569   \n",
       "1                               -500.416324              13.036280   \n",
       "2                               -499.715479              13.138412   \n",
       "3                               -501.038738              12.400507   \n",
       "4                               -499.374053              11.327427   \n",
       "\n",
       "   rougher.input.feed_pb  rougher.input.feed_rate  rougher.input.feed_size  \\\n",
       "0               5.636710               489.793655                62.710452   \n",
       "1               5.526065               490.104534                61.961163   \n",
       "2               5.426561               489.617969                66.903807   \n",
       "3               5.114758               476.618130                59.865919   \n",
       "4               4.767383               488.248117                63.315324   \n",
       "\n",
       "   rougher.input.feed_sol  rougher.input.feed_au  \\\n",
       "0               42.022440              12.084103   \n",
       "1               41.187903              11.918977   \n",
       "2               42.546294              12.091332   \n",
       "3               41.060195              12.181597   \n",
       "4               41.269161              11.290425   \n",
       "\n",
       "   rougher.input.floatbank10_sulfate  rougher.input.floatbank10_xanthate  \\\n",
       "0                          16.922877                            6.153479   \n",
       "1                          17.002532                            5.999043   \n",
       "2                          16.992520                            5.850632   \n",
       "3                          16.532144                            5.801935   \n",
       "4                          13.607257                            5.738081   \n",
       "\n",
       "   rougher.input.floatbank11_sulfate  rougher.input.floatbank11_xanthate  \\\n",
       "0                          16.867518                            6.150709   \n",
       "1                          16.996063                            6.002315   \n",
       "2                          16.982096                            5.853594   \n",
       "3                          16.515277                            5.803657   \n",
       "4                          13.650053                            5.739634   \n",
       "\n",
       "   rougher.state.floatbank10_a_air  rougher.state.floatbank10_a_level  \\\n",
       "0                      1001.849317                        -350.301265   \n",
       "1                       998.690785                        -350.425704   \n",
       "2                       998.516720                        -349.783538   \n",
       "3                      1000.276604                        -350.172597   \n",
       "4                       996.541302                        -350.562517   \n",
       "\n",
       "   rougher.state.floatbank10_b_air  rougher.state.floatbank10_b_level  \\\n",
       "0                      1249.738612                        -399.107531   \n",
       "1                      1248.395457                        -399.946025   \n",
       "2                      1247.440748                        -400.264330   \n",
       "3                      1251.322675                        -398.655289   \n",
       "4                      1304.658848                        -399.511519   \n",
       "\n",
       "   rougher.state.floatbank10_c_air  rougher.state.floatbank10_c_level  \\\n",
       "0                      1249.750520                        -399.396730   \n",
       "1                      1249.514451                        -399.630810   \n",
       "2                      1248.207204                        -401.074405   \n",
       "3                      1250.493702                        -399.746728   \n",
       "4                      1306.455515                        -399.050685   \n",
       "\n",
       "   rougher.state.floatbank10_d_air  rougher.state.floatbank10_d_level  \\\n",
       "0                      1198.287855                        -399.488594   \n",
       "1                      1200.506459                        -399.942434   \n",
       "2                      1199.770026                        -400.790582   \n",
       "3                      1199.398691                        -397.503052   \n",
       "4                      1248.699349                        -400.876894   \n",
       "\n",
       "   rougher.state.floatbank10_e_air  rougher.state.floatbank10_e_level  \\\n",
       "0                       999.472250                        -399.530962   \n",
       "1                      1000.002114                        -399.491528   \n",
       "2                       999.925519                        -399.236999   \n",
       "3                      1001.930679                        -400.437573   \n",
       "4                      1058.839106                        -398.988239   \n",
       "\n",
       "   rougher.state.floatbank10_f_air  rougher.state.floatbank10_f_level  \\\n",
       "0                       949.566189                        -398.180807   \n",
       "1                       950.200009                        -405.787514   \n",
       "2                       950.320481                        -400.864340   \n",
       "3                       950.735324                        -399.802986   \n",
       "4                       949.645313                        -399.277632   \n",
       "\n",
       "   secondary_cleaner.state.floatbank2_a_air  \\\n",
       "0                                 24.938200   \n",
       "1                                 24.923466   \n",
       "2                                 24.908732   \n",
       "3                                 24.893998   \n",
       "4                                 24.886905   \n",
       "\n",
       "   secondary_cleaner.state.floatbank2_a_level  \\\n",
       "0                                 -500.490963   \n",
       "1                                 -499.813963   \n",
       "2                                 -500.304035   \n",
       "3                                 -499.382374   \n",
       "4                                 -499.357375   \n",
       "\n",
       "   secondary_cleaner.state.floatbank2_b_air  \\\n",
       "0                                 14.947607   \n",
       "1                                 14.930873   \n",
       "2                                 14.996511   \n",
       "3                                 14.916674   \n",
       "4                                 14.979233   \n",
       "\n",
       "   secondary_cleaner.state.floatbank2_b_level  \\\n",
       "0                                 -500.013837   \n",
       "1                                 -500.764452   \n",
       "2                                 -500.993821   \n",
       "3                                 -499.862299   \n",
       "4                                 -500.186804   \n",
       "\n",
       "   secondary_cleaner.state.floatbank3_a_air  \\\n",
       "0                                 20.018166   \n",
       "1                                 19.988503   \n",
       "2                                 20.039689   \n",
       "3                                 20.031100   \n",
       "4                                 19.962364   \n",
       "\n",
       "   secondary_cleaner.state.floatbank3_a_level  \\\n",
       "0                                 -450.395995   \n",
       "1                                 -450.114024   \n",
       "2                                 -450.263164   \n",
       "3                                 -449.372570   \n",
       "4                                 -450.638828   \n",
       "\n",
       "   secondary_cleaner.state.floatbank3_b_air  \\\n",
       "0                                 13.987058   \n",
       "1                                 14.092981   \n",
       "2                                 14.077881   \n",
       "3                                 14.013968   \n",
       "4                                 14.009245   \n",
       "\n",
       "   secondary_cleaner.state.floatbank3_b_level  \\\n",
       "0                                 -449.831513   \n",
       "1                                 -450.059163   \n",
       "2                                 -449.660997   \n",
       "3                                 -449.526900   \n",
       "4                                 -450.022259   \n",
       "\n",
       "   secondary_cleaner.state.floatbank4_a_air  \\\n",
       "0                                 12.023554   \n",
       "1                                 12.058140   \n",
       "2                                 11.962366   \n",
       "3                                 12.033091   \n",
       "4                                 12.025367   \n",
       "\n",
       "   secondary_cleaner.state.floatbank4_a_level  \\\n",
       "0                                 -497.795834   \n",
       "1                                 -498.695773   \n",
       "2                                 -498.767484   \n",
       "3                                 -498.350935   \n",
       "4                                 -500.786497   \n",
       "\n",
       "   secondary_cleaner.state.floatbank4_b_air  \\\n",
       "0                                  8.016656   \n",
       "1                                  8.130979   \n",
       "2                                  8.096893   \n",
       "3                                  8.074946   \n",
       "4                                  8.054678   \n",
       "\n",
       "   secondary_cleaner.state.floatbank4_b_level  \\\n",
       "0                                 -501.289139   \n",
       "1                                 -499.634209   \n",
       "2                                 -500.827423   \n",
       "3                                 -499.474407   \n",
       "4                                 -500.397500   \n",
       "\n",
       "   secondary_cleaner.state.floatbank5_a_air  \\\n",
       "0                                  7.946562   \n",
       "1                                  7.958270   \n",
       "2                                  8.071056   \n",
       "3                                  7.897085   \n",
       "4                                  8.107890   \n",
       "\n",
       "   secondary_cleaner.state.floatbank5_a_level  \\\n",
       "0                                 -432.317850   \n",
       "1                                 -525.839648   \n",
       "2                                 -500.801673   \n",
       "3                                 -500.868509   \n",
       "4                                 -509.526725   \n",
       "\n",
       "   secondary_cleaner.state.floatbank5_b_air  \\\n",
       "0                                  4.872511   \n",
       "1                                  4.878850   \n",
       "2                                  4.905125   \n",
       "3                                  4.931400   \n",
       "4                                  4.957674   \n",
       "\n",
       "   secondary_cleaner.state.floatbank5_b_level  \\\n",
       "0                                 -500.037437   \n",
       "1                                 -500.162375   \n",
       "2                                 -499.828510   \n",
       "3                                 -499.963623   \n",
       "4                                 -500.360026   \n",
       "\n",
       "   secondary_cleaner.state.floatbank6_a_air  \\\n",
       "0                                 26.705889   \n",
       "1                                 25.019940   \n",
       "2                                 24.994862   \n",
       "3                                 24.948919   \n",
       "4                                 25.003331   \n",
       "\n",
       "   secondary_cleaner.state.floatbank6_a_level  \n",
       "0                                 -499.709414  \n",
       "1                                 -499.819438  \n",
       "2                                 -500.622559  \n",
       "3                                 -498.709987  \n",
       "4                                 -500.856333  "
      ]
     },
     "execution_count": 7,
     "metadata": {},
     "output_type": "execute_result"
    }
   ],
   "source": [
    "pd.set_option('display.max_columns', None)\n",
    "gold_recovery_test.head()"
   ]
  },
  {
   "cell_type": "markdown",
   "metadata": {},
   "source": [
    "### Рассчет эффективности обогащения."
   ]
  },
  {
   "cell_type": "markdown",
   "metadata": {},
   "source": [
    "Проверим, правильно ли рассчитана эффективность обогащения на этапе флотации в данных обучающей выборки. Сравним полученные нами результаты с имеющимися данными и рассчитаем MAE между ними."
   ]
  },
  {
   "cell_type": "code",
   "execution_count": 8,
   "metadata": {},
   "outputs": [],
   "source": [
    "# Формула для рассчета эффективности обогащения\n",
    "\n",
    "def output_recovery(input_feed, output_concentrate, output_tail):\n",
    "    return ((output_concentrate * (input_feed - output_tail)) / (input_feed * (output_concentrate - output_tail))) * 100"
   ]
  },
  {
   "cell_type": "code",
   "execution_count": 9,
   "metadata": {},
   "outputs": [],
   "source": [
    "my_rougher_recovery = output_recovery(gold_recovery_train['rougher.input.feed_au'] / 100,\n",
    "                                              gold_recovery_train['rougher.output.concentrate_au'] / 100,\n",
    "                                              gold_recovery_train['rougher.output.tail_au'] / 100)"
   ]
  },
  {
   "cell_type": "code",
   "execution_count": 11,
   "metadata": {},
   "outputs": [
    {
     "data": {
      "text/plain": [
       "'1.2770209105468604e-14'"
      ]
     },
     "execution_count": 11,
     "metadata": {},
     "output_type": "execute_result"
    }
   ],
   "source": [
    "rougher_recovery_mae = mean_absolute_error(gold_recovery_train['rougher.output.recovery'], my_rougher_recovery)\n",
    "f'{rougher_recovery_mae}'"
   ]
  },
  {
   "cell_type": "markdown",
   "metadata": {},
   "source": [
    "Отклонение MAE между нашими рассчетами и имеющимися совсем незначительные, таким образом можно утверждать, что эффективность обогащения рассчитана верно."
   ]
  },
  {
   "cell_type": "markdown",
   "metadata": {},
   "source": [
    "### Признаки отсутствующие в тестовой выборке."
   ]
  },
  {
   "cell_type": "markdown",
   "metadata": {},
   "source": [
    "Некоторые признаки имеющиеся в полных данных отсутствуют в тестовой выборке. Рассмотрим данные параметры."
   ]
  },
  {
   "cell_type": "code",
   "execution_count": 12,
   "metadata": {
    "scrolled": true
   },
   "outputs": [
    {
     "data": {
      "text/plain": [
       "['final.output.concentrate_ag',\n",
       " 'final.output.concentrate_pb',\n",
       " 'final.output.concentrate_sol',\n",
       " 'final.output.concentrate_au',\n",
       " 'final.output.recovery',\n",
       " 'final.output.tail_ag',\n",
       " 'final.output.tail_pb',\n",
       " 'final.output.tail_sol',\n",
       " 'final.output.tail_au',\n",
       " 'primary_cleaner.output.concentrate_ag',\n",
       " 'primary_cleaner.output.concentrate_pb',\n",
       " 'primary_cleaner.output.concentrate_sol',\n",
       " 'primary_cleaner.output.concentrate_au',\n",
       " 'primary_cleaner.output.tail_ag',\n",
       " 'primary_cleaner.output.tail_pb',\n",
       " 'primary_cleaner.output.tail_sol',\n",
       " 'primary_cleaner.output.tail_au',\n",
       " 'rougher.calculation.sulfate_to_au_concentrate',\n",
       " 'rougher.calculation.floatbank10_sulfate_to_au_feed',\n",
       " 'rougher.calculation.floatbank11_sulfate_to_au_feed',\n",
       " 'rougher.calculation.au_pb_ratio',\n",
       " 'rougher.output.concentrate_ag',\n",
       " 'rougher.output.concentrate_pb',\n",
       " 'rougher.output.concentrate_sol',\n",
       " 'rougher.output.concentrate_au',\n",
       " 'rougher.output.recovery',\n",
       " 'rougher.output.tail_ag',\n",
       " 'rougher.output.tail_pb',\n",
       " 'rougher.output.tail_sol',\n",
       " 'rougher.output.tail_au',\n",
       " 'secondary_cleaner.output.tail_ag',\n",
       " 'secondary_cleaner.output.tail_pb',\n",
       " 'secondary_cleaner.output.tail_sol',\n",
       " 'secondary_cleaner.output.tail_au']"
      ]
     },
     "execution_count": 12,
     "metadata": {},
     "output_type": "execute_result"
    }
   ],
   "source": [
    "columns_not_in_test = [i for i in list(gold_recovery_full.columns) if i not in list(gold_recovery_test.columns)]\n",
    "columns_not_in_test"
   ]
  },
  {
   "cell_type": "markdown",
   "metadata": {},
   "source": [
    "В тестовой выборке ожидаемо отсутствует тип параметра `output` для любой стадии обработки. Для корректного обучения модели нам необходимо использовать только те признаки, которые имеются как в тестовой так и в обучающей выборке."
   ]
  },
  {
   "cell_type": "code",
   "execution_count": 13,
   "metadata": {},
   "outputs": [],
   "source": [
    "gold_recovery_train = gold_recovery_train.drop(columns_not_in_test, axis='columns')"
   ]
  },
  {
   "cell_type": "markdown",
   "metadata": {},
   "source": [
    "### Предобработка данных."
   ]
  },
  {
   "cell_type": "markdown",
   "metadata": {},
   "source": [
    "Проверим данные на дубликаты."
   ]
  },
  {
   "cell_type": "code",
   "execution_count": 14,
   "metadata": {
    "scrolled": true
   },
   "outputs": [
    {
     "data": {
      "text/plain": [
       "0"
      ]
     },
     "execution_count": 14,
     "metadata": {},
     "output_type": "execute_result"
    }
   ],
   "source": [
    "gold_recovery_train.duplicated().sum()"
   ]
  },
  {
   "cell_type": "markdown",
   "metadata": {},
   "source": [
    "В выборках присутствуют пропуски. Так как признаки представляют собой последовательные этапы, чтобы полностью не удалять объект можно заполнить пропуски значением из предыдущего или последующего этапа."
   ]
  },
  {
   "cell_type": "code",
   "execution_count": 15,
   "metadata": {},
   "outputs": [],
   "source": [
    "correct_order_of_columns = list(gold_recovery_train.columns[10:]) + list(gold_recovery_train.columns[1:10])\n",
    "processing_stages = ['rougher', 'primary_cleaner', 'secondary_cleaner', 'final']\n",
    "for row in gold_recovery_train.index:\n",
    "    for column in correct_order_of_columns:\n",
    "        if np.isnan(gold_recovery_train.loc[row, column]):\n",
    "            full_stage = column.split('.')\n",
    "            processing_stages_nan = processing_stages.index(full_stage[0])\n",
    "            if processing_stages_nan != 0:\n",
    "                changed_stage = '.'.join([processing_stages[processing_stages_nan - 1]] + full_stage[1:])\n",
    "                if changed_stage not in gold_recovery_train.columns and processing_stages_nan != 1:\n",
    "                    changed_stage = '.'.join([processing_stages[processing_stages_nan - 2]] + full_stage[1:])\n",
    "            else:\n",
    "                changed_stage = '.'.join([processing_stages[processing_stages_nan + 1]] + full_stage[1:])\n",
    "                if changed_stage not in gold_recovery_train.columns and processing_stages_nan != 3:\n",
    "                    changed_stage = '.'.join([processing_stages[processing_stages_nan + 2]] + full_stage[1:])                    \n",
    "            try:\n",
    "                gold_recovery_train.loc[row, column] = gold_recovery_train.loc[row, changed_stage]\n",
    "            except:\n",
    "                None"
   ]
  },
  {
   "cell_type": "code",
   "execution_count": 16,
   "metadata": {
    "scrolled": true
   },
   "outputs": [
    {
     "name": "stdout",
     "output_type": "stream",
     "text": [
      "<class 'pandas.core.frame.DataFrame'>\n",
      "Int64Index: 12818 entries, 0 to 14148\n",
      "Data columns (total 53 columns):\n",
      " #   Column                                      Non-Null Count  Dtype  \n",
      "---  ------                                      --------------  -----  \n",
      " 0   date                                        12818 non-null  object \n",
      " 1   primary_cleaner.input.sulfate               12818 non-null  float64\n",
      " 2   primary_cleaner.input.depressant            12818 non-null  float64\n",
      " 3   primary_cleaner.input.feed_size             12818 non-null  float64\n",
      " 4   primary_cleaner.input.xanthate              12818 non-null  float64\n",
      " 5   primary_cleaner.state.floatbank8_a_air      12818 non-null  float64\n",
      " 6   primary_cleaner.state.floatbank8_a_level    12818 non-null  float64\n",
      " 7   primary_cleaner.state.floatbank8_b_air      12818 non-null  float64\n",
      " 8   primary_cleaner.state.floatbank8_b_level    12818 non-null  float64\n",
      " 9   primary_cleaner.state.floatbank8_c_air      12818 non-null  float64\n",
      " 10  primary_cleaner.state.floatbank8_c_level    12818 non-null  float64\n",
      " 11  primary_cleaner.state.floatbank8_d_air      12818 non-null  float64\n",
      " 12  primary_cleaner.state.floatbank8_d_level    12818 non-null  float64\n",
      " 13  rougher.input.feed_ag                       12818 non-null  float64\n",
      " 14  rougher.input.feed_pb                       12818 non-null  float64\n",
      " 15  rougher.input.feed_rate                     12818 non-null  float64\n",
      " 16  rougher.input.feed_size                     12818 non-null  float64\n",
      " 17  rougher.input.feed_sol                      12818 non-null  float64\n",
      " 18  rougher.input.feed_au                       12818 non-null  float64\n",
      " 19  rougher.input.floatbank10_sulfate           12818 non-null  float64\n",
      " 20  rougher.input.floatbank10_xanthate          12818 non-null  float64\n",
      " 21  rougher.input.floatbank11_sulfate           12818 non-null  float64\n",
      " 22  rougher.input.floatbank11_xanthate          12818 non-null  float64\n",
      " 23  rougher.state.floatbank10_a_air             12818 non-null  float64\n",
      " 24  rougher.state.floatbank10_a_level           12818 non-null  float64\n",
      " 25  rougher.state.floatbank10_b_air             12818 non-null  float64\n",
      " 26  rougher.state.floatbank10_b_level           12818 non-null  float64\n",
      " 27  rougher.state.floatbank10_c_air             12818 non-null  float64\n",
      " 28  rougher.state.floatbank10_c_level           12818 non-null  float64\n",
      " 29  rougher.state.floatbank10_d_air             12818 non-null  float64\n",
      " 30  rougher.state.floatbank10_d_level           12818 non-null  float64\n",
      " 31  rougher.state.floatbank10_e_air             12818 non-null  float64\n",
      " 32  rougher.state.floatbank10_e_level           12818 non-null  float64\n",
      " 33  rougher.state.floatbank10_f_air             12818 non-null  float64\n",
      " 34  rougher.state.floatbank10_f_level           12818 non-null  float64\n",
      " 35  secondary_cleaner.state.floatbank2_a_air    12818 non-null  float64\n",
      " 36  secondary_cleaner.state.floatbank2_a_level  12818 non-null  float64\n",
      " 37  secondary_cleaner.state.floatbank2_b_air    12818 non-null  float64\n",
      " 38  secondary_cleaner.state.floatbank2_b_level  12818 non-null  float64\n",
      " 39  secondary_cleaner.state.floatbank3_a_air    12818 non-null  float64\n",
      " 40  secondary_cleaner.state.floatbank3_a_level  12818 non-null  float64\n",
      " 41  secondary_cleaner.state.floatbank3_b_air    12818 non-null  float64\n",
      " 42  secondary_cleaner.state.floatbank3_b_level  12818 non-null  float64\n",
      " 43  secondary_cleaner.state.floatbank4_a_air    12818 non-null  float64\n",
      " 44  secondary_cleaner.state.floatbank4_a_level  12818 non-null  float64\n",
      " 45  secondary_cleaner.state.floatbank4_b_air    12818 non-null  float64\n",
      " 46  secondary_cleaner.state.floatbank4_b_level  12818 non-null  float64\n",
      " 47  secondary_cleaner.state.floatbank5_a_air    12818 non-null  float64\n",
      " 48  secondary_cleaner.state.floatbank5_a_level  12818 non-null  float64\n",
      " 49  secondary_cleaner.state.floatbank5_b_air    12818 non-null  float64\n",
      " 50  secondary_cleaner.state.floatbank5_b_level  12818 non-null  float64\n",
      " 51  secondary_cleaner.state.floatbank6_a_air    12818 non-null  float64\n",
      " 52  secondary_cleaner.state.floatbank6_a_level  12818 non-null  float64\n",
      "dtypes: float64(52), object(1)\n",
      "memory usage: 5.3+ MB\n"
     ]
    }
   ],
   "source": [
    "gold_recovery_train = gold_recovery_train.dropna()\n",
    "gold_recovery_train.info()"
   ]
  },
  {
   "cell_type": "markdown",
   "metadata": {},
   "source": [
    "Таким образом, удалив объекты с пропусками нам удалось сохранить около 90% исходных данных (без заполнения пропусков у нас бы осталось около 80% данных)."
   ]
  },
  {
   "cell_type": "markdown",
   "metadata": {},
   "source": [
    "_____"
   ]
  },
  {
   "cell_type": "markdown",
   "metadata": {},
   "source": [
    "В данных присутствуют пропуски в некоторых столбцах тестовой выборки. Так как пропусков относительно немного, удаление объектов с пропусками в любом из столбцов не должно сильно отразиться на объеме данных."
   ]
  },
  {
   "cell_type": "code",
   "execution_count": 17,
   "metadata": {
    "scrolled": true
   },
   "outputs": [],
   "source": [
    "gold_recovery_test = gold_recovery_test.dropna()"
   ]
  },
  {
   "cell_type": "code",
   "execution_count": 18,
   "metadata": {
    "scrolled": true
   },
   "outputs": [
    {
     "name": "stdout",
     "output_type": "stream",
     "text": [
      "<class 'pandas.core.frame.DataFrame'>\n",
      "Int64Index: 5229 entries, 0 to 5289\n",
      "Data columns (total 53 columns):\n",
      " #   Column                                      Non-Null Count  Dtype  \n",
      "---  ------                                      --------------  -----  \n",
      " 0   date                                        5229 non-null   object \n",
      " 1   primary_cleaner.input.sulfate               5229 non-null   float64\n",
      " 2   primary_cleaner.input.depressant            5229 non-null   float64\n",
      " 3   primary_cleaner.input.feed_size             5229 non-null   float64\n",
      " 4   primary_cleaner.input.xanthate              5229 non-null   float64\n",
      " 5   primary_cleaner.state.floatbank8_a_air      5229 non-null   float64\n",
      " 6   primary_cleaner.state.floatbank8_a_level    5229 non-null   float64\n",
      " 7   primary_cleaner.state.floatbank8_b_air      5229 non-null   float64\n",
      " 8   primary_cleaner.state.floatbank8_b_level    5229 non-null   float64\n",
      " 9   primary_cleaner.state.floatbank8_c_air      5229 non-null   float64\n",
      " 10  primary_cleaner.state.floatbank8_c_level    5229 non-null   float64\n",
      " 11  primary_cleaner.state.floatbank8_d_air      5229 non-null   float64\n",
      " 12  primary_cleaner.state.floatbank8_d_level    5229 non-null   float64\n",
      " 13  rougher.input.feed_ag                       5229 non-null   float64\n",
      " 14  rougher.input.feed_pb                       5229 non-null   float64\n",
      " 15  rougher.input.feed_rate                     5229 non-null   float64\n",
      " 16  rougher.input.feed_size                     5229 non-null   float64\n",
      " 17  rougher.input.feed_sol                      5229 non-null   float64\n",
      " 18  rougher.input.feed_au                       5229 non-null   float64\n",
      " 19  rougher.input.floatbank10_sulfate           5229 non-null   float64\n",
      " 20  rougher.input.floatbank10_xanthate          5229 non-null   float64\n",
      " 21  rougher.input.floatbank11_sulfate           5229 non-null   float64\n",
      " 22  rougher.input.floatbank11_xanthate          5229 non-null   float64\n",
      " 23  rougher.state.floatbank10_a_air             5229 non-null   float64\n",
      " 24  rougher.state.floatbank10_a_level           5229 non-null   float64\n",
      " 25  rougher.state.floatbank10_b_air             5229 non-null   float64\n",
      " 26  rougher.state.floatbank10_b_level           5229 non-null   float64\n",
      " 27  rougher.state.floatbank10_c_air             5229 non-null   float64\n",
      " 28  rougher.state.floatbank10_c_level           5229 non-null   float64\n",
      " 29  rougher.state.floatbank10_d_air             5229 non-null   float64\n",
      " 30  rougher.state.floatbank10_d_level           5229 non-null   float64\n",
      " 31  rougher.state.floatbank10_e_air             5229 non-null   float64\n",
      " 32  rougher.state.floatbank10_e_level           5229 non-null   float64\n",
      " 33  rougher.state.floatbank10_f_air             5229 non-null   float64\n",
      " 34  rougher.state.floatbank10_f_level           5229 non-null   float64\n",
      " 35  secondary_cleaner.state.floatbank2_a_air    5229 non-null   float64\n",
      " 36  secondary_cleaner.state.floatbank2_a_level  5229 non-null   float64\n",
      " 37  secondary_cleaner.state.floatbank2_b_air    5229 non-null   float64\n",
      " 38  secondary_cleaner.state.floatbank2_b_level  5229 non-null   float64\n",
      " 39  secondary_cleaner.state.floatbank3_a_air    5229 non-null   float64\n",
      " 40  secondary_cleaner.state.floatbank3_a_level  5229 non-null   float64\n",
      " 41  secondary_cleaner.state.floatbank3_b_air    5229 non-null   float64\n",
      " 42  secondary_cleaner.state.floatbank3_b_level  5229 non-null   float64\n",
      " 43  secondary_cleaner.state.floatbank4_a_air    5229 non-null   float64\n",
      " 44  secondary_cleaner.state.floatbank4_a_level  5229 non-null   float64\n",
      " 45  secondary_cleaner.state.floatbank4_b_air    5229 non-null   float64\n",
      " 46  secondary_cleaner.state.floatbank4_b_level  5229 non-null   float64\n",
      " 47  secondary_cleaner.state.floatbank5_a_air    5229 non-null   float64\n",
      " 48  secondary_cleaner.state.floatbank5_a_level  5229 non-null   float64\n",
      " 49  secondary_cleaner.state.floatbank5_b_air    5229 non-null   float64\n",
      " 50  secondary_cleaner.state.floatbank5_b_level  5229 non-null   float64\n",
      " 51  secondary_cleaner.state.floatbank6_a_air    5229 non-null   float64\n",
      " 52  secondary_cleaner.state.floatbank6_a_level  5229 non-null   float64\n",
      "dtypes: float64(52), object(1)\n",
      "memory usage: 2.2+ MB\n"
     ]
    }
   ],
   "source": [
    "gold_recovery_test.info()"
   ]
  },
  {
   "cell_type": "markdown",
   "metadata": {},
   "source": [
    "На тестовой выборке удалось сохранить 99% данных."
   ]
  },
  {
   "cell_type": "markdown",
   "metadata": {},
   "source": [
    "## Анализ данных"
   ]
  },
  {
   "cell_type": "markdown",
   "metadata": {},
   "source": [
    "### Концентрация металлов."
   ]
  },
  {
   "cell_type": "markdown",
   "metadata": {},
   "source": [
    "Посмотрим, как меняется концентрация металлов (Au, Ag, Pb) на различных этапах очистки."
   ]
  },
  {
   "cell_type": "code",
   "execution_count": 80,
   "metadata": {},
   "outputs": [
    {
     "name": "stdout",
     "output_type": "stream",
     "text": [
      "В среднем, концентрация золота(au) на этапе подачи исходного сырья = 8.27%,\n",
      "концентрация серебра(ag) = 8.79%,    \n",
      "концентрация свинца(pb) = 3.60%\n",
      "\n",
      "В среднем, концентрация золота(au) на этапе подачи исходного сырья = 19.77%,\n",
      "концентрация серебра(ag) = 11.99%,        \n",
      "концентрация свинца(pb) = 7.61%\n",
      "\n",
      "В среднем, концентрация золота(au) на этапе подачи исходного сырья = 32.12%,\n",
      "концентрация серебра(ag) = 8.44%,        \n",
      "концентрация свинца(pb) = 9.83%\n",
      "\n",
      "В среднем, концентрация золота(au) на этапе подачи исходного сырья = 44.08%,\n",
      "концентрация серебра(ag) = 5.17%,        \n",
      "концентрация свинца(pb) = 9.98%\n",
      "\n"
     ]
    },
    {
     "data": {
      "image/png": "[encoded data removed]",
      "text/plain": [
       "<Figure size 1440x360 with 4 Axes>"
      ]
     },
     "metadata": {
      "needs_background": "light"
     },
     "output_type": "display_data"
    }
   ],
   "source": [
    "au = gold_recovery_full['rougher.input.feed_au']\n",
    "ag = gold_recovery_full['rougher.input.feed_ag']\n",
    "pb = gold_recovery_full['rougher.input.feed_pb']\n",
    "print(f'В среднем, концентрация золота(au) на этапе подачи исходного сырья = {au.mean():.2f}%,\\nконцентрация серебра(ag) = {ag.mean():.2f}%,\\\n",
    "    \\nконцентрация свинца(pb) = {pb.mean():.2f}%', end='\\n\\n')\n",
    "\n",
    "\n",
    "fig, (ax1, ax2, ax3, ax4) = plt.subplots(1, 4)\n",
    "fig.set_size_inches(20, 5)\n",
    "ax1.hist(au, bins=100, label='au', alpha=0.5)\n",
    "ax1.hist(ag, bins=100, label='ag', alpha=0.5)\n",
    "ax1.hist(pb, bins=100, label='pb', alpha=0.5)\n",
    "ax1.set_title('rougher input')\n",
    "ax1.legend()\n",
    "\n",
    "n = 0\n",
    "axs = [ax2, ax3, ax4]\n",
    "processing_stages = ['rougher', 'primary_cleaner', 'final']\n",
    "for stage in processing_stages:\n",
    "    ax = axs[n]\n",
    "    au = gold_recovery_full[stage + '.output.concentrate_au']\n",
    "    ag = gold_recovery_full[stage + '.output.concentrate_ag']\n",
    "    pb = gold_recovery_full[stage + '.output.concentrate_pb']\n",
    "    ax.hist(au, bins=100, label='au', alpha=0.5)\n",
    "    ax.hist(ag, bins=100, label='ag', alpha=0.5)\n",
    "    ax.hist(pb, bins=100, label='pb', alpha=0.5)\n",
    "    ax.set_title(stage)\n",
    "    ax.legend()\n",
    "    n += 1  \n",
    "    print(f'В среднем, концентрация золота(au) на этапе подачи исходного сырья = {au.mean():.2f}%,\\nконцентрация серебра(ag) = {ag.mean():.2f}%,\\\n",
    "        \\nконцентрация свинца(pb) = {pb.mean():.2f}%', end='\\n\\n')"
   ]
  },
  {
   "cell_type": "markdown",
   "metadata": {},
   "source": [
    "Исходя из наблюдений можно заметить, что концентрация золота с каждым этапом увеличивается примерно на 12%, концентрация серебра падает примерно на 3%, а концентрация свинца увеличивается на 1-2%."
   ]
  },
  {
   "cell_type": "markdown",
   "metadata": {},
   "source": [
    "### Гранулы сырья на обучающей и тестовой выборках."
   ]
  },
  {
   "cell_type": "markdown",
   "metadata": {},
   "source": [
    "Сравним распределения размеров гранул сырья на обучающей и тестовой выборках. Если распределения сильно отличаются друг от друга, оценка модели будет неправильной."
   ]
  },
  {
   "cell_type": "code",
   "execution_count": 34,
   "metadata": {},
   "outputs": [
    {
     "data": {
      "image/png": "[encoded data removed]",
      "text/plain": [
       "<Figure size 864x288 with 2 Axes>"
      ]
     },
     "metadata": {
      "needs_background": "light"
     },
     "output_type": "display_data"
    }
   ],
   "source": [
    "# Обучающая выборка\n",
    "\n",
    "fig, (ax1, ax2) = plt.subplots(1, 2)\n",
    "ax1.hist(gold_recovery_train['rougher.input.feed_size'], bins=100, label='Обучающая выборка', alpha=0.7, density=True)\n",
    "ax1.hist(gold_recovery_test['rougher.input.feed_size'], bins=100, label='Тестовая выборка', alpha=0.7, density=True)\n",
    "ax1.set_title('Флотация')\n",
    "ax1.legend()\n",
    "ax1.grid()\n",
    "ax1.set_xlim(0, 150)\n",
    "\n",
    "ax2.hist(gold_recovery_train['primary_cleaner.input.feed_size'], bins=100, label='Обучающая выборка', alpha=0.7, density=True)\n",
    "ax2.hist(gold_recovery_test['primary_cleaner.input.feed_size'], bins=100, label='Тестовая выборка', alpha=0.7, density=True)\n",
    "ax2.legend()\n",
    "ax2.set_title('Первый этап очистки')\n",
    "ax2.grid()\n",
    "ax2.set_xlim(5, 10)\n",
    "\n",
    "fig.set_size_inches(12, 4)\n",
    "plt.show()"
   ]
  },
  {
   "cell_type": "markdown",
   "metadata": {},
   "source": [
    "На графиках видно, что распределения размеров гранул сырья не сильно различаются на тестовой и обучающей выборках."
   ]
  },
  {
   "cell_type": "markdown",
   "metadata": {},
   "source": [
    "### Суммарная концентрация веществ."
   ]
  },
  {
   "cell_type": "markdown",
   "metadata": {},
   "source": [
    "Исследуем суммарную концентрацию всех веществ на разных стадиях: в сырье, в черновом и финальном концентратах."
   ]
  },
  {
   "cell_type": "code",
   "execution_count": 21,
   "metadata": {},
   "outputs": [],
   "source": [
    "processing_stages = ['rougher', 'primary_cleaner', 'final']\n",
    "\n",
    "for stage in processing_stages:\n",
    "    au = gold_recovery_full[stage + '.output.concentrate_au']\n",
    "    ag = gold_recovery_full[stage + '.output.concentrate_ag']\n",
    "    pb = gold_recovery_full[stage + '.output.concentrate_pb']\n",
    "    sol = gold_recovery_full[stage + '.output.concentrate_sol']\n",
    "    \n",
    "    gold_recovery_full[stage + '.output.concentrate_sum'] = au + ag + pb + sol"
   ]
  },
  {
   "cell_type": "markdown",
   "metadata": {},
   "source": [
    "Построим графики для получившихся значений суммарных концентраций. "
   ]
  },
  {
   "cell_type": "code",
   "execution_count": 22,
   "metadata": {},
   "outputs": [
    {
     "data": {
      "image/png": "[encoded data removed]",
      "text/plain": [
       "<Figure size 720x360 with 1 Axes>"
      ]
     },
     "metadata": {
      "needs_background": "light"
     },
     "output_type": "display_data"
    }
   ],
   "source": [
    "plt.figure(figsize=(10,5))\n",
    "plt.hist(gold_recovery_full['rougher.output.concentrate_sum'], bins=200)\n",
    "plt.title('Суммарная концентрация веществ в сырье')\n",
    "plt.show()"
   ]
  },
  {
   "cell_type": "code",
   "execution_count": 23,
   "metadata": {},
   "outputs": [
    {
     "data": {
      "image/png": "[encoded data removed]",
      "text/plain": [
       "<Figure size 720x360 with 1 Axes>"
      ]
     },
     "metadata": {
      "needs_background": "light"
     },
     "output_type": "display_data"
    }
   ],
   "source": [
    "plt.figure(figsize=(10,5))\n",
    "plt.hist(gold_recovery_full['primary_cleaner.output.concentrate_sum'], bins=200)\n",
    "plt.title('Суммарная концентрация веществ в черновом концентрате')\n",
    "plt.show()"
   ]
  },
  {
   "cell_type": "code",
   "execution_count": 24,
   "metadata": {},
   "outputs": [
    {
     "data": {
      "image/png": "[encoded data removed]",
      "text/plain": [
       "<Figure size 720x360 with 1 Axes>"
      ]
     },
     "metadata": {
      "needs_background": "light"
     },
     "output_type": "display_data"
    }
   ],
   "source": [
    "plt.figure(figsize=(10,5))\n",
    "plt.hist(gold_recovery_full['final.output.concentrate_sum'], bins=200)\n",
    "plt.title('Суммарная концентрация веществ в финальном концентрате')\n",
    "plt.show()"
   ]
  },
  {
   "cell_type": "markdown",
   "metadata": {},
   "source": [
    "На получившихся графиках мы можем наблюдать более-менее нормальное распределение со скосом влево и явные выбросы в околонулевом значении, количество которых снижается с каждым этапом обработки. Возможно выбросы появились в результате технического сбоя оборудования. "
   ]
  },
  {
   "cell_type": "markdown",
   "metadata": {},
   "source": [
    "Избавимся от выбросов и построим новые графики."
   ]
  },
  {
   "cell_type": "code",
   "execution_count": 25,
   "metadata": {},
   "outputs": [
    {
     "data": {
      "image/png": "[encoded data removed]",
      "text/plain": [
       "<Figure size 720x360 with 1 Axes>"
      ]
     },
     "metadata": {
      "needs_background": "light"
     },
     "output_type": "display_data"
    }
   ],
   "source": [
    "plt.figure(figsize=(10,5))\n",
    "plt.hist(gold_recovery_full[gold_recovery_full['rougher.output.concentrate_sum'] > 30]['rougher.output.concentrate_sum'],\n",
    "         bins=200)\n",
    "plt.title('Суммарная концентрация веществ в сырье')\n",
    "plt.show()"
   ]
  },
  {
   "cell_type": "code",
   "execution_count": 26,
   "metadata": {},
   "outputs": [
    {
     "data": {
      "image/png": "[encoded data removed]",
      "text/plain": [
       "<Figure size 720x360 with 1 Axes>"
      ]
     },
     "metadata": {
      "needs_background": "light"
     },
     "output_type": "display_data"
    }
   ],
   "source": [
    "plt.figure(figsize=(10,5))\n",
    "plt.hist(gold_recovery_full[gold_recovery_full['primary_cleaner.output.concentrate_sum'] > 20]['primary_cleaner.output.concentrate_sum'],\n",
    "         bins=200)\n",
    "plt.title('Суммарная концентрация веществ в черновом концентрате')\n",
    "plt.show()"
   ]
  },
  {
   "cell_type": "code",
   "execution_count": 27,
   "metadata": {},
   "outputs": [
    {
     "data": {
      "image/png": "[encoded data removed]",
      "text/plain": [
       "<Figure size 720x360 with 1 Axes>"
      ]
     },
     "metadata": {
      "needs_background": "light"
     },
     "output_type": "display_data"
    }
   ],
   "source": [
    "plt.figure(figsize=(10,5))\n",
    "plt.hist(gold_recovery_full[gold_recovery_full['final.output.concentrate_sum'] > 50]['final.output.concentrate_sum']\n",
    "         , bins=200)\n",
    "plt.title('Суммарная концентрация веществ в финальном концентрате')\n",
    "plt.show()"
   ]
  },
  {
   "cell_type": "markdown",
   "metadata": {},
   "source": [
    "Сохраним в тех же таблицах `gold_recovery_train` и `gold_recovery_test` объекты, в которых отсутствуют выбросы, так как они могут негативно повлиять на качество нашей модели."
   ]
  },
  {
   "cell_type": "code",
   "execution_count": 28,
   "metadata": {},
   "outputs": [],
   "source": [
    "gold_recovery_full_without_outliers = gold_recovery_full[(gold_recovery_full['rougher.output.concentrate_sum'] > 30) &\n",
    "                                                        (gold_recovery_full['primary_cleaner.output.concentrate_sum'] > 20) &\n",
    "                                                        (gold_recovery_full['final.output.concentrate_sum'] > 50)]\n",
    "gold_recovery_full_without_outliers_dates = gold_recovery_full_without_outliers['date']"
   ]
  },
  {
   "cell_type": "code",
   "execution_count": 29,
   "metadata": {},
   "outputs": [],
   "source": [
    "gold_recovery_train = gold_recovery_train[gold_recovery_train['date'].isin(gold_recovery_full_without_outliers_dates)]\n",
    "gold_recovery_test = gold_recovery_test[gold_recovery_test['date'].isin(gold_recovery_full_without_outliers_dates)]"
   ]
  },
  {
   "cell_type": "markdown",
   "metadata": {},
   "source": [
    "## Модель"
   ]
  },
  {
   "cell_type": "markdown",
   "metadata": {},
   "source": [
    "### Метрика sMAPE "
   ]
  },
  {
   "cell_type": "markdown",
   "metadata": {},
   "source": [
    "Напишем функцию для вычисления sMAPE - метрики, которой мы будем оценивать качество обученной модели. "
   ]
  },
  {
   "cell_type": "code",
   "execution_count": 30,
   "metadata": {},
   "outputs": [],
   "source": [
    "def smape(y_true, y_pred):\n",
    "    return sum(abs(y_true - y_pred) / ((abs(y_true) + abs(y_pred)) / 2)) / len(y_true) * 100\n",
    "\n",
    "scorer = make_scorer(smape)"
   ]
  },
  {
   "cell_type": "markdown",
   "metadata": {},
   "source": [
    "### Построение модели."
   ]
  },
  {
   "cell_type": "markdown",
   "metadata": {},
   "source": [
    "Исходя из самого процесса обработки сырья можно предположить, что признаки коррелируют между собой, то есть обладают мультиколлиниарностью, что плохо сказывается прежде всего на качестве моделей линейной регрессии. С мультиколлинеарностью можно попробовать справиться при помощи удаления коррелирующих признаков, однако поскольку большинство признаков взаимосвязаны между собой, логичнее будет отказаться от модели линейной регрессии, и вместо нее воспользоваться моделью случайного леса.\n",
    "\n",
    "Нам необходимо построить две модели, так как мы имеем два целевых признака `rougher.output.recovery` и `final.output.recovery`"
   ]
  },
  {
   "cell_type": "code",
   "execution_count": 31,
   "metadata": {},
   "outputs": [],
   "source": [
    "gold_recovery_train_without_date = gold_recovery_train.loc[:, 'primary_cleaner.input.sulfate':]\n",
    "gold_recovery_test_without_date = gold_recovery_test.loc[:, 'primary_cleaner.input.sulfate':]\n",
    "\n",
    "rougher_train_target = gold_recovery_full[gold_recovery_full['date'].isin(gold_recovery_train['date'])]['rougher.output.recovery']\n",
    "rougher_test_target = gold_recovery_full[gold_recovery_full['date'].isin(gold_recovery_test['date'])]['rougher.output.recovery']\n",
    "\n",
    "final_train_target = gold_recovery_full[gold_recovery_full['date'].isin(gold_recovery_train['date'])]['final.output.recovery']\n",
    "final_test_target = gold_recovery_full[gold_recovery_full['date'].isin(gold_recovery_test['date'])]['final.output.recovery']"
   ]
  },
  {
   "cell_type": "code",
   "execution_count": 32,
   "metadata": {
    "scrolled": true
   },
   "outputs": [
    {
     "name": "stderr",
     "output_type": "stream",
     "text": [
      "  0%|          | 0/4 [00:00<?, ?it/s]\n",
      "  0%|          | 0/9 [00:00<?, ?it/s]\u001b[A\n",
      " 11%|█         | 1/9 [00:00<00:07,  1.11it/s]\u001b[A\n",
      " 22%|██▏       | 2/9 [00:02<00:08,  1.21s/it]\u001b[A\n",
      " 33%|███▎      | 3/9 [00:04<00:09,  1.59s/it]\u001b[A\n",
      " 44%|████▍     | 4/9 [00:07<00:10,  2.01s/it]\u001b[A\n",
      " 56%|█████▌    | 5/9 [00:10<00:09,  2.43s/it]\u001b[A\n",
      " 67%|██████▋   | 6/9 [00:13<00:08,  2.86s/it]\u001b[A\n",
      " 78%|███████▊  | 7/9 [00:18<00:06,  3.30s/it]\u001b[A\n",
      " 89%|████████▉ | 8/9 [00:22<00:03,  3.72s/it]\u001b[A\n",
      "100%|██████████| 9/9 [00:30<00:00,  3.36s/it]\u001b[A\n",
      " 25%|██▌       | 1/4 [00:30<01:30, 30.21s/it]\n",
      "  0%|          | 0/9 [00:00<?, ?it/s]\u001b[A\n",
      " 11%|█         | 1/9 [00:04<00:32,  4.02s/it]\u001b[A\n",
      " 25%|██▌       | 1/4 [00:34<01:42, 34.23s/it]\n"
     ]
    },
    {
     "ename": "KeyboardInterrupt",
     "evalue": "",
     "output_type": "error",
     "traceback": [
      "\u001b[0;31m---------------------------------------------------------------------------\u001b[0m",
      "\u001b[0;31mKeyboardInterrupt\u001b[0m                         Traceback (most recent call last)",
      "\u001b[0;32m/tmp/ipykernel_31/2277661948.py\u001b[0m in \u001b[0;36m<module>\u001b[0;34m\u001b[0m\n\u001b[1;32m      8\u001b[0m     \u001b[0;32mfor\u001b[0m \u001b[0mdepth\u001b[0m \u001b[0;32min\u001b[0m \u001b[0mtqdm\u001b[0m\u001b[0;34m(\u001b[0m\u001b[0mrange\u001b[0m\u001b[0;34m(\u001b[0m\u001b[0;36m1\u001b[0m\u001b[0;34m,\u001b[0m \u001b[0;36m10\u001b[0m\u001b[0;34m)\u001b[0m\u001b[0;34m)\u001b[0m\u001b[0;34m:\u001b[0m\u001b[0;34m\u001b[0m\u001b[0;34m\u001b[0m\u001b[0m\n\u001b[1;32m      9\u001b[0m         \u001b[0mmodel\u001b[0m \u001b[0;34m=\u001b[0m \u001b[0mRandomForestRegressor\u001b[0m\u001b[0;34m(\u001b[0m\u001b[0mmax_depth\u001b[0m\u001b[0;34m=\u001b[0m\u001b[0mdepth\u001b[0m\u001b[0;34m,\u001b[0m \u001b[0mn_estimators\u001b[0m\u001b[0;34m=\u001b[0m\u001b[0mn_est\u001b[0m\u001b[0;34m,\u001b[0m \u001b[0mrandom_state\u001b[0m\u001b[0;34m=\u001b[0m\u001b[0;36m123\u001b[0m\u001b[0;34m)\u001b[0m\u001b[0;34m\u001b[0m\u001b[0;34m\u001b[0m\u001b[0m\n\u001b[0;32m---> 10\u001b[0;31m         \u001b[0msmae\u001b[0m \u001b[0;34m=\u001b[0m \u001b[0mcross_val_score\u001b[0m\u001b[0;34m(\u001b[0m\u001b[0mmodel\u001b[0m\u001b[0;34m,\u001b[0m \u001b[0mgold_recovery_train_without_date\u001b[0m\u001b[0;34m,\u001b[0m \u001b[0mrougher_train_target\u001b[0m\u001b[0;34m,\u001b[0m \u001b[0mcv\u001b[0m\u001b[0;34m=\u001b[0m\u001b[0;36m5\u001b[0m\u001b[0;34m,\u001b[0m \u001b[0mscoring\u001b[0m\u001b[0;34m=\u001b[0m\u001b[0mscorer\u001b[0m\u001b[0;34m)\u001b[0m\u001b[0;34m.\u001b[0m\u001b[0mmean\u001b[0m\u001b[0;34m(\u001b[0m\u001b[0;34m)\u001b[0m\u001b[0;34m\u001b[0m\u001b[0;34m\u001b[0m\u001b[0m\n\u001b[0m\u001b[1;32m     11\u001b[0m         \u001b[0;32mif\u001b[0m \u001b[0msmae\u001b[0m \u001b[0;34m<\u001b[0m \u001b[0mbest_smae\u001b[0m\u001b[0;34m:\u001b[0m\u001b[0;34m\u001b[0m\u001b[0;34m\u001b[0m\u001b[0m\n\u001b[1;32m     12\u001b[0m             \u001b[0mbest_smae\u001b[0m \u001b[0;34m=\u001b[0m \u001b[0msmae\u001b[0m\u001b[0;34m\u001b[0m\u001b[0;34m\u001b[0m\u001b[0m\n",
      "\u001b[0;32m/opt/conda/lib/python3.9/site-packages/sklearn/utils/validation.py\u001b[0m in \u001b[0;36minner_f\u001b[0;34m(*args, **kwargs)\u001b[0m\n\u001b[1;32m     61\u001b[0m             \u001b[0mextra_args\u001b[0m \u001b[0;34m=\u001b[0m \u001b[0mlen\u001b[0m\u001b[0;34m(\u001b[0m\u001b[0margs\u001b[0m\u001b[0;34m)\u001b[0m \u001b[0;34m-\u001b[0m \u001b[0mlen\u001b[0m\u001b[0;34m(\u001b[0m\u001b[0mall_args\u001b[0m\u001b[0;34m)\u001b[0m\u001b[0;34m\u001b[0m\u001b[0;34m\u001b[0m\u001b[0m\n\u001b[1;32m     62\u001b[0m             \u001b[0;32mif\u001b[0m \u001b[0mextra_args\u001b[0m \u001b[0;34m<=\u001b[0m \u001b[0;36m0\u001b[0m\u001b[0;34m:\u001b[0m\u001b[0;34m\u001b[0m\u001b[0;34m\u001b[0m\u001b[0m\n\u001b[0;32m---> 63\u001b[0;31m                 \u001b[0;32mreturn\u001b[0m \u001b[0mf\u001b[0m\u001b[0;34m(\u001b[0m\u001b[0;34m*\u001b[0m\u001b[0margs\u001b[0m\u001b[0;34m,\u001b[0m \u001b[0;34m**\u001b[0m\u001b[0mkwargs\u001b[0m\u001b[0;34m)\u001b[0m\u001b[0;34m\u001b[0m\u001b[0;34m\u001b[0m\u001b[0m\n\u001b[0m\u001b[1;32m     64\u001b[0m \u001b[0;34m\u001b[0m\u001b[0m\n\u001b[1;32m     65\u001b[0m             \u001b[0;31m# extra_args > 0\u001b[0m\u001b[0;34m\u001b[0m\u001b[0;34m\u001b[0m\u001b[0;34m\u001b[0m\u001b[0m\n",
      "\u001b[0;32m/opt/conda/lib/python3.9/site-packages/sklearn/model_selection/_validation.py\u001b[0m in \u001b[0;36mcross_val_score\u001b[0;34m(estimator, X, y, groups, scoring, cv, n_jobs, verbose, fit_params, pre_dispatch, error_score)\u001b[0m\n\u001b[1;32m    438\u001b[0m     \u001b[0mscorer\u001b[0m \u001b[0;34m=\u001b[0m \u001b[0mcheck_scoring\u001b[0m\u001b[0;34m(\u001b[0m\u001b[0mestimator\u001b[0m\u001b[0;34m,\u001b[0m \u001b[0mscoring\u001b[0m\u001b[0;34m=\u001b[0m\u001b[0mscoring\u001b[0m\u001b[0;34m)\u001b[0m\u001b[0;34m\u001b[0m\u001b[0;34m\u001b[0m\u001b[0m\n\u001b[1;32m    439\u001b[0m \u001b[0;34m\u001b[0m\u001b[0m\n\u001b[0;32m--> 440\u001b[0;31m     cv_results = cross_validate(estimator=estimator, X=X, y=y, groups=groups,\n\u001b[0m\u001b[1;32m    441\u001b[0m                                 \u001b[0mscoring\u001b[0m\u001b[0;34m=\u001b[0m\u001b[0;34m{\u001b[0m\u001b[0;34m'score'\u001b[0m\u001b[0;34m:\u001b[0m \u001b[0mscorer\u001b[0m\u001b[0;34m}\u001b[0m\u001b[0;34m,\u001b[0m \u001b[0mcv\u001b[0m\u001b[0;34m=\u001b[0m\u001b[0mcv\u001b[0m\u001b[0;34m,\u001b[0m\u001b[0;34m\u001b[0m\u001b[0;34m\u001b[0m\u001b[0m\n\u001b[1;32m    442\u001b[0m                                 \u001b[0mn_jobs\u001b[0m\u001b[0;34m=\u001b[0m\u001b[0mn_jobs\u001b[0m\u001b[0;34m,\u001b[0m \u001b[0mverbose\u001b[0m\u001b[0;34m=\u001b[0m\u001b[0mverbose\u001b[0m\u001b[0;34m,\u001b[0m\u001b[0;34m\u001b[0m\u001b[0;34m\u001b[0m\u001b[0m\n",
      "\u001b[0;32m/opt/conda/lib/python3.9/site-packages/sklearn/utils/validation.py\u001b[0m in \u001b[0;36minner_f\u001b[0;34m(*args, **kwargs)\u001b[0m\n\u001b[1;32m     61\u001b[0m             \u001b[0mextra_args\u001b[0m \u001b[0;34m=\u001b[0m \u001b[0mlen\u001b[0m\u001b[0;34m(\u001b[0m\u001b[0margs\u001b[0m\u001b[0;34m)\u001b[0m \u001b[0;34m-\u001b[0m \u001b[0mlen\u001b[0m\u001b[0;34m(\u001b[0m\u001b[0mall_args\u001b[0m\u001b[0;34m)\u001b[0m\u001b[0;34m\u001b[0m\u001b[0;34m\u001b[0m\u001b[0m\n\u001b[1;32m     62\u001b[0m             \u001b[0;32mif\u001b[0m \u001b[0mextra_args\u001b[0m \u001b[0;34m<=\u001b[0m \u001b[0;36m0\u001b[0m\u001b[0;34m:\u001b[0m\u001b[0;34m\u001b[0m\u001b[0;34m\u001b[0m\u001b[0m\n\u001b[0;32m---> 63\u001b[0;31m                 \u001b[0;32mreturn\u001b[0m \u001b[0mf\u001b[0m\u001b[0;34m(\u001b[0m\u001b[0;34m*\u001b[0m\u001b[0margs\u001b[0m\u001b[0;34m,\u001b[0m \u001b[0;34m**\u001b[0m\u001b[0mkwargs\u001b[0m\u001b[0;34m)\u001b[0m\u001b[0;34m\u001b[0m\u001b[0;34m\u001b[0m\u001b[0m\n\u001b[0m\u001b[1;32m     64\u001b[0m \u001b[0;34m\u001b[0m\u001b[0m\n\u001b[1;32m     65\u001b[0m             \u001b[0;31m# extra_args > 0\u001b[0m\u001b[0;34m\u001b[0m\u001b[0;34m\u001b[0m\u001b[0;34m\u001b[0m\u001b[0m\n",
      "\u001b[0;32m/opt/conda/lib/python3.9/site-packages/sklearn/model_selection/_validation.py\u001b[0m in \u001b[0;36mcross_validate\u001b[0;34m(estimator, X, y, groups, scoring, cv, n_jobs, verbose, fit_params, pre_dispatch, return_train_score, return_estimator, error_score)\u001b[0m\n\u001b[1;32m    244\u001b[0m     parallel = Parallel(n_jobs=n_jobs, verbose=verbose,\n\u001b[1;32m    245\u001b[0m                         pre_dispatch=pre_dispatch)\n\u001b[0;32m--> 246\u001b[0;31m     results = parallel(\n\u001b[0m\u001b[1;32m    247\u001b[0m         delayed(_fit_and_score)(\n\u001b[1;32m    248\u001b[0m             \u001b[0mclone\u001b[0m\u001b[0;34m(\u001b[0m\u001b[0mestimator\u001b[0m\u001b[0;34m)\u001b[0m\u001b[0;34m,\u001b[0m \u001b[0mX\u001b[0m\u001b[0;34m,\u001b[0m \u001b[0my\u001b[0m\u001b[0;34m,\u001b[0m \u001b[0mscorers\u001b[0m\u001b[0;34m,\u001b[0m \u001b[0mtrain\u001b[0m\u001b[0;34m,\u001b[0m \u001b[0mtest\u001b[0m\u001b[0;34m,\u001b[0m \u001b[0mverbose\u001b[0m\u001b[0;34m,\u001b[0m \u001b[0;32mNone\u001b[0m\u001b[0;34m,\u001b[0m\u001b[0;34m\u001b[0m\u001b[0;34m\u001b[0m\u001b[0m\n",
      "\u001b[0;32m/opt/conda/lib/python3.9/site-packages/joblib/parallel.py\u001b[0m in \u001b[0;36m__call__\u001b[0;34m(self, iterable)\u001b[0m\n\u001b[1;32m   1044\u001b[0m                 \u001b[0mself\u001b[0m\u001b[0;34m.\u001b[0m\u001b[0m_iterating\u001b[0m \u001b[0;34m=\u001b[0m \u001b[0mself\u001b[0m\u001b[0;34m.\u001b[0m\u001b[0m_original_iterator\u001b[0m \u001b[0;32mis\u001b[0m \u001b[0;32mnot\u001b[0m \u001b[0;32mNone\u001b[0m\u001b[0;34m\u001b[0m\u001b[0;34m\u001b[0m\u001b[0m\n\u001b[1;32m   1045\u001b[0m \u001b[0;34m\u001b[0m\u001b[0m\n\u001b[0;32m-> 1046\u001b[0;31m             \u001b[0;32mwhile\u001b[0m \u001b[0mself\u001b[0m\u001b[0;34m.\u001b[0m\u001b[0mdispatch_one_batch\u001b[0m\u001b[0;34m(\u001b[0m\u001b[0miterator\u001b[0m\u001b[0;34m)\u001b[0m\u001b[0;34m:\u001b[0m\u001b[0;34m\u001b[0m\u001b[0;34m\u001b[0m\u001b[0m\n\u001b[0m\u001b[1;32m   1047\u001b[0m                 \u001b[0;32mpass\u001b[0m\u001b[0;34m\u001b[0m\u001b[0;34m\u001b[0m\u001b[0m\n\u001b[1;32m   1048\u001b[0m \u001b[0;34m\u001b[0m\u001b[0m\n",
      "\u001b[0;32m/opt/conda/lib/python3.9/site-packages/joblib/parallel.py\u001b[0m in \u001b[0;36mdispatch_one_batch\u001b[0;34m(self, iterator)\u001b[0m\n\u001b[1;32m    859\u001b[0m                 \u001b[0;32mreturn\u001b[0m \u001b[0;32mFalse\u001b[0m\u001b[0;34m\u001b[0m\u001b[0;34m\u001b[0m\u001b[0m\n\u001b[1;32m    860\u001b[0m             \u001b[0;32melse\u001b[0m\u001b[0;34m:\u001b[0m\u001b[0;34m\u001b[0m\u001b[0;34m\u001b[0m\u001b[0m\n\u001b[0;32m--> 861\u001b[0;31m                 \u001b[0mself\u001b[0m\u001b[0;34m.\u001b[0m\u001b[0m_dispatch\u001b[0m\u001b[0;34m(\u001b[0m\u001b[0mtasks\u001b[0m\u001b[0;34m)\u001b[0m\u001b[0;34m\u001b[0m\u001b[0;34m\u001b[0m\u001b[0m\n\u001b[0m\u001b[1;32m    862\u001b[0m                 \u001b[0;32mreturn\u001b[0m \u001b[0;32mTrue\u001b[0m\u001b[0;34m\u001b[0m\u001b[0;34m\u001b[0m\u001b[0m\n\u001b[1;32m    863\u001b[0m \u001b[0;34m\u001b[0m\u001b[0m\n",
      "\u001b[0;32m/opt/conda/lib/python3.9/site-packages/joblib/parallel.py\u001b[0m in \u001b[0;36m_dispatch\u001b[0;34m(self, batch)\u001b[0m\n\u001b[1;32m    777\u001b[0m         \u001b[0;32mwith\u001b[0m \u001b[0mself\u001b[0m\u001b[0;34m.\u001b[0m\u001b[0m_lock\u001b[0m\u001b[0;34m:\u001b[0m\u001b[0;34m\u001b[0m\u001b[0;34m\u001b[0m\u001b[0m\n\u001b[1;32m    778\u001b[0m             \u001b[0mjob_idx\u001b[0m \u001b[0;34m=\u001b[0m \u001b[0mlen\u001b[0m\u001b[0;34m(\u001b[0m\u001b[0mself\u001b[0m\u001b[0;34m.\u001b[0m\u001b[0m_jobs\u001b[0m\u001b[0;34m)\u001b[0m\u001b[0;34m\u001b[0m\u001b[0;34m\u001b[0m\u001b[0m\n\u001b[0;32m--> 779\u001b[0;31m             \u001b[0mjob\u001b[0m \u001b[0;34m=\u001b[0m \u001b[0mself\u001b[0m\u001b[0;34m.\u001b[0m\u001b[0m_backend\u001b[0m\u001b[0;34m.\u001b[0m\u001b[0mapply_async\u001b[0m\u001b[0;34m(\u001b[0m\u001b[0mbatch\u001b[0m\u001b[0;34m,\u001b[0m \u001b[0mcallback\u001b[0m\u001b[0;34m=\u001b[0m\u001b[0mcb\u001b[0m\u001b[0;34m)\u001b[0m\u001b[0;34m\u001b[0m\u001b[0;34m\u001b[0m\u001b[0m\n\u001b[0m\u001b[1;32m    780\u001b[0m             \u001b[0;31m# A job can complete so quickly than its callback is\u001b[0m\u001b[0;34m\u001b[0m\u001b[0;34m\u001b[0m\u001b[0;34m\u001b[0m\u001b[0m\n\u001b[1;32m    781\u001b[0m             \u001b[0;31m# called before we get here, causing self._jobs to\u001b[0m\u001b[0;34m\u001b[0m\u001b[0;34m\u001b[0m\u001b[0;34m\u001b[0m\u001b[0m\n",
      "\u001b[0;32m/opt/conda/lib/python3.9/site-packages/joblib/_parallel_backends.py\u001b[0m in \u001b[0;36mapply_async\u001b[0;34m(self, func, callback)\u001b[0m\n\u001b[1;32m    206\u001b[0m     \u001b[0;32mdef\u001b[0m \u001b[0mapply_async\u001b[0m\u001b[0;34m(\u001b[0m\u001b[0mself\u001b[0m\u001b[0;34m,\u001b[0m \u001b[0mfunc\u001b[0m\u001b[0;34m,\u001b[0m \u001b[0mcallback\u001b[0m\u001b[0;34m=\u001b[0m\u001b[0;32mNone\u001b[0m\u001b[0;34m)\u001b[0m\u001b[0;34m:\u001b[0m\u001b[0;34m\u001b[0m\u001b[0;34m\u001b[0m\u001b[0m\n\u001b[1;32m    207\u001b[0m         \u001b[0;34m\"\"\"Schedule a func to be run\"\"\"\u001b[0m\u001b[0;34m\u001b[0m\u001b[0;34m\u001b[0m\u001b[0m\n\u001b[0;32m--> 208\u001b[0;31m         \u001b[0mresult\u001b[0m \u001b[0;34m=\u001b[0m \u001b[0mImmediateResult\u001b[0m\u001b[0;34m(\u001b[0m\u001b[0mfunc\u001b[0m\u001b[0;34m)\u001b[0m\u001b[0;34m\u001b[0m\u001b[0;34m\u001b[0m\u001b[0m\n\u001b[0m\u001b[1;32m    209\u001b[0m         \u001b[0;32mif\u001b[0m \u001b[0mcallback\u001b[0m\u001b[0;34m:\u001b[0m\u001b[0;34m\u001b[0m\u001b[0;34m\u001b[0m\u001b[0m\n\u001b[1;32m    210\u001b[0m             \u001b[0mcallback\u001b[0m\u001b[0;34m(\u001b[0m\u001b[0mresult\u001b[0m\u001b[0;34m)\u001b[0m\u001b[0;34m\u001b[0m\u001b[0;34m\u001b[0m\u001b[0m\n",
      "\u001b[0;32m/opt/conda/lib/python3.9/site-packages/joblib/_parallel_backends.py\u001b[0m in \u001b[0;36m__init__\u001b[0;34m(self, batch)\u001b[0m\n\u001b[1;32m    570\u001b[0m         \u001b[0;31m# Don't delay the application, to avoid keeping the input\u001b[0m\u001b[0;34m\u001b[0m\u001b[0;34m\u001b[0m\u001b[0;34m\u001b[0m\u001b[0m\n\u001b[1;32m    571\u001b[0m         \u001b[0;31m# arguments in memory\u001b[0m\u001b[0;34m\u001b[0m\u001b[0;34m\u001b[0m\u001b[0;34m\u001b[0m\u001b[0m\n\u001b[0;32m--> 572\u001b[0;31m         \u001b[0mself\u001b[0m\u001b[0;34m.\u001b[0m\u001b[0mresults\u001b[0m \u001b[0;34m=\u001b[0m \u001b[0mbatch\u001b[0m\u001b[0;34m(\u001b[0m\u001b[0;34m)\u001b[0m\u001b[0;34m\u001b[0m\u001b[0;34m\u001b[0m\u001b[0m\n\u001b[0m\u001b[1;32m    573\u001b[0m \u001b[0;34m\u001b[0m\u001b[0m\n\u001b[1;32m    574\u001b[0m     \u001b[0;32mdef\u001b[0m \u001b[0mget\u001b[0m\u001b[0;34m(\u001b[0m\u001b[0mself\u001b[0m\u001b[0;34m)\u001b[0m\u001b[0;34m:\u001b[0m\u001b[0;34m\u001b[0m\u001b[0;34m\u001b[0m\u001b[0m\n",
      "\u001b[0;32m/opt/conda/lib/python3.9/site-packages/joblib/parallel.py\u001b[0m in \u001b[0;36m__call__\u001b[0;34m(self)\u001b[0m\n\u001b[1;32m    260\u001b[0m         \u001b[0;31m# change the default number of processes to -1\u001b[0m\u001b[0;34m\u001b[0m\u001b[0;34m\u001b[0m\u001b[0;34m\u001b[0m\u001b[0m\n\u001b[1;32m    261\u001b[0m         \u001b[0;32mwith\u001b[0m \u001b[0mparallel_backend\u001b[0m\u001b[0;34m(\u001b[0m\u001b[0mself\u001b[0m\u001b[0;34m.\u001b[0m\u001b[0m_backend\u001b[0m\u001b[0;34m,\u001b[0m \u001b[0mn_jobs\u001b[0m\u001b[0;34m=\u001b[0m\u001b[0mself\u001b[0m\u001b[0;34m.\u001b[0m\u001b[0m_n_jobs\u001b[0m\u001b[0;34m)\u001b[0m\u001b[0;34m:\u001b[0m\u001b[0;34m\u001b[0m\u001b[0;34m\u001b[0m\u001b[0m\n\u001b[0;32m--> 262\u001b[0;31m             return [func(*args, **kwargs)\n\u001b[0m\u001b[1;32m    263\u001b[0m                     for func, args, kwargs in self.items]\n\u001b[1;32m    264\u001b[0m \u001b[0;34m\u001b[0m\u001b[0m\n",
      "\u001b[0;32m/opt/conda/lib/python3.9/site-packages/joblib/parallel.py\u001b[0m in \u001b[0;36m<listcomp>\u001b[0;34m(.0)\u001b[0m\n\u001b[1;32m    260\u001b[0m         \u001b[0;31m# change the default number of processes to -1\u001b[0m\u001b[0;34m\u001b[0m\u001b[0;34m\u001b[0m\u001b[0;34m\u001b[0m\u001b[0m\n\u001b[1;32m    261\u001b[0m         \u001b[0;32mwith\u001b[0m \u001b[0mparallel_backend\u001b[0m\u001b[0;34m(\u001b[0m\u001b[0mself\u001b[0m\u001b[0;34m.\u001b[0m\u001b[0m_backend\u001b[0m\u001b[0;34m,\u001b[0m \u001b[0mn_jobs\u001b[0m\u001b[0;34m=\u001b[0m\u001b[0mself\u001b[0m\u001b[0;34m.\u001b[0m\u001b[0m_n_jobs\u001b[0m\u001b[0;34m)\u001b[0m\u001b[0;34m:\u001b[0m\u001b[0;34m\u001b[0m\u001b[0;34m\u001b[0m\u001b[0m\n\u001b[0;32m--> 262\u001b[0;31m             return [func(*args, **kwargs)\n\u001b[0m\u001b[1;32m    263\u001b[0m                     for func, args, kwargs in self.items]\n\u001b[1;32m    264\u001b[0m \u001b[0;34m\u001b[0m\u001b[0m\n",
      "\u001b[0;32m/opt/conda/lib/python3.9/site-packages/sklearn/utils/fixes.py\u001b[0m in \u001b[0;36m__call__\u001b[0;34m(self, *args, **kwargs)\u001b[0m\n\u001b[1;32m    220\u001b[0m     \u001b[0;32mdef\u001b[0m \u001b[0m__call__\u001b[0m\u001b[0;34m(\u001b[0m\u001b[0mself\u001b[0m\u001b[0;34m,\u001b[0m \u001b[0;34m*\u001b[0m\u001b[0margs\u001b[0m\u001b[0;34m,\u001b[0m \u001b[0;34m**\u001b[0m\u001b[0mkwargs\u001b[0m\u001b[0;34m)\u001b[0m\u001b[0;34m:\u001b[0m\u001b[0;34m\u001b[0m\u001b[0;34m\u001b[0m\u001b[0m\n\u001b[1;32m    221\u001b[0m         \u001b[0;32mwith\u001b[0m \u001b[0mconfig_context\u001b[0m\u001b[0;34m(\u001b[0m\u001b[0;34m**\u001b[0m\u001b[0mself\u001b[0m\u001b[0;34m.\u001b[0m\u001b[0mconfig\u001b[0m\u001b[0;34m)\u001b[0m\u001b[0;34m:\u001b[0m\u001b[0;34m\u001b[0m\u001b[0;34m\u001b[0m\u001b[0m\n\u001b[0;32m--> 222\u001b[0;31m             \u001b[0;32mreturn\u001b[0m \u001b[0mself\u001b[0m\u001b[0;34m.\u001b[0m\u001b[0mfunction\u001b[0m\u001b[0;34m(\u001b[0m\u001b[0;34m*\u001b[0m\u001b[0margs\u001b[0m\u001b[0;34m,\u001b[0m \u001b[0;34m**\u001b[0m\u001b[0mkwargs\u001b[0m\u001b[0;34m)\u001b[0m\u001b[0;34m\u001b[0m\u001b[0;34m\u001b[0m\u001b[0m\n\u001b[0m",
      "\u001b[0;32m/opt/conda/lib/python3.9/site-packages/sklearn/model_selection/_validation.py\u001b[0m in \u001b[0;36m_fit_and_score\u001b[0;34m(estimator, X, y, scorer, train, test, verbose, parameters, fit_params, return_train_score, return_parameters, return_n_test_samples, return_times, return_estimator, split_progress, candidate_progress, error_score)\u001b[0m\n\u001b[1;32m    591\u001b[0m             \u001b[0mestimator\u001b[0m\u001b[0;34m.\u001b[0m\u001b[0mfit\u001b[0m\u001b[0;34m(\u001b[0m\u001b[0mX_train\u001b[0m\u001b[0;34m,\u001b[0m \u001b[0;34m**\u001b[0m\u001b[0mfit_params\u001b[0m\u001b[0;34m)\u001b[0m\u001b[0;34m\u001b[0m\u001b[0;34m\u001b[0m\u001b[0m\n\u001b[1;32m    592\u001b[0m         \u001b[0;32melse\u001b[0m\u001b[0;34m:\u001b[0m\u001b[0;34m\u001b[0m\u001b[0;34m\u001b[0m\u001b[0m\n\u001b[0;32m--> 593\u001b[0;31m             \u001b[0mestimator\u001b[0m\u001b[0;34m.\u001b[0m\u001b[0mfit\u001b[0m\u001b[0;34m(\u001b[0m\u001b[0mX_train\u001b[0m\u001b[0;34m,\u001b[0m \u001b[0my_train\u001b[0m\u001b[0;34m,\u001b[0m \u001b[0;34m**\u001b[0m\u001b[0mfit_params\u001b[0m\u001b[0;34m)\u001b[0m\u001b[0;34m\u001b[0m\u001b[0;34m\u001b[0m\u001b[0m\n\u001b[0m\u001b[1;32m    594\u001b[0m \u001b[0;34m\u001b[0m\u001b[0m\n\u001b[1;32m    595\u001b[0m     \u001b[0;32mexcept\u001b[0m \u001b[0mException\u001b[0m \u001b[0;32mas\u001b[0m \u001b[0me\u001b[0m\u001b[0;34m:\u001b[0m\u001b[0;34m\u001b[0m\u001b[0;34m\u001b[0m\u001b[0m\n",
      "\u001b[0;32m/opt/conda/lib/python3.9/site-packages/sklearn/ensemble/_forest.py\u001b[0m in \u001b[0;36mfit\u001b[0;34m(self, X, y, sample_weight)\u001b[0m\n\u001b[1;32m    385\u001b[0m             \u001b[0;31m# parallel_backend contexts set at a higher level,\u001b[0m\u001b[0;34m\u001b[0m\u001b[0;34m\u001b[0m\u001b[0;34m\u001b[0m\u001b[0m\n\u001b[1;32m    386\u001b[0m             \u001b[0;31m# since correctness does not rely on using threads.\u001b[0m\u001b[0;34m\u001b[0m\u001b[0;34m\u001b[0m\u001b[0;34m\u001b[0m\u001b[0m\n\u001b[0;32m--> 387\u001b[0;31m             trees = Parallel(n_jobs=self.n_jobs, verbose=self.verbose,\n\u001b[0m\u001b[1;32m    388\u001b[0m                              \u001b[0;34m**\u001b[0m\u001b[0m_joblib_parallel_args\u001b[0m\u001b[0;34m(\u001b[0m\u001b[0mprefer\u001b[0m\u001b[0;34m=\u001b[0m\u001b[0;34m'threads'\u001b[0m\u001b[0;34m)\u001b[0m\u001b[0;34m)\u001b[0m\u001b[0;34m(\u001b[0m\u001b[0;34m\u001b[0m\u001b[0;34m\u001b[0m\u001b[0m\n\u001b[1;32m    389\u001b[0m                 delayed(_parallel_build_trees)(\n",
      "\u001b[0;32m/opt/conda/lib/python3.9/site-packages/joblib/parallel.py\u001b[0m in \u001b[0;36m__call__\u001b[0;34m(self, iterable)\u001b[0m\n\u001b[1;32m   1044\u001b[0m                 \u001b[0mself\u001b[0m\u001b[0;34m.\u001b[0m\u001b[0m_iterating\u001b[0m \u001b[0;34m=\u001b[0m \u001b[0mself\u001b[0m\u001b[0;34m.\u001b[0m\u001b[0m_original_iterator\u001b[0m \u001b[0;32mis\u001b[0m \u001b[0;32mnot\u001b[0m \u001b[0;32mNone\u001b[0m\u001b[0;34m\u001b[0m\u001b[0;34m\u001b[0m\u001b[0m\n\u001b[1;32m   1045\u001b[0m \u001b[0;34m\u001b[0m\u001b[0m\n\u001b[0;32m-> 1046\u001b[0;31m             \u001b[0;32mwhile\u001b[0m \u001b[0mself\u001b[0m\u001b[0;34m.\u001b[0m\u001b[0mdispatch_one_batch\u001b[0m\u001b[0;34m(\u001b[0m\u001b[0miterator\u001b[0m\u001b[0;34m)\u001b[0m\u001b[0;34m:\u001b[0m\u001b[0;34m\u001b[0m\u001b[0;34m\u001b[0m\u001b[0m\n\u001b[0m\u001b[1;32m   1047\u001b[0m                 \u001b[0;32mpass\u001b[0m\u001b[0;34m\u001b[0m\u001b[0;34m\u001b[0m\u001b[0m\n\u001b[1;32m   1048\u001b[0m \u001b[0;34m\u001b[0m\u001b[0m\n",
      "\u001b[0;32m/opt/conda/lib/python3.9/site-packages/joblib/parallel.py\u001b[0m in \u001b[0;36mdispatch_one_batch\u001b[0;34m(self, iterator)\u001b[0m\n\u001b[1;32m    859\u001b[0m                 \u001b[0;32mreturn\u001b[0m \u001b[0;32mFalse\u001b[0m\u001b[0;34m\u001b[0m\u001b[0;34m\u001b[0m\u001b[0m\n\u001b[1;32m    860\u001b[0m             \u001b[0;32melse\u001b[0m\u001b[0;34m:\u001b[0m\u001b[0;34m\u001b[0m\u001b[0;34m\u001b[0m\u001b[0m\n\u001b[0;32m--> 861\u001b[0;31m                 \u001b[0mself\u001b[0m\u001b[0;34m.\u001b[0m\u001b[0m_dispatch\u001b[0m\u001b[0;34m(\u001b[0m\u001b[0mtasks\u001b[0m\u001b[0;34m)\u001b[0m\u001b[0;34m\u001b[0m\u001b[0;34m\u001b[0m\u001b[0m\n\u001b[0m\u001b[1;32m    862\u001b[0m                 \u001b[0;32mreturn\u001b[0m \u001b[0;32mTrue\u001b[0m\u001b[0;34m\u001b[0m\u001b[0;34m\u001b[0m\u001b[0m\n\u001b[1;32m    863\u001b[0m \u001b[0;34m\u001b[0m\u001b[0m\n",
      "\u001b[0;32m/opt/conda/lib/python3.9/site-packages/joblib/parallel.py\u001b[0m in \u001b[0;36m_dispatch\u001b[0;34m(self, batch)\u001b[0m\n\u001b[1;32m    777\u001b[0m         \u001b[0;32mwith\u001b[0m \u001b[0mself\u001b[0m\u001b[0;34m.\u001b[0m\u001b[0m_lock\u001b[0m\u001b[0;34m:\u001b[0m\u001b[0;34m\u001b[0m\u001b[0;34m\u001b[0m\u001b[0m\n\u001b[1;32m    778\u001b[0m             \u001b[0mjob_idx\u001b[0m \u001b[0;34m=\u001b[0m \u001b[0mlen\u001b[0m\u001b[0;34m(\u001b[0m\u001b[0mself\u001b[0m\u001b[0;34m.\u001b[0m\u001b[0m_jobs\u001b[0m\u001b[0;34m)\u001b[0m\u001b[0;34m\u001b[0m\u001b[0;34m\u001b[0m\u001b[0m\n\u001b[0;32m--> 779\u001b[0;31m             \u001b[0mjob\u001b[0m \u001b[0;34m=\u001b[0m \u001b[0mself\u001b[0m\u001b[0;34m.\u001b[0m\u001b[0m_backend\u001b[0m\u001b[0;34m.\u001b[0m\u001b[0mapply_async\u001b[0m\u001b[0;34m(\u001b[0m\u001b[0mbatch\u001b[0m\u001b[0;34m,\u001b[0m \u001b[0mcallback\u001b[0m\u001b[0;34m=\u001b[0m\u001b[0mcb\u001b[0m\u001b[0;34m)\u001b[0m\u001b[0;34m\u001b[0m\u001b[0;34m\u001b[0m\u001b[0m\n\u001b[0m\u001b[1;32m    780\u001b[0m             \u001b[0;31m# A job can complete so quickly than its callback is\u001b[0m\u001b[0;34m\u001b[0m\u001b[0;34m\u001b[0m\u001b[0;34m\u001b[0m\u001b[0m\n\u001b[1;32m    781\u001b[0m             \u001b[0;31m# called before we get here, causing self._jobs to\u001b[0m\u001b[0;34m\u001b[0m\u001b[0;34m\u001b[0m\u001b[0;34m\u001b[0m\u001b[0m\n",
      "\u001b[0;32m/opt/conda/lib/python3.9/site-packages/joblib/_parallel_backends.py\u001b[0m in \u001b[0;36mapply_async\u001b[0;34m(self, func, callback)\u001b[0m\n\u001b[1;32m    206\u001b[0m     \u001b[0;32mdef\u001b[0m \u001b[0mapply_async\u001b[0m\u001b[0;34m(\u001b[0m\u001b[0mself\u001b[0m\u001b[0;34m,\u001b[0m \u001b[0mfunc\u001b[0m\u001b[0;34m,\u001b[0m \u001b[0mcallback\u001b[0m\u001b[0;34m=\u001b[0m\u001b[0;32mNone\u001b[0m\u001b[0;34m)\u001b[0m\u001b[0;34m:\u001b[0m\u001b[0;34m\u001b[0m\u001b[0;34m\u001b[0m\u001b[0m\n\u001b[1;32m    207\u001b[0m         \u001b[0;34m\"\"\"Schedule a func to be run\"\"\"\u001b[0m\u001b[0;34m\u001b[0m\u001b[0;34m\u001b[0m\u001b[0m\n\u001b[0;32m--> 208\u001b[0;31m         \u001b[0mresult\u001b[0m \u001b[0;34m=\u001b[0m \u001b[0mImmediateResult\u001b[0m\u001b[0;34m(\u001b[0m\u001b[0mfunc\u001b[0m\u001b[0;34m)\u001b[0m\u001b[0;34m\u001b[0m\u001b[0;34m\u001b[0m\u001b[0m\n\u001b[0m\u001b[1;32m    209\u001b[0m         \u001b[0;32mif\u001b[0m \u001b[0mcallback\u001b[0m\u001b[0;34m:\u001b[0m\u001b[0;34m\u001b[0m\u001b[0;34m\u001b[0m\u001b[0m\n\u001b[1;32m    210\u001b[0m             \u001b[0mcallback\u001b[0m\u001b[0;34m(\u001b[0m\u001b[0mresult\u001b[0m\u001b[0;34m)\u001b[0m\u001b[0;34m\u001b[0m\u001b[0;34m\u001b[0m\u001b[0m\n",
      "\u001b[0;32m/opt/conda/lib/python3.9/site-packages/joblib/_parallel_backends.py\u001b[0m in \u001b[0;36m__init__\u001b[0;34m(self, batch)\u001b[0m\n\u001b[1;32m    570\u001b[0m         \u001b[0;31m# Don't delay the application, to avoid keeping the input\u001b[0m\u001b[0;34m\u001b[0m\u001b[0;34m\u001b[0m\u001b[0;34m\u001b[0m\u001b[0m\n\u001b[1;32m    571\u001b[0m         \u001b[0;31m# arguments in memory\u001b[0m\u001b[0;34m\u001b[0m\u001b[0;34m\u001b[0m\u001b[0;34m\u001b[0m\u001b[0m\n\u001b[0;32m--> 572\u001b[0;31m         \u001b[0mself\u001b[0m\u001b[0;34m.\u001b[0m\u001b[0mresults\u001b[0m \u001b[0;34m=\u001b[0m \u001b[0mbatch\u001b[0m\u001b[0;34m(\u001b[0m\u001b[0;34m)\u001b[0m\u001b[0;34m\u001b[0m\u001b[0;34m\u001b[0m\u001b[0m\n\u001b[0m\u001b[1;32m    573\u001b[0m \u001b[0;34m\u001b[0m\u001b[0m\n\u001b[1;32m    574\u001b[0m     \u001b[0;32mdef\u001b[0m \u001b[0mget\u001b[0m\u001b[0;34m(\u001b[0m\u001b[0mself\u001b[0m\u001b[0;34m)\u001b[0m\u001b[0;34m:\u001b[0m\u001b[0;34m\u001b[0m\u001b[0;34m\u001b[0m\u001b[0m\n",
      "\u001b[0;32m/opt/conda/lib/python3.9/site-packages/joblib/parallel.py\u001b[0m in \u001b[0;36m__call__\u001b[0;34m(self)\u001b[0m\n\u001b[1;32m    260\u001b[0m         \u001b[0;31m# change the default number of processes to -1\u001b[0m\u001b[0;34m\u001b[0m\u001b[0;34m\u001b[0m\u001b[0;34m\u001b[0m\u001b[0m\n\u001b[1;32m    261\u001b[0m         \u001b[0;32mwith\u001b[0m \u001b[0mparallel_backend\u001b[0m\u001b[0;34m(\u001b[0m\u001b[0mself\u001b[0m\u001b[0;34m.\u001b[0m\u001b[0m_backend\u001b[0m\u001b[0;34m,\u001b[0m \u001b[0mn_jobs\u001b[0m\u001b[0;34m=\u001b[0m\u001b[0mself\u001b[0m\u001b[0;34m.\u001b[0m\u001b[0m_n_jobs\u001b[0m\u001b[0;34m)\u001b[0m\u001b[0;34m:\u001b[0m\u001b[0;34m\u001b[0m\u001b[0;34m\u001b[0m\u001b[0m\n\u001b[0;32m--> 262\u001b[0;31m             return [func(*args, **kwargs)\n\u001b[0m\u001b[1;32m    263\u001b[0m                     for func, args, kwargs in self.items]\n\u001b[1;32m    264\u001b[0m \u001b[0;34m\u001b[0m\u001b[0m\n",
      "\u001b[0;32m/opt/conda/lib/python3.9/site-packages/joblib/parallel.py\u001b[0m in \u001b[0;36m<listcomp>\u001b[0;34m(.0)\u001b[0m\n\u001b[1;32m    260\u001b[0m         \u001b[0;31m# change the default number of processes to -1\u001b[0m\u001b[0;34m\u001b[0m\u001b[0;34m\u001b[0m\u001b[0;34m\u001b[0m\u001b[0m\n\u001b[1;32m    261\u001b[0m         \u001b[0;32mwith\u001b[0m \u001b[0mparallel_backend\u001b[0m\u001b[0;34m(\u001b[0m\u001b[0mself\u001b[0m\u001b[0;34m.\u001b[0m\u001b[0m_backend\u001b[0m\u001b[0;34m,\u001b[0m \u001b[0mn_jobs\u001b[0m\u001b[0;34m=\u001b[0m\u001b[0mself\u001b[0m\u001b[0;34m.\u001b[0m\u001b[0m_n_jobs\u001b[0m\u001b[0;34m)\u001b[0m\u001b[0;34m:\u001b[0m\u001b[0;34m\u001b[0m\u001b[0;34m\u001b[0m\u001b[0m\n\u001b[0;32m--> 262\u001b[0;31m             return [func(*args, **kwargs)\n\u001b[0m\u001b[1;32m    263\u001b[0m                     for func, args, kwargs in self.items]\n\u001b[1;32m    264\u001b[0m \u001b[0;34m\u001b[0m\u001b[0m\n",
      "\u001b[0;32m/opt/conda/lib/python3.9/site-packages/sklearn/utils/fixes.py\u001b[0m in \u001b[0;36m__call__\u001b[0;34m(self, *args, **kwargs)\u001b[0m\n\u001b[1;32m    220\u001b[0m     \u001b[0;32mdef\u001b[0m \u001b[0m__call__\u001b[0m\u001b[0;34m(\u001b[0m\u001b[0mself\u001b[0m\u001b[0;34m,\u001b[0m \u001b[0;34m*\u001b[0m\u001b[0margs\u001b[0m\u001b[0;34m,\u001b[0m \u001b[0;34m**\u001b[0m\u001b[0mkwargs\u001b[0m\u001b[0;34m)\u001b[0m\u001b[0;34m:\u001b[0m\u001b[0;34m\u001b[0m\u001b[0;34m\u001b[0m\u001b[0m\n\u001b[1;32m    221\u001b[0m         \u001b[0;32mwith\u001b[0m \u001b[0mconfig_context\u001b[0m\u001b[0;34m(\u001b[0m\u001b[0;34m**\u001b[0m\u001b[0mself\u001b[0m\u001b[0;34m.\u001b[0m\u001b[0mconfig\u001b[0m\u001b[0;34m)\u001b[0m\u001b[0;34m:\u001b[0m\u001b[0;34m\u001b[0m\u001b[0;34m\u001b[0m\u001b[0m\n\u001b[0;32m--> 222\u001b[0;31m             \u001b[0;32mreturn\u001b[0m \u001b[0mself\u001b[0m\u001b[0;34m.\u001b[0m\u001b[0mfunction\u001b[0m\u001b[0;34m(\u001b[0m\u001b[0;34m*\u001b[0m\u001b[0margs\u001b[0m\u001b[0;34m,\u001b[0m \u001b[0;34m**\u001b[0m\u001b[0mkwargs\u001b[0m\u001b[0;34m)\u001b[0m\u001b[0;34m\u001b[0m\u001b[0;34m\u001b[0m\u001b[0m\n\u001b[0m",
      "\u001b[0;32m/opt/conda/lib/python3.9/site-packages/sklearn/ensemble/_forest.py\u001b[0m in \u001b[0;36m_parallel_build_trees\u001b[0;34m(tree, forest, X, y, sample_weight, tree_idx, n_trees, verbose, class_weight, n_samples_bootstrap)\u001b[0m\n\u001b[1;32m    167\u001b[0m                                                         indices=indices)\n\u001b[1;32m    168\u001b[0m \u001b[0;34m\u001b[0m\u001b[0m\n\u001b[0;32m--> 169\u001b[0;31m         \u001b[0mtree\u001b[0m\u001b[0;34m.\u001b[0m\u001b[0mfit\u001b[0m\u001b[0;34m(\u001b[0m\u001b[0mX\u001b[0m\u001b[0;34m,\u001b[0m \u001b[0my\u001b[0m\u001b[0;34m,\u001b[0m \u001b[0msample_weight\u001b[0m\u001b[0;34m=\u001b[0m\u001b[0mcurr_sample_weight\u001b[0m\u001b[0;34m,\u001b[0m \u001b[0mcheck_input\u001b[0m\u001b[0;34m=\u001b[0m\u001b[0;32mFalse\u001b[0m\u001b[0;34m)\u001b[0m\u001b[0;34m\u001b[0m\u001b[0;34m\u001b[0m\u001b[0m\n\u001b[0m\u001b[1;32m    170\u001b[0m     \u001b[0;32melse\u001b[0m\u001b[0;34m:\u001b[0m\u001b[0;34m\u001b[0m\u001b[0;34m\u001b[0m\u001b[0m\n\u001b[1;32m    171\u001b[0m         \u001b[0mtree\u001b[0m\u001b[0;34m.\u001b[0m\u001b[0mfit\u001b[0m\u001b[0;34m(\u001b[0m\u001b[0mX\u001b[0m\u001b[0;34m,\u001b[0m \u001b[0my\u001b[0m\u001b[0;34m,\u001b[0m \u001b[0msample_weight\u001b[0m\u001b[0;34m=\u001b[0m\u001b[0msample_weight\u001b[0m\u001b[0;34m,\u001b[0m \u001b[0mcheck_input\u001b[0m\u001b[0;34m=\u001b[0m\u001b[0;32mFalse\u001b[0m\u001b[0;34m)\u001b[0m\u001b[0;34m\u001b[0m\u001b[0;34m\u001b[0m\u001b[0m\n",
      "\u001b[0;32m/opt/conda/lib/python3.9/site-packages/sklearn/tree/_classes.py\u001b[0m in \u001b[0;36mfit\u001b[0;34m(self, X, y, sample_weight, check_input, X_idx_sorted)\u001b[0m\n\u001b[1;32m   1245\u001b[0m         \"\"\"\n\u001b[1;32m   1246\u001b[0m \u001b[0;34m\u001b[0m\u001b[0m\n\u001b[0;32m-> 1247\u001b[0;31m         super().fit(\n\u001b[0m\u001b[1;32m   1248\u001b[0m             \u001b[0mX\u001b[0m\u001b[0;34m,\u001b[0m \u001b[0my\u001b[0m\u001b[0;34m,\u001b[0m\u001b[0;34m\u001b[0m\u001b[0;34m\u001b[0m\u001b[0m\n\u001b[1;32m   1249\u001b[0m             \u001b[0msample_weight\u001b[0m\u001b[0;34m=\u001b[0m\u001b[0msample_weight\u001b[0m\u001b[0;34m,\u001b[0m\u001b[0;34m\u001b[0m\u001b[0;34m\u001b[0m\u001b[0m\n",
      "\u001b[0;32m/opt/conda/lib/python3.9/site-packages/sklearn/tree/_classes.py\u001b[0m in \u001b[0;36mfit\u001b[0;34m(self, X, y, sample_weight, check_input, X_idx_sorted)\u001b[0m\n\u001b[1;32m    387\u001b[0m                                            min_impurity_split)\n\u001b[1;32m    388\u001b[0m \u001b[0;34m\u001b[0m\u001b[0m\n\u001b[0;32m--> 389\u001b[0;31m         \u001b[0mbuilder\u001b[0m\u001b[0;34m.\u001b[0m\u001b[0mbuild\u001b[0m\u001b[0;34m(\u001b[0m\u001b[0mself\u001b[0m\u001b[0;34m.\u001b[0m\u001b[0mtree_\u001b[0m\u001b[0;34m,\u001b[0m \u001b[0mX\u001b[0m\u001b[0;34m,\u001b[0m \u001b[0my\u001b[0m\u001b[0;34m,\u001b[0m \u001b[0msample_weight\u001b[0m\u001b[0;34m)\u001b[0m\u001b[0;34m\u001b[0m\u001b[0;34m\u001b[0m\u001b[0m\n\u001b[0m\u001b[1;32m    390\u001b[0m \u001b[0;34m\u001b[0m\u001b[0m\n\u001b[1;32m    391\u001b[0m         \u001b[0;32mif\u001b[0m \u001b[0mself\u001b[0m\u001b[0;34m.\u001b[0m\u001b[0mn_outputs_\u001b[0m \u001b[0;34m==\u001b[0m \u001b[0;36m1\u001b[0m \u001b[0;32mand\u001b[0m \u001b[0mis_classifier\u001b[0m\u001b[0;34m(\u001b[0m\u001b[0mself\u001b[0m\u001b[0;34m)\u001b[0m\u001b[0;34m:\u001b[0m\u001b[0;34m\u001b[0m\u001b[0;34m\u001b[0m\u001b[0m\n",
      "\u001b[0;31mKeyboardInterrupt\u001b[0m: "
     ]
    }
   ],
   "source": [
    "# Подберем оптимальные гипперпараметры для модели рассчитывающей эффективность обогащения чернового концентрата. \n",
    "\n",
    "best_smae = 100\n",
    "best_n_est = 0\n",
    "best_depth = 0\n",
    "\n",
    "for n_est in tqdm([5, 10, 20, 50]):\n",
    "    for depth in tqdm(range(1, 10)):\n",
    "        model = RandomForestRegressor(max_depth=depth, n_estimators=n_est, random_state=123)\n",
    "        smae = cross_val_score(model, gold_recovery_train_without_date, rougher_train_target, cv=5, scoring=scorer).mean()\n",
    "        if smae < best_smae:\n",
    "            best_smae = smae\n",
    "            best_n_est = n_est\n",
    "            best_depth = depth\n",
    "        \n",
    "print(f'Лучший показатель sMAE для модели рассчитывающей эффективность обогащения чернового концентрата составляет {best_smae:.2f}, \\\n",
    "достигается при глубине дерева {best_depth} и количестве деревьев оценщиков равном {best_n_est}.')   \n",
    "\n",
    "# Лучший показатель sMAE для модели рассчитывающей эффективность обогащения чернового концентрата \n",
    "# составляет 5.88, достигается при глубине дерева 6 и количестве деревьев оценщиков равном 20."
   ]
  },
  {
   "cell_type": "code",
   "execution_count": null,
   "metadata": {
    "scrolled": true
   },
   "outputs": [],
   "source": [
    "# Подберем оптимальные гипперпараметры для модели рассчитывающей эффективность обогащения финального концентрата. \n",
    "\n",
    "best_smae = 100\n",
    "best_n_est = 0\n",
    "best_depth = 0\n",
    "\n",
    "for n_est in tqdm([5, 10, 20, 50]):\n",
    "    for depth in tqdm(range(1, 10)):\n",
    "        model = RandomForestRegressor(max_depth=depth, n_estimators=n_est, random_state=123)\n",
    "        smae = cross_val_score(model, gold_recovery_train_without_date, final_train_target, cv=5, scoring=scorer).mean()\n",
    "        if smae < best_smae:\n",
    "            best_smae = smae\n",
    "            best_n_est = n_est\n",
    "            best_depth = depth\n",
    "        \n",
    "print(f'Лучший показатель sMAE для модели рассчитывающей эффективность обогащения финального концентрата составляет {best_smae:.2f}, \\\n",
    "достигается при глубине дерева {best_depth} и количестве деревьев оценщиков равном {best_n_est}.')   \n",
    "\n",
    "# Лучший показатель sMAE для модели рассчитывающей эффективность обогащения финального концентрата \n",
    "# составляет 8.14, достигается при глубине дерева 6 и количестве деревьев оценщиков равном 20."
   ]
  },
  {
   "cell_type": "markdown",
   "metadata": {},
   "source": [
    "Таким образом, мы выяснили, что оптимальные гипперпараметры для обеих моделей совпадают. "
   ]
  },
  {
   "cell_type": "code",
   "execution_count": null,
   "metadata": {},
   "outputs": [],
   "source": [
    "# Определяем sMAPE для модели рассчитывающей эффективность обогащения чернового концентрата на тестовой выборке.\n",
    "\n",
    "model = RandomForestRegressor(max_depth=6, n_estimators=20, random_state=123)\n",
    "\n",
    "model.fit(gold_recovery_train_without_date, rougher_train_target)\n",
    "predicted_values = model.predict(gold_recovery_test_without_date)\n",
    "smape_rougher = smape(rougher_test_target, predicted_values)\n",
    "\n",
    "print(f'Показатель sMAPE для модели рассчитывающей эффективность обогащения чернового концентрата составляет {smape_rougher:.2%}')"
   ]
  },
  {
   "cell_type": "code",
   "execution_count": null,
   "metadata": {},
   "outputs": [],
   "source": [
    "# Определяем sMAPE для модели рассчитывающей эффективность обогащения финального концентрата на тестовой выборке.\n",
    "\n",
    "model = RandomForestRegressor(max_depth=6, n_estimators=20, random_state=123)\n",
    "\n",
    "model.fit(gold_recovery_train_without_date, final_train_target)\n",
    "predicted_values = model.predict(gold_recovery_test_without_date)\n",
    "smape_final = smape(final_test_target, predicted_values)\n",
    "\n",
    "print(f'Показатель sMAPE для модели рассчитывающей эффективность обогащения финального концентрата составляет {smape_final:.2%}')"
   ]
  },
  {
   "cell_type": "markdown",
   "metadata": {},
   "source": [
    "На основе полученных значений, вычислим итоговое значение метрики."
   ]
  },
  {
   "cell_type": "code",
   "execution_count": null,
   "metadata": {},
   "outputs": [],
   "source": [
    "smape = (smape_rougher * 0.25) + (0.75 * smape_final)\n",
    "smape"
   ]
  },
  {
   "cell_type": "markdown",
   "metadata": {},
   "source": [
    "В конечном итоге нам удалось построить модель с наименьшим показателем sMAPE равным 7.1%."
   ]
  },
  {
   "cell_type": "markdown",
   "metadata": {},
   "source": [
    "## Вывод"
   ]
  },
  {
   "cell_type": "markdown",
   "metadata": {},
   "source": [
    "Задачей нашего исследования являлось создание прототипа модели машинного обучения для компании «Цифра». Компания разрабатывает решения для эффективной работы промышленных предприятий. Модель должна уметь предсказывать коэффициент восстановления золота из золотосодержащей руды пользуясь данными с параметрами добычи и очистки.\n",
    "\n",
    "Нам были предоставлены данные в трех файлах: `gold_recovery_full` содержит все имеющиеся данные, остальные два файла `gold_recovery_test` и `gold_recovery_train` содержат уже разбитый исходный датасет на тренировочную и тестовую выборки. Данные были проиндексированы датой и временем получения информации. Некоторые параметры в тестовой выборке были недоступны, потому что замеряются или рассчитываются значительно позже. Данные относительных характеристик были предоставлены в процентах.\n",
    "\n",
    "В ходе подготовки данных нами было проверено, правильно ли рассчитана эффективность обогащения на этапе флотации в данных обучающей выборки. Отклонение MAE между нашими рассчетами и имеющимися оказались совсем незначительные, таким образом можно утверждать, что эффективность обогащения была рассчитана верно.\n",
    "\n",
    "Некоторые признаки имеющиеся в полных данных отсутствали в тестовой выборке. Так, в тестовой выборке ожидаемо отсутствали параметры output для любой стадии обработки. Для корректного обучения модели мы оставили только те признаки, которые имелись как в тестовой, так и в обучающей выборке.\n",
    "\n",
    "В выборках отсутствовали дубликаты, однако присутствали пропуски. Так как признаки представляют собой последовательные этапы, чтобы полностью не удалять объект было решено заполнить пропуски значением из предыдущего или последующего этапа. Таким образом, удалив объекты с пропусками нам удалось сохранить около 90% исходных данных в обучающей выборке и 99% данных на тестовой выборке.\n",
    "\n",
    "В ходе анализа нами было рассмотрено как менялась концентрация металлов (Au, Ag, Pb) на различных этапах очистки. Исходя из наблюдений было замечено, что концентрация золота с каждым этапом увеличивается примерно на 12%, концентрация серебра падает примерно на 3%, а концентрация свинца увеличивается на 1-2%.\n",
    "\n",
    "Затем мы сравнили распределения размеров гранул сырья на обучающей и тестовой выборках. Если бы распределения сильно отличались друг от друга, оценка модели была бы неправильной. На графиках было продемонстрировано, что распределения размеров гранул сырья не сильно различаются на тестовой и обучающей выборках.\n",
    "\n",
    "Было проведено исследование суммарной концентрации всех веществ на разных стадиях: в сырье, в черновом и финальном концентратах и построены соответствующие графики распределения. На получившихся графиках мы могли наблюдать более-менее нормальное распределение со скосом влево и явные выбросы в околонулевом значении, количество которых снижается с каждым этапом обработки. Возможно выбросы появились в результате технического сбоя оборудования. Было решено избавиться от выбросов, так как они могли негативно повлиять на качество нашей модели.\n",
    "\n",
    "Исходя из самого процесса обработки сырья мы смогли предположить, что признаки коррелируют между собой, то есть обладают мультиколлиниарностью, что плохо сказывается прежде всего на качестве моделей линейной регрессии. С мультиколлинеарностью можно было попробовать справиться при помощи удаления коррелирующих признаков, однако поскольку большинство признаков взаимосвязаны между собой, логичнее будет отказаться от модели линейной регрессии, и вместо нее воспользоваться моделью случайного леса. Построив две модели для чернового и финального этапа обработки мы выяснили, что оптимальные гипперпараметры для обеих моделей совпадают. Показатель sMAPE для модели рассчитывающей эффективность обогащения чернового концентрата на тестовой выборке составил 4.18%, показатель sMAPE для модели рассчитывающей эффективность обогащения финального концентрата составил 8.07%. Итоговая метрика складывается из двух величин, и в конечном итоге нам удалось построить модель с наименьшим показателем иговой метрики sMAPE равным 7.1%.\n",
    "\n"
   ]
  }
 ],
 "metadata": {
  "ExecuteTimeLog": [
   {
    "duration": 47,
    "start_time": "2022-11-15T10:58:45.405Z"
   },
   {
    "duration": 829,
    "start_time": "2022-11-15T10:58:48.533Z"
   },
   {
    "duration": 801,
    "start_time": "2022-11-15T10:58:50.208Z"
   },
   {
    "duration": 2526,
    "start_time": "2022-11-15T10:59:40.635Z"
   },
   {
    "duration": 16,
    "start_time": "2022-11-15T11:00:09.048Z"
   },
   {
    "duration": 241,
    "start_time": "2022-11-15T11:01:30.318Z"
   },
   {
    "duration": 22,
    "start_time": "2022-11-15T11:02:03.835Z"
   },
   {
    "duration": 15,
    "start_time": "2022-11-15T11:02:23.812Z"
   },
   {
    "duration": 20,
    "start_time": "2022-11-15T11:11:14.814Z"
   },
   {
    "duration": 18,
    "start_time": "2022-11-15T11:21:24.839Z"
   },
   {
    "duration": 12,
    "start_time": "2022-11-15T11:22:01.773Z"
   },
   {
    "duration": 6,
    "start_time": "2022-11-15T11:30:37.805Z"
   },
   {
    "duration": 7,
    "start_time": "2022-11-15T11:30:51.522Z"
   },
   {
    "duration": 791,
    "start_time": "2022-11-15T11:33:31.923Z"
   },
   {
    "duration": 74,
    "start_time": "2022-11-15T11:33:45.301Z"
   },
   {
    "duration": 5,
    "start_time": "2022-11-15T11:33:50.700Z"
   },
   {
    "duration": 3,
    "start_time": "2022-11-15T12:13:33.917Z"
   },
   {
    "duration": 6,
    "start_time": "2022-11-15T12:13:46.386Z"
   },
   {
    "duration": 7,
    "start_time": "2022-11-15T12:14:07.622Z"
   },
   {
    "duration": 2,
    "start_time": "2022-11-15T12:14:41.262Z"
   },
   {
    "duration": 7,
    "start_time": "2022-11-15T12:14:43.166Z"
   },
   {
    "duration": 3,
    "start_time": "2022-11-15T12:14:47.148Z"
   },
   {
    "duration": 7,
    "start_time": "2022-11-15T12:16:00.400Z"
   },
   {
    "duration": 6,
    "start_time": "2022-11-15T12:18:03.847Z"
   },
   {
    "duration": 6,
    "start_time": "2022-11-15T12:20:55.033Z"
   },
   {
    "duration": 134,
    "start_time": "2022-11-15T12:22:55.923Z"
   },
   {
    "duration": 7,
    "start_time": "2022-11-15T12:23:37.763Z"
   },
   {
    "duration": 20,
    "start_time": "2022-11-15T12:24:51.109Z"
   },
   {
    "duration": 4,
    "start_time": "2022-11-16T03:16:24.202Z"
   },
   {
    "duration": 757,
    "start_time": "2022-11-16T03:16:24.208Z"
   },
   {
    "duration": 23,
    "start_time": "2022-11-16T03:16:24.967Z"
   },
   {
    "duration": 20,
    "start_time": "2022-11-16T03:16:24.993Z"
   },
   {
    "duration": 38,
    "start_time": "2022-11-16T03:16:25.015Z"
   },
   {
    "duration": 27,
    "start_time": "2022-11-16T03:16:25.055Z"
   },
   {
    "duration": 3,
    "start_time": "2022-11-16T03:16:25.085Z"
   },
   {
    "duration": 12,
    "start_time": "2022-11-16T03:16:25.090Z"
   },
   {
    "duration": 7,
    "start_time": "2022-11-16T03:16:25.105Z"
   },
   {
    "duration": 44,
    "start_time": "2022-11-16T03:16:25.115Z"
   },
   {
    "duration": 166,
    "start_time": "2022-11-16T03:16:25.161Z"
   },
   {
    "duration": 147,
    "start_time": "2022-11-16T03:16:54.121Z"
   },
   {
    "duration": 142,
    "start_time": "2022-11-16T03:17:18.299Z"
   },
   {
    "duration": 155,
    "start_time": "2022-11-16T03:19:35.875Z"
   },
   {
    "duration": 11,
    "start_time": "2022-11-16T03:22:22.311Z"
   },
   {
    "duration": 3,
    "start_time": "2022-11-16T03:27:13.701Z"
   },
   {
    "duration": 9,
    "start_time": "2022-11-16T03:27:16.573Z"
   },
   {
    "duration": 8,
    "start_time": "2022-11-16T03:27:46.197Z"
   },
   {
    "duration": 8,
    "start_time": "2022-11-16T03:27:53.429Z"
   },
   {
    "duration": 3,
    "start_time": "2022-11-16T03:28:18.830Z"
   },
   {
    "duration": 8,
    "start_time": "2022-11-16T03:28:20.693Z"
   },
   {
    "duration": 10,
    "start_time": "2022-11-16T03:29:29.230Z"
   },
   {
    "duration": 4,
    "start_time": "2022-11-16T03:33:36.339Z"
   },
   {
    "duration": 6,
    "start_time": "2022-11-16T03:33:44.758Z"
   },
   {
    "duration": 72,
    "start_time": "2022-11-16T03:34:16.708Z"
   },
   {
    "duration": 70,
    "start_time": "2022-11-16T03:34:21.494Z"
   },
   {
    "duration": 7,
    "start_time": "2022-11-16T03:34:23.767Z"
   },
   {
    "duration": 82,
    "start_time": "2022-11-16T03:34:35.037Z"
   },
   {
    "duration": 5,
    "start_time": "2022-11-16T03:34:39.912Z"
   },
   {
    "duration": 10,
    "start_time": "2022-11-16T03:34:43.419Z"
   },
   {
    "duration": 6,
    "start_time": "2022-11-16T03:34:46.894Z"
   },
   {
    "duration": 12,
    "start_time": "2022-11-16T03:35:35.232Z"
   },
   {
    "duration": 6,
    "start_time": "2022-11-16T03:35:44.709Z"
   },
   {
    "duration": 6,
    "start_time": "2022-11-16T03:35:49.944Z"
   },
   {
    "duration": 7,
    "start_time": "2022-11-16T03:35:56.924Z"
   },
   {
    "duration": 3,
    "start_time": "2022-11-16T03:36:57.575Z"
   },
   {
    "duration": 5,
    "start_time": "2022-11-16T03:37:03.992Z"
   },
   {
    "duration": 2,
    "start_time": "2022-11-16T03:37:05.380Z"
   },
   {
    "duration": 5,
    "start_time": "2022-11-16T03:45:12.656Z"
   },
   {
    "duration": 22,
    "start_time": "2022-11-16T03:45:35.929Z"
   },
   {
    "duration": 5,
    "start_time": "2022-11-16T03:45:50.107Z"
   },
   {
    "duration": 5,
    "start_time": "2022-11-16T03:46:05.489Z"
   },
   {
    "duration": 15,
    "start_time": "2022-11-16T03:46:13.395Z"
   },
   {
    "duration": 6,
    "start_time": "2022-11-16T03:46:36.685Z"
   },
   {
    "duration": 5,
    "start_time": "2022-11-16T03:47:11.061Z"
   },
   {
    "duration": 6,
    "start_time": "2022-11-16T03:47:17.595Z"
   },
   {
    "duration": 11,
    "start_time": "2022-11-16T03:47:32.058Z"
   },
   {
    "duration": 13,
    "start_time": "2022-11-16T03:47:50.907Z"
   },
   {
    "duration": 6,
    "start_time": "2022-11-16T03:48:27.067Z"
   },
   {
    "duration": 4,
    "start_time": "2022-11-16T03:49:20.126Z"
   },
   {
    "duration": 11,
    "start_time": "2022-11-16T03:49:55.954Z"
   },
   {
    "duration": 4,
    "start_time": "2022-11-16T03:51:41.309Z"
   },
   {
    "duration": 21,
    "start_time": "2022-11-16T03:52:30.605Z"
   },
   {
    "duration": 79,
    "start_time": "2022-11-16T03:52:45.392Z"
   },
   {
    "duration": 12,
    "start_time": "2022-11-16T03:53:26.505Z"
   },
   {
    "duration": 5,
    "start_time": "2022-11-16T03:54:28.966Z"
   },
   {
    "duration": 73,
    "start_time": "2022-11-16T03:55:12.946Z"
   },
   {
    "duration": 4,
    "start_time": "2022-11-16T03:55:19.475Z"
   },
   {
    "duration": 6,
    "start_time": "2022-11-16T03:55:37.226Z"
   },
   {
    "duration": 7,
    "start_time": "2022-11-16T03:55:49.261Z"
   },
   {
    "duration": 1662,
    "start_time": "2022-11-16T10:43:38.367Z"
   },
   {
    "duration": 2154,
    "start_time": "2022-11-16T10:43:40.032Z"
   },
   {
    "duration": 20,
    "start_time": "2022-11-16T10:43:42.188Z"
   },
   {
    "duration": 18,
    "start_time": "2022-11-16T10:43:42.211Z"
   },
   {
    "duration": 20,
    "start_time": "2022-11-16T10:43:42.231Z"
   },
   {
    "duration": 26,
    "start_time": "2022-11-16T10:43:42.252Z"
   },
   {
    "duration": 3,
    "start_time": "2022-11-16T10:43:42.281Z"
   },
   {
    "duration": 13,
    "start_time": "2022-11-16T10:43:42.286Z"
   },
   {
    "duration": 3,
    "start_time": "2022-11-16T10:43:42.302Z"
   },
   {
    "duration": 7,
    "start_time": "2022-11-16T10:43:42.340Z"
   },
   {
    "duration": 9,
    "start_time": "2022-11-16T10:43:42.349Z"
   },
   {
    "duration": 117,
    "start_time": "2022-11-16T10:51:12.894Z"
   },
   {
    "duration": 12,
    "start_time": "2022-11-16T10:51:28.560Z"
   },
   {
    "duration": 11,
    "start_time": "2022-11-16T10:51:43.767Z"
   },
   {
    "duration": 23,
    "start_time": "2022-11-16T10:52:00.268Z"
   },
   {
    "duration": 271,
    "start_time": "2022-11-16T10:54:03.003Z"
   },
   {
    "duration": 133,
    "start_time": "2022-11-16T10:54:10.509Z"
   },
   {
    "duration": 11,
    "start_time": "2022-11-16T11:36:50.908Z"
   },
   {
    "duration": 18,
    "start_time": "2022-11-16T11:36:55.551Z"
   },
   {
    "duration": 9,
    "start_time": "2022-11-16T11:54:31.227Z"
   },
   {
    "duration": 14,
    "start_time": "2022-11-16T11:54:35.164Z"
   },
   {
    "duration": 117,
    "start_time": "2022-11-16T12:07:04.431Z"
   },
   {
    "duration": 5,
    "start_time": "2022-11-16T12:08:23.983Z"
   },
   {
    "duration": 21,
    "start_time": "2022-11-16T12:09:32.201Z"
   },
   {
    "duration": 66279,
    "start_time": "2022-11-16T12:09:44.751Z"
   },
   {
    "duration": 64,
    "start_time": "2022-11-16T12:13:16.071Z"
   },
   {
    "duration": 159,
    "start_time": "2022-11-16T12:14:31.851Z"
   },
   {
    "duration": 6,
    "start_time": "2022-11-16T12:14:45.997Z"
   },
   {
    "duration": 280,
    "start_time": "2022-11-16T12:15:30.999Z"
   },
   {
    "duration": 6,
    "start_time": "2022-11-16T12:15:51.816Z"
   },
   {
    "duration": 975,
    "start_time": "2022-11-16T12:15:56.089Z"
   },
   {
    "duration": 16,
    "start_time": "2022-11-16T12:18:08.348Z"
   },
   {
    "duration": 940,
    "start_time": "2022-11-16T12:18:20.337Z"
   },
   {
    "duration": 280,
    "start_time": "2022-11-16T12:19:50.211Z"
   },
   {
    "duration": 14,
    "start_time": "2022-11-16T12:21:04.233Z"
   },
   {
    "duration": 12,
    "start_time": "2022-11-16T12:21:32.695Z"
   },
   {
    "duration": 19,
    "start_time": "2022-11-16T12:21:49.074Z"
   },
   {
    "duration": 1230,
    "start_time": "2022-11-16T12:22:27.542Z"
   },
   {
    "duration": 18,
    "start_time": "2022-11-16T12:22:54.378Z"
   },
   {
    "duration": 1323,
    "start_time": "2022-11-16T12:23:06.361Z"
   },
   {
    "duration": 302,
    "start_time": "2022-11-16T12:23:23.944Z"
   },
   {
    "duration": 231,
    "start_time": "2022-11-16T12:25:49.212Z"
   },
   {
    "duration": 294,
    "start_time": "2022-11-16T12:25:53.764Z"
   },
   {
    "duration": 1619,
    "start_time": "2022-11-17T03:26:08.501Z"
   },
   {
    "duration": 2311,
    "start_time": "2022-11-17T03:26:10.122Z"
   },
   {
    "duration": 21,
    "start_time": "2022-11-17T03:26:12.434Z"
   },
   {
    "duration": 19,
    "start_time": "2022-11-17T03:26:12.457Z"
   },
   {
    "duration": 15,
    "start_time": "2022-11-17T03:26:12.477Z"
   },
   {
    "duration": 27,
    "start_time": "2022-11-17T03:26:12.494Z"
   },
   {
    "duration": 30,
    "start_time": "2022-11-17T03:26:12.522Z"
   },
   {
    "duration": 9,
    "start_time": "2022-11-17T03:26:12.554Z"
   },
   {
    "duration": 2,
    "start_time": "2022-11-17T03:26:12.565Z"
   },
   {
    "duration": 10,
    "start_time": "2022-11-17T03:26:12.570Z"
   },
   {
    "duration": 6,
    "start_time": "2022-11-17T03:26:12.582Z"
   },
   {
    "duration": 162,
    "start_time": "2022-11-17T03:26:12.590Z"
   },
   {
    "duration": 7,
    "start_time": "2022-11-17T03:26:12.754Z"
   },
   {
    "duration": 14,
    "start_time": "2022-11-17T03:26:12.762Z"
   },
   {
    "duration": 5,
    "start_time": "2022-11-17T03:27:08.183Z"
   },
   {
    "duration": 4,
    "start_time": "2022-11-17T03:27:11.754Z"
   },
   {
    "duration": 5,
    "start_time": "2022-11-17T03:27:19.201Z"
   },
   {
    "duration": 6079,
    "start_time": "2022-11-17T03:33:56.069Z"
   },
   {
    "duration": 5366,
    "start_time": "2022-11-17T03:36:07.661Z"
   },
   {
    "duration": 27,
    "start_time": "2022-11-17T03:44:38.479Z"
   },
   {
    "duration": 3,
    "start_time": "2022-11-17T03:57:25.091Z"
   },
   {
    "duration": 8,
    "start_time": "2022-11-17T03:57:29.571Z"
   },
   {
    "duration": 5,
    "start_time": "2022-11-17T03:57:41.032Z"
   },
   {
    "duration": 114,
    "start_time": "2022-11-17T04:00:12.012Z"
   },
   {
    "duration": 5,
    "start_time": "2022-11-17T04:00:20.512Z"
   },
   {
    "duration": 4,
    "start_time": "2022-11-17T04:00:34.241Z"
   },
   {
    "duration": 5,
    "start_time": "2022-11-17T04:01:01.463Z"
   },
   {
    "duration": 6,
    "start_time": "2022-11-17T04:01:13.623Z"
   },
   {
    "duration": 5,
    "start_time": "2022-11-17T04:01:25.719Z"
   },
   {
    "duration": 5,
    "start_time": "2022-11-17T04:01:45.457Z"
   },
   {
    "duration": 6,
    "start_time": "2022-11-17T04:02:02.681Z"
   },
   {
    "duration": 5,
    "start_time": "2022-11-17T04:02:39.883Z"
   },
   {
    "duration": 8,
    "start_time": "2022-11-17T04:02:46.871Z"
   },
   {
    "duration": 72,
    "start_time": "2022-11-17T04:02:51.668Z"
   },
   {
    "duration": 5,
    "start_time": "2022-11-17T04:02:54.647Z"
   },
   {
    "duration": 3,
    "start_time": "2022-11-17T04:03:31.593Z"
   },
   {
    "duration": 12,
    "start_time": "2022-11-17T04:35:53.278Z"
   },
   {
    "duration": 4,
    "start_time": "2022-11-17T04:36:41.693Z"
   },
   {
    "duration": 7788,
    "start_time": "2022-11-17T04:36:51.718Z"
   },
   {
    "duration": 16,
    "start_time": "2022-11-17T04:37:38.752Z"
   },
   {
    "duration": 10,
    "start_time": "2022-11-17T06:14:32.574Z"
   },
   {
    "duration": 19610,
    "start_time": "2022-11-17T06:15:03.115Z"
   },
   {
    "duration": 13,
    "start_time": "2022-11-17T06:15:54.131Z"
   },
   {
    "duration": 3,
    "start_time": "2022-11-17T06:19:32.059Z"
   },
   {
    "duration": 726,
    "start_time": "2022-11-17T06:19:32.065Z"
   },
   {
    "duration": 18,
    "start_time": "2022-11-17T06:19:32.793Z"
   },
   {
    "duration": 16,
    "start_time": "2022-11-17T06:19:32.812Z"
   },
   {
    "duration": 17,
    "start_time": "2022-11-17T06:19:32.857Z"
   },
   {
    "duration": 21,
    "start_time": "2022-11-17T06:19:32.876Z"
   },
   {
    "duration": 4,
    "start_time": "2022-11-17T06:19:32.899Z"
   },
   {
    "duration": 9,
    "start_time": "2022-11-17T06:19:32.905Z"
   },
   {
    "duration": 3,
    "start_time": "2022-11-17T06:19:32.915Z"
   },
   {
    "duration": 34,
    "start_time": "2022-11-17T06:19:32.920Z"
   },
   {
    "duration": 8,
    "start_time": "2022-11-17T06:19:32.957Z"
   },
   {
    "duration": 137,
    "start_time": "2022-11-17T06:19:32.966Z"
   },
   {
    "duration": 2,
    "start_time": "2022-11-17T06:19:33.105Z"
   },
   {
    "duration": 18675,
    "start_time": "2022-11-17T06:19:33.109Z"
   },
   {
    "duration": 10,
    "start_time": "2022-11-17T06:19:51.785Z"
   },
   {
    "duration": 9,
    "start_time": "2022-11-17T06:19:51.797Z"
   },
   {
    "duration": 46,
    "start_time": "2022-11-17T06:19:51.808Z"
   },
   {
    "duration": 6,
    "start_time": "2022-11-17T06:19:51.856Z"
   },
   {
    "duration": 12,
    "start_time": "2022-11-17T06:19:51.864Z"
   },
   {
    "duration": 14,
    "start_time": "2022-11-17T06:19:51.878Z"
   },
   {
    "duration": 17,
    "start_time": "2022-11-17T06:28:37.256Z"
   },
   {
    "duration": 7,
    "start_time": "2022-11-17T06:28:50.363Z"
   },
   {
    "duration": 119,
    "start_time": "2022-11-17T06:30:17.901Z"
   },
   {
    "duration": 41,
    "start_time": "2022-11-17T06:33:20.005Z"
   },
   {
    "duration": 13,
    "start_time": "2022-11-17T07:41:17.111Z"
   },
   {
    "duration": 1219,
    "start_time": "2022-11-17T07:41:45.794Z"
   },
   {
    "duration": 1212,
    "start_time": "2022-11-17T07:42:40.665Z"
   },
   {
    "duration": 6,
    "start_time": "2022-11-17T07:45:26.119Z"
   },
   {
    "duration": 25,
    "start_time": "2022-11-17T07:46:00.646Z"
   },
   {
    "duration": 10,
    "start_time": "2022-11-17T07:46:30.985Z"
   },
   {
    "duration": 9,
    "start_time": "2022-11-17T07:46:48.320Z"
   },
   {
    "duration": 8,
    "start_time": "2022-11-17T07:49:14.654Z"
   },
   {
    "duration": 7,
    "start_time": "2022-11-17T07:52:41.599Z"
   },
   {
    "duration": 9,
    "start_time": "2022-11-17T07:52:57.876Z"
   },
   {
    "duration": 8,
    "start_time": "2022-11-17T07:53:08.187Z"
   },
   {
    "duration": 9,
    "start_time": "2022-11-17T07:53:20.172Z"
   },
   {
    "duration": 11,
    "start_time": "2022-11-17T07:53:54.711Z"
   },
   {
    "duration": 8,
    "start_time": "2022-11-17T07:54:13.855Z"
   },
   {
    "duration": 7,
    "start_time": "2022-11-17T08:08:06.200Z"
   },
   {
    "duration": 199,
    "start_time": "2022-11-17T08:13:31.112Z"
   },
   {
    "duration": 131,
    "start_time": "2022-11-17T08:13:43.168Z"
   },
   {
    "duration": 272,
    "start_time": "2022-11-17T08:14:35.180Z"
   },
   {
    "duration": 325,
    "start_time": "2022-11-17T08:14:48.884Z"
   },
   {
    "duration": 133,
    "start_time": "2022-11-17T08:14:55.248Z"
   },
   {
    "duration": 260,
    "start_time": "2022-11-17T08:15:02.955Z"
   },
   {
    "duration": 11,
    "start_time": "2022-11-17T08:15:47.375Z"
   },
   {
    "duration": 10,
    "start_time": "2022-11-17T08:16:02.189Z"
   },
   {
    "duration": 303,
    "start_time": "2022-11-17T08:16:07.722Z"
   },
   {
    "duration": 455,
    "start_time": "2022-11-17T08:16:33.819Z"
   },
   {
    "duration": 305,
    "start_time": "2022-11-17T08:16:48.401Z"
   },
   {
    "duration": 443,
    "start_time": "2022-11-17T08:16:56.816Z"
   },
   {
    "duration": 443,
    "start_time": "2022-11-17T08:17:06.816Z"
   },
   {
    "duration": 209,
    "start_time": "2022-11-17T08:17:16.074Z"
   },
   {
    "duration": 601,
    "start_time": "2022-11-17T08:17:23.305Z"
   },
   {
    "duration": 431,
    "start_time": "2022-11-17T08:17:29.216Z"
   },
   {
    "duration": 495,
    "start_time": "2022-11-17T08:17:59.352Z"
   },
   {
    "duration": 655,
    "start_time": "2022-11-17T08:18:57.336Z"
   },
   {
    "duration": 437,
    "start_time": "2022-11-17T08:20:22.404Z"
   },
   {
    "duration": 323,
    "start_time": "2022-11-17T08:21:41.657Z"
   },
   {
    "duration": 321,
    "start_time": "2022-11-17T08:22:36.712Z"
   },
   {
    "duration": 331,
    "start_time": "2022-11-17T08:22:43.492Z"
   },
   {
    "duration": 498,
    "start_time": "2022-11-17T08:23:13.674Z"
   },
   {
    "duration": 529,
    "start_time": "2022-11-17T08:23:18.899Z"
   },
   {
    "duration": 485,
    "start_time": "2022-11-17T08:25:16.832Z"
   },
   {
    "duration": 456,
    "start_time": "2022-11-17T08:25:42.055Z"
   },
   {
    "duration": 687,
    "start_time": "2022-11-17T08:25:47.606Z"
   },
   {
    "duration": 511,
    "start_time": "2022-11-17T08:26:24.084Z"
   },
   {
    "duration": 796,
    "start_time": "2022-11-17T08:26:29.014Z"
   },
   {
    "duration": 480,
    "start_time": "2022-11-17T08:26:37.705Z"
   },
   {
    "duration": 482,
    "start_time": "2022-11-17T08:26:41.299Z"
   },
   {
    "duration": 480,
    "start_time": "2022-11-17T08:26:55.347Z"
   },
   {
    "duration": 795,
    "start_time": "2022-11-17T08:27:06.435Z"
   },
   {
    "duration": 526,
    "start_time": "2022-11-17T08:27:10.926Z"
   },
   {
    "duration": 527,
    "start_time": "2022-11-17T08:27:21.292Z"
   },
   {
    "duration": 467,
    "start_time": "2022-11-17T08:27:25.341Z"
   },
   {
    "duration": 472,
    "start_time": "2022-11-17T08:27:33.806Z"
   },
   {
    "duration": 825,
    "start_time": "2022-11-17T08:29:03.782Z"
   },
   {
    "duration": 639,
    "start_time": "2022-11-17T08:30:01.034Z"
   },
   {
    "duration": 622,
    "start_time": "2022-11-17T08:30:31.893Z"
   },
   {
    "duration": 960,
    "start_time": "2022-11-17T08:31:57.367Z"
   },
   {
    "duration": 723,
    "start_time": "2022-11-17T08:32:54.032Z"
   },
   {
    "duration": 723,
    "start_time": "2022-11-17T08:33:11.724Z"
   },
   {
    "duration": 980,
    "start_time": "2022-11-17T08:33:28.735Z"
   },
   {
    "duration": 785,
    "start_time": "2022-11-17T08:34:33.870Z"
   },
   {
    "duration": 1182,
    "start_time": "2022-11-17T08:34:47.705Z"
   },
   {
    "duration": 588,
    "start_time": "2022-11-17T08:35:50.308Z"
   },
   {
    "duration": 550,
    "start_time": "2022-11-17T08:36:25.234Z"
   },
   {
    "duration": 859,
    "start_time": "2022-11-17T08:36:32.699Z"
   },
   {
    "duration": 920,
    "start_time": "2022-11-17T08:36:40.013Z"
   },
   {
    "duration": 575,
    "start_time": "2022-11-17T08:37:14.140Z"
   },
   {
    "duration": 1293,
    "start_time": "2022-11-17T08:37:40.532Z"
   },
   {
    "duration": 1176,
    "start_time": "2022-11-17T08:37:49.115Z"
   },
   {
    "duration": 1399,
    "start_time": "2022-11-17T08:37:59.731Z"
   },
   {
    "duration": 1228,
    "start_time": "2022-11-17T08:38:20.952Z"
   },
   {
    "duration": 1790,
    "start_time": "2022-11-17T08:38:36.818Z"
   },
   {
    "duration": 1872,
    "start_time": "2022-11-17T08:39:00.733Z"
   },
   {
    "duration": 1928,
    "start_time": "2022-11-17T08:39:09.593Z"
   },
   {
    "duration": 1471,
    "start_time": "2022-11-17T08:39:22.615Z"
   },
   {
    "duration": 5,
    "start_time": "2022-11-17T08:43:52.967Z"
   },
   {
    "duration": 4,
    "start_time": "2022-11-17T08:44:20.883Z"
   },
   {
    "duration": 4,
    "start_time": "2022-11-17T08:44:36.939Z"
   },
   {
    "duration": 1184,
    "start_time": "2022-11-17T08:44:55.297Z"
   },
   {
    "duration": 1566,
    "start_time": "2022-11-17T08:45:24.955Z"
   },
   {
    "duration": 1731,
    "start_time": "2022-11-17T08:45:57.869Z"
   },
   {
    "duration": 1012,
    "start_time": "2022-11-17T08:46:19.010Z"
   },
   {
    "duration": 1242,
    "start_time": "2022-11-17T08:46:47.268Z"
   },
   {
    "duration": 934,
    "start_time": "2022-11-17T08:47:01.857Z"
   },
   {
    "duration": 1203,
    "start_time": "2022-11-17T08:47:07.350Z"
   },
   {
    "duration": 904,
    "start_time": "2022-11-17T08:47:25.540Z"
   },
   {
    "duration": 1383,
    "start_time": "2022-11-17T08:47:49.097Z"
   },
   {
    "duration": 940,
    "start_time": "2022-11-17T08:48:16.590Z"
   },
   {
    "duration": 1475,
    "start_time": "2022-11-17T12:23:16.302Z"
   },
   {
    "duration": 1977,
    "start_time": "2022-11-17T12:23:17.779Z"
   },
   {
    "duration": 33,
    "start_time": "2022-11-17T12:23:19.758Z"
   },
   {
    "duration": 27,
    "start_time": "2022-11-17T12:23:19.793Z"
   },
   {
    "duration": 25,
    "start_time": "2022-11-17T12:23:19.823Z"
   },
   {
    "duration": 70,
    "start_time": "2022-11-17T12:23:19.850Z"
   },
   {
    "duration": 5,
    "start_time": "2022-11-17T12:23:19.938Z"
   },
   {
    "duration": 12,
    "start_time": "2022-11-17T12:23:19.945Z"
   },
   {
    "duration": 3,
    "start_time": "2022-11-17T12:23:19.959Z"
   },
   {
    "duration": 9,
    "start_time": "2022-11-17T12:23:19.965Z"
   },
   {
    "duration": 8,
    "start_time": "2022-11-17T12:23:19.976Z"
   },
   {
    "duration": 171,
    "start_time": "2022-11-17T12:23:19.986Z"
   },
   {
    "duration": 132,
    "start_time": "2022-11-17T12:23:20.159Z"
   },
   {
    "duration": 0,
    "start_time": "2022-11-17T12:23:20.293Z"
   },
   {
    "duration": 0,
    "start_time": "2022-11-17T12:23:20.294Z"
   },
   {
    "duration": 0,
    "start_time": "2022-11-17T12:23:20.295Z"
   },
   {
    "duration": 0,
    "start_time": "2022-11-17T12:23:20.297Z"
   },
   {
    "duration": 0,
    "start_time": "2022-11-17T12:23:20.299Z"
   },
   {
    "duration": 12,
    "start_time": "2022-11-17T12:25:39.538Z"
   },
   {
    "duration": 13,
    "start_time": "2022-11-17T12:26:10.250Z"
   },
   {
    "duration": 17582,
    "start_time": "2022-11-17T12:27:08.282Z"
   },
   {
    "duration": 27,
    "start_time": "2022-11-17T12:27:58.322Z"
   },
   {
    "duration": 6,
    "start_time": "2022-11-17T12:38:03.986Z"
   },
   {
    "duration": 128,
    "start_time": "2022-11-17T12:45:53.374Z"
   },
   {
    "duration": 1466,
    "start_time": "2022-11-18T06:16:48.023Z"
   },
   {
    "duration": 2869,
    "start_time": "2022-11-18T06:16:49.491Z"
   },
   {
    "duration": 17,
    "start_time": "2022-11-18T06:16:52.362Z"
   },
   {
    "duration": 15,
    "start_time": "2022-11-18T06:16:52.381Z"
   },
   {
    "duration": 11,
    "start_time": "2022-11-18T06:16:52.398Z"
   },
   {
    "duration": 45,
    "start_time": "2022-11-18T06:16:52.411Z"
   },
   {
    "duration": 3,
    "start_time": "2022-11-18T06:16:52.458Z"
   },
   {
    "duration": 7,
    "start_time": "2022-11-18T06:16:52.463Z"
   },
   {
    "duration": 3,
    "start_time": "2022-11-18T06:16:52.471Z"
   },
   {
    "duration": 10,
    "start_time": "2022-11-18T06:16:52.477Z"
   },
   {
    "duration": 6,
    "start_time": "2022-11-18T06:16:52.489Z"
   },
   {
    "duration": 143,
    "start_time": "2022-11-18T06:16:52.497Z"
   },
   {
    "duration": 16030,
    "start_time": "2022-11-18T06:16:52.642Z"
   },
   {
    "duration": 24,
    "start_time": "2022-11-18T06:17:08.674Z"
   },
   {
    "duration": 21,
    "start_time": "2022-11-18T06:17:08.700Z"
   },
   {
    "duration": 12,
    "start_time": "2022-11-18T06:17:08.722Z"
   },
   {
    "duration": 6,
    "start_time": "2022-11-18T06:17:08.736Z"
   },
   {
    "duration": 852,
    "start_time": "2022-11-18T06:17:08.743Z"
   },
   {
    "duration": 124,
    "start_time": "2022-11-18T06:17:09.597Z"
   },
   {
    "duration": 7,
    "start_time": "2022-11-18T07:05:16.393Z"
   },
   {
    "duration": 62,
    "start_time": "2022-11-18T07:05:37.763Z"
   },
   {
    "duration": 734,
    "start_time": "2022-11-18T07:07:01.807Z"
   },
   {
    "duration": 9,
    "start_time": "2022-11-18T07:07:31.196Z"
   },
   {
    "duration": 57,
    "start_time": "2022-11-18T07:07:51.346Z"
   },
   {
    "duration": 63,
    "start_time": "2022-11-18T07:08:24.342Z"
   },
   {
    "duration": 70,
    "start_time": "2022-11-18T07:16:29.248Z"
   },
   {
    "duration": 128,
    "start_time": "2022-11-18T07:17:28.728Z"
   },
   {
    "duration": 112,
    "start_time": "2022-11-18T07:17:51.940Z"
   },
   {
    "duration": 213,
    "start_time": "2022-11-18T07:18:02.043Z"
   },
   {
    "duration": 221,
    "start_time": "2022-11-18T07:18:13.184Z"
   },
   {
    "duration": 418,
    "start_time": "2022-11-18T07:18:47.544Z"
   },
   {
    "duration": 210,
    "start_time": "2022-11-18T07:19:10.359Z"
   },
   {
    "duration": 44,
    "start_time": "2022-11-18T07:19:49.540Z"
   },
   {
    "duration": 222,
    "start_time": "2022-11-18T07:19:54.539Z"
   },
   {
    "duration": 202,
    "start_time": "2022-11-18T07:20:07.055Z"
   },
   {
    "duration": 207,
    "start_time": "2022-11-18T07:20:13.855Z"
   },
   {
    "duration": 260,
    "start_time": "2022-11-18T07:20:22.753Z"
   },
   {
    "duration": 443,
    "start_time": "2022-11-18T07:20:34.428Z"
   },
   {
    "duration": 258,
    "start_time": "2022-11-18T07:20:41.229Z"
   },
   {
    "duration": 231,
    "start_time": "2022-11-18T07:20:45.016Z"
   },
   {
    "duration": 199,
    "start_time": "2022-11-18T07:20:54.012Z"
   },
   {
    "duration": 224,
    "start_time": "2022-11-18T07:20:57.574Z"
   },
   {
    "duration": 363,
    "start_time": "2022-11-18T07:21:03.508Z"
   },
   {
    "duration": 211,
    "start_time": "2022-11-18T07:21:20.168Z"
   },
   {
    "duration": 211,
    "start_time": "2022-11-18T07:21:23.928Z"
   },
   {
    "duration": 204,
    "start_time": "2022-11-18T07:21:26.240Z"
   },
   {
    "duration": 230,
    "start_time": "2022-11-18T07:21:32.105Z"
   },
   {
    "duration": 204,
    "start_time": "2022-11-18T07:21:38.262Z"
   },
   {
    "duration": 353,
    "start_time": "2022-11-18T07:21:46.897Z"
   },
   {
    "duration": 218,
    "start_time": "2022-11-18T07:22:04.328Z"
   },
   {
    "duration": 206,
    "start_time": "2022-11-18T07:22:27.541Z"
   },
   {
    "duration": 226,
    "start_time": "2022-11-18T07:24:22.444Z"
   },
   {
    "duration": 227,
    "start_time": "2022-11-18T07:27:23.067Z"
   },
   {
    "duration": 238,
    "start_time": "2022-11-18T07:28:06.564Z"
   },
   {
    "duration": 375,
    "start_time": "2022-11-18T07:29:02.757Z"
   },
   {
    "duration": 238,
    "start_time": "2022-11-18T07:44:28.813Z"
   },
   {
    "duration": 251,
    "start_time": "2022-11-18T07:44:34.071Z"
   },
   {
    "duration": 266,
    "start_time": "2022-11-18T07:44:42.794Z"
   },
   {
    "duration": 230,
    "start_time": "2022-11-18T07:44:50.870Z"
   },
   {
    "duration": 121,
    "start_time": "2022-11-18T07:45:02.063Z"
   },
   {
    "duration": 383,
    "start_time": "2022-11-18T07:45:11.751Z"
   },
   {
    "duration": 245,
    "start_time": "2022-11-18T07:45:18.557Z"
   },
   {
    "duration": 241,
    "start_time": "2022-11-18T07:45:34.452Z"
   },
   {
    "duration": 225,
    "start_time": "2022-11-18T07:46:32.236Z"
   },
   {
    "duration": 230,
    "start_time": "2022-11-18T08:00:54.102Z"
   },
   {
    "duration": 232,
    "start_time": "2022-11-18T08:01:07.196Z"
   },
   {
    "duration": 260,
    "start_time": "2022-11-18T08:06:10.161Z"
   },
   {
    "duration": 414,
    "start_time": "2022-11-18T08:06:15.888Z"
   },
   {
    "duration": 218,
    "start_time": "2022-11-18T08:07:04.351Z"
   },
   {
    "duration": 232,
    "start_time": "2022-11-18T08:07:13.654Z"
   },
   {
    "duration": 226,
    "start_time": "2022-11-18T08:07:25.463Z"
   },
   {
    "duration": 205,
    "start_time": "2022-11-18T08:07:29.251Z"
   },
   {
    "duration": 210,
    "start_time": "2022-11-18T08:07:31.815Z"
   },
   {
    "duration": 251,
    "start_time": "2022-11-18T08:07:40.547Z"
   },
   {
    "duration": 81,
    "start_time": "2022-11-18T08:14:30.483Z"
   },
   {
    "duration": 11,
    "start_time": "2022-11-18T08:14:42.611Z"
   },
   {
    "duration": 109,
    "start_time": "2022-11-18T08:15:18.859Z"
   },
   {
    "duration": 131,
    "start_time": "2022-11-18T08:16:17.727Z"
   },
   {
    "duration": 75302,
    "start_time": "2022-11-18T08:18:36.853Z"
   },
   {
    "duration": 70,
    "start_time": "2022-11-18T08:20:04.776Z"
   },
   {
    "duration": 12,
    "start_time": "2022-11-18T08:23:09.044Z"
   },
   {
    "duration": 21796,
    "start_time": "2022-11-18T08:23:21.340Z"
   },
   {
    "duration": 231,
    "start_time": "2022-11-18T08:23:57.112Z"
   },
   {
    "duration": 18,
    "start_time": "2022-11-18T08:24:09.912Z"
   },
   {
    "duration": 19602,
    "start_time": "2022-11-18T08:24:11.970Z"
   },
   {
    "duration": 35291,
    "start_time": "2022-11-18T08:24:40.674Z"
   },
   {
    "duration": 8,
    "start_time": "2022-11-18T08:25:34.329Z"
   },
   {
    "duration": 207,
    "start_time": "2022-11-18T08:25:35.940Z"
   },
   {
    "duration": 252,
    "start_time": "2022-11-18T08:26:41.451Z"
   },
   {
    "duration": 246,
    "start_time": "2022-11-18T08:27:17.186Z"
   },
   {
    "duration": 245,
    "start_time": "2022-11-18T08:28:04.119Z"
   },
   {
    "duration": 226,
    "start_time": "2022-11-18T08:28:26.891Z"
   },
   {
    "duration": 228,
    "start_time": "2022-11-18T08:30:02.919Z"
   },
   {
    "duration": 245,
    "start_time": "2022-11-18T08:31:08.411Z"
   },
   {
    "duration": 235,
    "start_time": "2022-11-18T08:31:17.695Z"
   },
   {
    "duration": 225,
    "start_time": "2022-11-18T08:31:37.096Z"
   },
   {
    "duration": 233,
    "start_time": "2022-11-18T08:32:11.068Z"
   },
   {
    "duration": 3329,
    "start_time": "2022-11-18T08:32:13.423Z"
   },
   {
    "duration": 245,
    "start_time": "2022-11-18T08:32:24.033Z"
   },
   {
    "duration": 240,
    "start_time": "2022-11-18T08:32:36.723Z"
   },
   {
    "duration": 231,
    "start_time": "2022-11-18T08:43:46.926Z"
   },
   {
    "duration": 245,
    "start_time": "2022-11-18T08:43:52.923Z"
   },
   {
    "duration": 233,
    "start_time": "2022-11-18T08:44:19.739Z"
   },
   {
    "duration": 234,
    "start_time": "2022-11-18T08:44:58.613Z"
   },
   {
    "duration": 236,
    "start_time": "2022-11-18T08:45:31.059Z"
   },
   {
    "duration": 334,
    "start_time": "2022-11-18T08:45:42.172Z"
   },
   {
    "duration": 367,
    "start_time": "2022-11-18T08:45:48.164Z"
   },
   {
    "duration": 342,
    "start_time": "2022-11-18T08:46:00.299Z"
   },
   {
    "duration": 339,
    "start_time": "2022-11-18T08:46:08.427Z"
   },
   {
    "duration": 338,
    "start_time": "2022-11-18T08:46:13.695Z"
   },
   {
    "duration": 324,
    "start_time": "2022-11-18T08:46:18.145Z"
   },
   {
    "duration": 331,
    "start_time": "2022-11-18T08:48:34.074Z"
   },
   {
    "duration": 321,
    "start_time": "2022-11-18T08:48:41.803Z"
   },
   {
    "duration": 357,
    "start_time": "2022-11-18T08:49:22.277Z"
   },
   {
    "duration": 345,
    "start_time": "2022-11-18T08:49:26.760Z"
   },
   {
    "duration": 362,
    "start_time": "2022-11-18T08:49:30.924Z"
   },
   {
    "duration": 325,
    "start_time": "2022-11-18T08:49:36.564Z"
   },
   {
    "duration": 384,
    "start_time": "2022-11-18T08:49:45.416Z"
   },
   {
    "duration": 339,
    "start_time": "2022-11-18T08:49:50.865Z"
   },
   {
    "duration": 323,
    "start_time": "2022-11-18T08:51:19.361Z"
   },
   {
    "duration": 371,
    "start_time": "2022-11-18T08:51:42.673Z"
   },
   {
    "duration": 400,
    "start_time": "2022-11-18T08:52:05.137Z"
   },
   {
    "duration": 344,
    "start_time": "2022-11-18T08:53:04.270Z"
   },
   {
    "duration": 319,
    "start_time": "2022-11-18T08:53:10.878Z"
   },
   {
    "duration": 2149,
    "start_time": "2022-11-18T08:53:15.713Z"
   },
   {
    "duration": 348,
    "start_time": "2022-11-18T08:53:33.835Z"
   },
   {
    "duration": 351,
    "start_time": "2022-11-18T08:53:48.386Z"
   },
   {
    "duration": 1696,
    "start_time": "2022-11-18T11:04:32.910Z"
   },
   {
    "duration": 1912,
    "start_time": "2022-11-18T11:04:34.608Z"
   },
   {
    "duration": 19,
    "start_time": "2022-11-18T11:04:36.522Z"
   },
   {
    "duration": 18,
    "start_time": "2022-11-18T11:04:36.544Z"
   },
   {
    "duration": 23,
    "start_time": "2022-11-18T11:04:36.564Z"
   },
   {
    "duration": 44,
    "start_time": "2022-11-18T11:04:36.588Z"
   },
   {
    "duration": 2,
    "start_time": "2022-11-18T11:04:36.634Z"
   },
   {
    "duration": 11,
    "start_time": "2022-11-18T11:04:36.638Z"
   },
   {
    "duration": 30,
    "start_time": "2022-11-18T11:04:36.650Z"
   },
   {
    "duration": 9,
    "start_time": "2022-11-18T11:04:36.683Z"
   },
   {
    "duration": 5,
    "start_time": "2022-11-18T11:04:36.694Z"
   },
   {
    "duration": 157,
    "start_time": "2022-11-18T11:04:36.702Z"
   },
   {
    "duration": 18762,
    "start_time": "2022-11-18T11:04:36.861Z"
   },
   {
    "duration": 27,
    "start_time": "2022-11-18T11:04:55.625Z"
   },
   {
    "duration": 7,
    "start_time": "2022-11-18T11:04:55.653Z"
   },
   {
    "duration": 28,
    "start_time": "2022-11-18T11:04:55.661Z"
   },
   {
    "duration": 9,
    "start_time": "2022-11-18T11:04:55.690Z"
   },
   {
    "duration": 1024,
    "start_time": "2022-11-18T11:04:55.701Z"
   },
   {
    "duration": 9,
    "start_time": "2022-11-18T11:04:56.727Z"
   },
   {
    "duration": 426,
    "start_time": "2022-11-18T11:04:56.739Z"
   },
   {
    "duration": 416,
    "start_time": "2022-11-18T11:04:57.166Z"
   },
   {
    "duration": 520,
    "start_time": "2022-11-18T11:04:57.584Z"
   },
   {
    "duration": 450,
    "start_time": "2022-11-18T11:04:58.106Z"
   },
   {
    "duration": 427,
    "start_time": "2022-11-18T11:04:58.559Z"
   },
   {
    "duration": 406,
    "start_time": "2022-11-18T11:04:58.989Z"
   },
   {
    "duration": 10,
    "start_time": "2022-11-18T11:14:39.177Z"
   },
   {
    "duration": 115,
    "start_time": "2022-11-18T11:20:38.442Z"
   },
   {
    "duration": 12,
    "start_time": "2022-11-18T11:22:25.557Z"
   },
   {
    "duration": 8,
    "start_time": "2022-11-18T11:24:39.605Z"
   },
   {
    "duration": 44,
    "start_time": "2022-11-18T11:25:43.349Z"
   },
   {
    "duration": 29,
    "start_time": "2022-11-18T11:27:09.792Z"
   },
   {
    "duration": 80,
    "start_time": "2022-11-18T11:27:59.467Z"
   },
   {
    "duration": 88,
    "start_time": "2022-11-18T11:28:10.805Z"
   },
   {
    "duration": 10,
    "start_time": "2022-11-18T11:28:17.399Z"
   },
   {
    "duration": 8,
    "start_time": "2022-11-18T11:33:01.954Z"
   },
   {
    "duration": 13,
    "start_time": "2022-11-18T11:34:05.904Z"
   },
   {
    "duration": 4,
    "start_time": "2022-11-18T11:34:30.103Z"
   },
   {
    "duration": 14,
    "start_time": "2022-11-18T11:35:32.300Z"
   },
   {
    "duration": 15,
    "start_time": "2022-11-18T11:36:12.605Z"
   },
   {
    "duration": 5,
    "start_time": "2022-11-18T11:36:45.631Z"
   },
   {
    "duration": 5,
    "start_time": "2022-11-18T11:36:57.789Z"
   },
   {
    "duration": 12,
    "start_time": "2022-11-18T11:39:08.607Z"
   },
   {
    "duration": 14,
    "start_time": "2022-11-18T11:40:32.841Z"
   },
   {
    "duration": 6,
    "start_time": "2022-11-18T11:40:48.674Z"
   },
   {
    "duration": 7,
    "start_time": "2022-11-18T11:41:02.087Z"
   },
   {
    "duration": 14,
    "start_time": "2022-11-18T11:42:39.168Z"
   },
   {
    "duration": 11,
    "start_time": "2022-11-18T11:44:26.068Z"
   },
   {
    "duration": 16,
    "start_time": "2022-11-18T11:45:47.031Z"
   },
   {
    "duration": 10,
    "start_time": "2022-11-18T11:46:10.196Z"
   },
   {
    "duration": 15,
    "start_time": "2022-11-18T11:48:41.132Z"
   },
   {
    "duration": 5,
    "start_time": "2022-11-18T11:48:51.148Z"
   },
   {
    "duration": 5,
    "start_time": "2022-11-18T11:49:43.644Z"
   },
   {
    "duration": 6,
    "start_time": "2022-11-18T11:50:24.327Z"
   },
   {
    "duration": 4,
    "start_time": "2022-11-18T11:50:37.852Z"
   },
   {
    "duration": 5,
    "start_time": "2022-11-18T11:51:56.053Z"
   },
   {
    "duration": 4,
    "start_time": "2022-11-18T11:52:59.131Z"
   },
   {
    "duration": 2,
    "start_time": "2022-11-18T13:32:36.074Z"
   },
   {
    "duration": 1679,
    "start_time": "2022-11-19T03:10:12.391Z"
   },
   {
    "duration": 2023,
    "start_time": "2022-11-19T03:10:14.072Z"
   },
   {
    "duration": 21,
    "start_time": "2022-11-19T03:10:16.097Z"
   },
   {
    "duration": 18,
    "start_time": "2022-11-19T03:10:16.120Z"
   },
   {
    "duration": 24,
    "start_time": "2022-11-19T03:10:16.140Z"
   },
   {
    "duration": 50,
    "start_time": "2022-11-19T03:10:16.167Z"
   },
   {
    "duration": 4,
    "start_time": "2022-11-19T03:10:16.219Z"
   },
   {
    "duration": 7,
    "start_time": "2022-11-19T03:10:16.252Z"
   },
   {
    "duration": 3,
    "start_time": "2022-11-19T03:10:16.261Z"
   },
   {
    "duration": 9,
    "start_time": "2022-11-19T03:10:16.268Z"
   },
   {
    "duration": 5,
    "start_time": "2022-11-19T03:10:16.279Z"
   },
   {
    "duration": 156,
    "start_time": "2022-11-19T03:10:16.286Z"
   },
   {
    "duration": 18043,
    "start_time": "2022-11-19T03:10:16.451Z"
   },
   {
    "duration": 29,
    "start_time": "2022-11-19T03:10:34.495Z"
   },
   {
    "duration": 25,
    "start_time": "2022-11-19T03:10:34.526Z"
   },
   {
    "duration": 15,
    "start_time": "2022-11-19T03:10:34.553Z"
   },
   {
    "duration": 8,
    "start_time": "2022-11-19T03:10:34.570Z"
   },
   {
    "duration": 1041,
    "start_time": "2022-11-19T03:10:34.580Z"
   },
   {
    "duration": 8,
    "start_time": "2022-11-19T03:10:35.623Z"
   },
   {
    "duration": 373,
    "start_time": "2022-11-19T03:10:35.633Z"
   },
   {
    "duration": 400,
    "start_time": "2022-11-19T03:10:36.008Z"
   },
   {
    "duration": 521,
    "start_time": "2022-11-19T03:10:36.410Z"
   },
   {
    "duration": 406,
    "start_time": "2022-11-19T03:10:36.933Z"
   },
   {
    "duration": 383,
    "start_time": "2022-11-19T03:10:37.340Z"
   },
   {
    "duration": 382,
    "start_time": "2022-11-19T03:10:37.726Z"
   },
   {
    "duration": 9,
    "start_time": "2022-11-19T03:10:38.110Z"
   },
   {
    "duration": 33,
    "start_time": "2022-11-19T03:10:38.121Z"
   },
   {
    "duration": 4,
    "start_time": "2022-11-19T03:10:38.157Z"
   },
   {
    "duration": 20,
    "start_time": "2022-11-19T03:10:38.163Z"
   },
   {
    "duration": 76,
    "start_time": "2022-11-19T03:10:38.185Z"
   },
   {
    "duration": 7,
    "start_time": "2022-11-19T03:38:00.461Z"
   },
   {
    "duration": 125,
    "start_time": "2022-11-19T03:47:40.501Z"
   },
   {
    "duration": 70,
    "start_time": "2022-11-19T03:47:57.429Z"
   },
   {
    "duration": 3,
    "start_time": "2022-11-19T03:48:07.373Z"
   },
   {
    "duration": 696,
    "start_time": "2022-11-19T03:48:07.378Z"
   },
   {
    "duration": 19,
    "start_time": "2022-11-19T03:48:08.075Z"
   },
   {
    "duration": 23,
    "start_time": "2022-11-19T03:48:08.095Z"
   },
   {
    "duration": 13,
    "start_time": "2022-11-19T03:48:08.121Z"
   },
   {
    "duration": 46,
    "start_time": "2022-11-19T03:48:08.152Z"
   },
   {
    "duration": 12,
    "start_time": "2022-11-19T03:48:08.200Z"
   },
   {
    "duration": 11,
    "start_time": "2022-11-19T03:48:08.214Z"
   },
   {
    "duration": 6,
    "start_time": "2022-11-19T03:48:08.227Z"
   },
   {
    "duration": 18,
    "start_time": "2022-11-19T03:48:08.235Z"
   },
   {
    "duration": 5,
    "start_time": "2022-11-19T03:48:08.255Z"
   },
   {
    "duration": 9,
    "start_time": "2022-11-19T03:48:08.261Z"
   },
   {
    "duration": 104,
    "start_time": "2022-11-19T03:48:08.272Z"
   },
   {
    "duration": 7149,
    "start_time": "2022-11-19T03:48:08.379Z"
   },
   {
    "duration": 23,
    "start_time": "2022-11-19T03:48:15.530Z"
   },
   {
    "duration": 7,
    "start_time": "2022-11-19T03:48:15.555Z"
   },
   {
    "duration": 14,
    "start_time": "2022-11-19T03:48:15.563Z"
   },
   {
    "duration": 7,
    "start_time": "2022-11-19T03:48:15.579Z"
   },
   {
    "duration": 1023,
    "start_time": "2022-11-19T03:48:15.588Z"
   },
   {
    "duration": 9,
    "start_time": "2022-11-19T03:48:16.613Z"
   },
   {
    "duration": 529,
    "start_time": "2022-11-19T03:48:16.624Z"
   },
   {
    "duration": 408,
    "start_time": "2022-11-19T03:48:17.155Z"
   },
   {
    "duration": 431,
    "start_time": "2022-11-19T03:48:17.565Z"
   },
   {
    "duration": 587,
    "start_time": "2022-11-19T03:48:17.998Z"
   },
   {
    "duration": 381,
    "start_time": "2022-11-19T03:48:18.587Z"
   },
   {
    "duration": 426,
    "start_time": "2022-11-19T03:48:18.969Z"
   },
   {
    "duration": 9,
    "start_time": "2022-11-19T03:48:19.397Z"
   },
   {
    "duration": 12,
    "start_time": "2022-11-19T03:48:19.408Z"
   },
   {
    "duration": 8,
    "start_time": "2022-11-19T03:48:19.422Z"
   },
   {
    "duration": 19,
    "start_time": "2022-11-19T03:48:19.432Z"
   },
   {
    "duration": 96,
    "start_time": "2022-11-19T03:48:19.453Z"
   },
   {
    "duration": 16,
    "start_time": "2022-11-19T04:04:51.314Z"
   },
   {
    "duration": 24,
    "start_time": "2022-11-19T04:17:24.062Z"
   },
   {
    "duration": 17,
    "start_time": "2022-11-19T04:26:58.438Z"
   },
   {
    "duration": 4,
    "start_time": "2022-11-19T04:27:12.325Z"
   },
   {
    "duration": 5136,
    "start_time": "2022-11-19T04:34:56.217Z"
   },
   {
    "duration": 4819,
    "start_time": "2022-11-19T04:35:22.589Z"
   },
   {
    "duration": 48,
    "start_time": "2022-11-19T04:37:02.574Z"
   },
   {
    "duration": 12,
    "start_time": "2022-11-19T04:37:37.603Z"
   },
   {
    "duration": 53,
    "start_time": "2022-11-19T04:37:59.818Z"
   },
   {
    "duration": 5,
    "start_time": "2022-11-19T04:39:22.611Z"
   },
   {
    "duration": 5,
    "start_time": "2022-11-19T04:39:40.980Z"
   },
   {
    "duration": 18,
    "start_time": "2022-11-19T04:39:52.728Z"
   },
   {
    "duration": 8,
    "start_time": "2022-11-19T04:40:11.860Z"
   },
   {
    "duration": 8,
    "start_time": "2022-11-19T04:40:21.844Z"
   },
   {
    "duration": 5,
    "start_time": "2022-11-19T04:41:28.437Z"
   },
   {
    "duration": 82476,
    "start_time": "2022-11-19T04:41:54.225Z"
   },
   {
    "duration": 246,
    "start_time": "2022-11-19T04:43:44.038Z"
   },
   {
    "duration": 8839,
    "start_time": "2022-11-19T04:44:14.865Z"
   },
   {
    "duration": 4,
    "start_time": "2022-11-19T04:45:29.135Z"
   },
   {
    "duration": 4454,
    "start_time": "2022-11-19T04:45:34.272Z"
   },
   {
    "duration": 3,
    "start_time": "2022-11-19T04:48:23.168Z"
   },
   {
    "duration": 2458,
    "start_time": "2022-11-19T04:48:27.305Z"
   },
   {
    "duration": 6193,
    "start_time": "2022-11-19T05:00:06.184Z"
   },
   {
    "duration": 4,
    "start_time": "2022-11-19T05:46:29.442Z"
   },
   {
    "duration": 3,
    "start_time": "2022-11-19T05:47:30.195Z"
   },
   {
    "duration": 7166,
    "start_time": "2022-11-19T05:48:02.289Z"
   },
   {
    "duration": 3,
    "start_time": "2022-11-19T05:48:32.316Z"
   },
   {
    "duration": 12784,
    "start_time": "2022-11-19T05:48:36.278Z"
   },
   {
    "duration": 4,
    "start_time": "2022-11-19T05:50:33.878Z"
   },
   {
    "duration": 44277,
    "start_time": "2022-11-19T05:50:42.779Z"
   },
   {
    "duration": 4,
    "start_time": "2022-11-19T05:52:05.584Z"
   },
   {
    "duration": 0,
    "start_time": "2022-11-19T06:06:35.256Z"
   },
   {
    "duration": 4,
    "start_time": "2022-11-19T06:06:58.190Z"
   },
   {
    "duration": 24760,
    "start_time": "2022-11-19T06:07:04.277Z"
   },
   {
    "duration": 18159,
    "start_time": "2022-11-19T06:07:45.180Z"
   },
   {
    "duration": 51161,
    "start_time": "2022-11-19T06:08:08.236Z"
   },
   {
    "duration": 562952,
    "start_time": "2022-11-19T06:09:24.503Z"
   },
   {
    "duration": 39,
    "start_time": "2022-11-19T06:32:32.544Z"
   },
   {
    "duration": 582119,
    "start_time": "2022-11-19T06:34:15.816Z"
   },
   {
    "duration": 58,
    "start_time": "2022-11-19T06:57:46.979Z"
   },
   {
    "duration": 4462,
    "start_time": "2022-11-19T06:58:11.295Z"
   },
   {
    "duration": 4235,
    "start_time": "2022-11-19T06:58:52.665Z"
   },
   {
    "duration": 4613,
    "start_time": "2022-11-19T06:59:09.979Z"
   },
   {
    "duration": 4841,
    "start_time": "2022-11-19T07:02:03.445Z"
   },
   {
    "duration": 4901,
    "start_time": "2022-11-19T07:02:38.570Z"
   },
   {
    "duration": 6,
    "start_time": "2022-11-19T07:34:47.710Z"
   },
   {
    "duration": 5,
    "start_time": "2022-11-19T07:35:24.972Z"
   },
   {
    "duration": 4,
    "start_time": "2022-11-19T07:35:42.398Z"
   },
   {
    "duration": 51,
    "start_time": "2022-11-20T05:32:44.690Z"
   },
   {
    "duration": 1447,
    "start_time": "2022-11-20T05:32:54.154Z"
   },
   {
    "duration": 2814,
    "start_time": "2022-11-20T05:32:55.603Z"
   },
   {
    "duration": 20,
    "start_time": "2022-11-20T05:32:58.419Z"
   },
   {
    "duration": 16,
    "start_time": "2022-11-20T05:32:58.441Z"
   },
   {
    "duration": 13,
    "start_time": "2022-11-20T05:32:58.458Z"
   },
   {
    "duration": 64,
    "start_time": "2022-11-20T05:32:58.472Z"
   },
   {
    "duration": 3,
    "start_time": "2022-11-20T05:32:58.538Z"
   },
   {
    "duration": 16,
    "start_time": "2022-11-20T05:32:58.542Z"
   },
   {
    "duration": 4,
    "start_time": "2022-11-20T05:32:58.560Z"
   },
   {
    "duration": 8,
    "start_time": "2022-11-20T05:32:58.566Z"
   },
   {
    "duration": 11,
    "start_time": "2022-11-20T05:32:58.576Z"
   },
   {
    "duration": 7,
    "start_time": "2022-11-20T05:32:58.589Z"
   },
   {
    "duration": 84,
    "start_time": "2022-11-20T05:32:58.597Z"
   },
   {
    "duration": 6361,
    "start_time": "2022-11-20T05:32:58.683Z"
   },
   {
    "duration": 18,
    "start_time": "2022-11-20T05:33:05.045Z"
   },
   {
    "duration": 6,
    "start_time": "2022-11-20T05:33:05.064Z"
   },
   {
    "duration": 14,
    "start_time": "2022-11-20T05:33:05.071Z"
   },
   {
    "duration": 6,
    "start_time": "2022-11-20T05:33:05.086Z"
   },
   {
    "duration": 926,
    "start_time": "2022-11-20T05:33:05.094Z"
   },
   {
    "duration": 8,
    "start_time": "2022-11-20T05:33:06.021Z"
   },
   {
    "duration": 323,
    "start_time": "2022-11-20T05:33:06.030Z"
   },
   {
    "duration": 366,
    "start_time": "2022-11-20T05:33:06.355Z"
   },
   {
    "duration": 435,
    "start_time": "2022-11-20T05:33:06.722Z"
   },
   {
    "duration": 361,
    "start_time": "2022-11-20T05:33:07.158Z"
   },
   {
    "duration": 336,
    "start_time": "2022-11-20T05:33:07.521Z"
   },
   {
    "duration": 343,
    "start_time": "2022-11-20T05:33:07.858Z"
   },
   {
    "duration": 7,
    "start_time": "2022-11-20T05:33:08.202Z"
   },
   {
    "duration": 12,
    "start_time": "2022-11-20T05:33:08.221Z"
   },
   {
    "duration": 5,
    "start_time": "2022-11-20T05:33:08.234Z"
   },
   {
    "duration": 34,
    "start_time": "2022-11-20T05:33:08.240Z"
   },
   {
    "duration": 34335,
    "start_time": "2022-11-20T05:33:08.275Z"
   },
   {
    "duration": 0,
    "start_time": "2022-11-20T05:33:42.621Z"
   },
   {
    "duration": 0,
    "start_time": "2022-11-20T05:33:42.622Z"
   },
   {
    "duration": 0,
    "start_time": "2022-11-20T05:33:42.623Z"
   },
   {
    "duration": 0,
    "start_time": "2022-11-20T05:33:42.624Z"
   },
   {
    "duration": 0,
    "start_time": "2022-11-20T05:33:42.625Z"
   },
   {
    "duration": 831,
    "start_time": "2022-11-20T05:34:05.076Z"
   },
   {
    "duration": 903,
    "start_time": "2022-11-20T05:38:37.233Z"
   },
   {
    "duration": 46,
    "start_time": "2022-11-20T06:04:11.576Z"
   },
   {
    "duration": 5,
    "start_time": "2022-11-20T06:15:40.467Z"
   },
   {
    "duration": 10,
    "start_time": "2022-11-20T06:22:21.440Z"
   },
   {
    "duration": 236,
    "start_time": "2022-11-20T06:26:14.050Z"
   },
   {
    "duration": 225,
    "start_time": "2022-11-20T06:26:36.176Z"
   },
   {
    "duration": 289,
    "start_time": "2022-11-20T06:26:42.619Z"
   },
   {
    "duration": 294,
    "start_time": "2022-11-20T06:26:47.964Z"
   },
   {
    "duration": 325,
    "start_time": "2022-11-20T06:27:01.268Z"
   },
   {
    "duration": 275,
    "start_time": "2022-11-20T06:27:09.557Z"
   },
   {
    "duration": 290,
    "start_time": "2022-11-20T06:27:17.694Z"
   },
   {
    "duration": 301,
    "start_time": "2022-11-20T06:27:25.935Z"
   },
   {
    "duration": 526,
    "start_time": "2022-11-20T06:27:30.079Z"
   },
   {
    "duration": 287,
    "start_time": "2022-11-20T06:27:35.695Z"
   },
   {
    "duration": 283,
    "start_time": "2022-11-20T06:27:44.700Z"
   },
   {
    "duration": 300,
    "start_time": "2022-11-20T06:29:26.184Z"
   },
   {
    "duration": 315,
    "start_time": "2022-11-20T06:29:34.395Z"
   },
   {
    "duration": 804,
    "start_time": "2022-11-20T06:33:47.762Z"
   },
   {
    "duration": 783,
    "start_time": "2022-11-20T06:34:09.310Z"
   },
   {
    "duration": 728,
    "start_time": "2022-11-20T06:34:15.636Z"
   },
   {
    "duration": 578,
    "start_time": "2022-11-20T06:35:16.843Z"
   },
   {
    "duration": 635,
    "start_time": "2022-11-20T06:35:25.815Z"
   },
   {
    "duration": 484,
    "start_time": "2022-11-20T06:38:38.060Z"
   },
   {
    "duration": 309,
    "start_time": "2022-11-20T06:38:43.458Z"
   },
   {
    "duration": 336,
    "start_time": "2022-11-20T06:38:59.002Z"
   },
   {
    "duration": 314,
    "start_time": "2022-11-20T06:39:23.446Z"
   },
   {
    "duration": 330,
    "start_time": "2022-11-20T06:40:11.735Z"
   },
   {
    "duration": 322,
    "start_time": "2022-11-20T06:40:16.914Z"
   },
   {
    "duration": 450,
    "start_time": "2022-11-20T06:40:40.024Z"
   },
   {
    "duration": 439,
    "start_time": "2022-11-20T06:41:06.786Z"
   },
   {
    "duration": 958,
    "start_time": "2022-11-20T06:41:50.956Z"
   },
   {
    "duration": 1459,
    "start_time": "2022-11-20T06:51:57.458Z"
   },
   {
    "duration": 1327,
    "start_time": "2022-11-20T06:52:21.935Z"
   },
   {
    "duration": 2910,
    "start_time": "2022-11-20T06:53:24.974Z"
   },
   {
    "duration": 2554,
    "start_time": "2022-11-20T06:53:41.330Z"
   },
   {
    "duration": 1563,
    "start_time": "2022-11-20T06:53:59.908Z"
   },
   {
    "duration": 1650,
    "start_time": "2022-11-20T06:55:29.552Z"
   },
   {
    "duration": 1326,
    "start_time": "2022-11-20T06:56:14.068Z"
   },
   {
    "duration": 1621,
    "start_time": "2022-11-20T06:56:23.315Z"
   },
   {
    "duration": 2720,
    "start_time": "2022-11-20T06:57:16.544Z"
   },
   {
    "duration": 55,
    "start_time": "2022-11-20T06:57:54.191Z"
   },
   {
    "duration": 2614,
    "start_time": "2022-11-20T06:58:00.022Z"
   },
   {
    "duration": 2570,
    "start_time": "2022-11-20T06:58:21.829Z"
   },
   {
    "duration": 2546,
    "start_time": "2022-11-20T06:59:41.850Z"
   },
   {
    "duration": 2459,
    "start_time": "2022-11-20T06:59:54.007Z"
   },
   {
    "duration": 2504,
    "start_time": "2022-11-20T07:00:09.645Z"
   },
   {
    "duration": 2428,
    "start_time": "2022-11-20T07:00:36.206Z"
   }
  ],
  "kernelspec": {
   "display_name": "Python 3 (ipykernel)",
   "language": "python",
   "name": "python3"
  },
  "language_info": {
   "codemirror_mode": {
    "name": "ipython",
    "version": 3
   },
   "file_extension": ".py",
   "mimetype": "text/x-python",
   "name": "python",
   "nbconvert_exporter": "python",
   "pygments_lexer": "ipython3",
   "version": "3.9.15"
  },
  "toc": {
   "base_numbering": 1,
   "nav_menu": {},
   "number_sections": true,
   "sideBar": true,
   "skip_h1_title": true,
   "title_cell": "Содержание",
   "title_sidebar": "Contents",
   "toc_cell": true,
   "toc_position": {
    "height": "calc(100% - 180px)",
    "left": "10px",
    "top": "150px",
    "width": "286.075px"
   },
   "toc_section_display": true,
   "toc_window_display": false
  }
 },
 "nbformat": 4,
 "nbformat_minor": 4
}
